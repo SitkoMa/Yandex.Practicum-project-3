{
 "cells": [
  {
   "cell_type": "markdown",
   "metadata": {
    "id": "-VFbjcb3Awb7"
   },
   "source": [
    "# Исследование объявлений о продаже квартир\n",
    "\n",
    "В вашем распоряжении данные сервиса Яндекс Недвижимость — архив объявлений о продаже квартир в Санкт-Петербурге и соседних населённых пунктах за несколько лет. Вам нужно научиться определять рыночную стоимость объектов недвижимости. Для этого проведите исследовательский анализ данных и установите параметры, влияющие на цену объектов. Это позволит построить автоматизированную систему: она отследит аномалии и мошенническую деятельность.\n",
    "\n",
    "По каждой квартире на продажу доступны два вида данных. Первые вписаны пользователем, вторые — получены автоматически на основе картографических данных. Например, расстояние до центра, аэропорта и других объектов — эти данные автоматически получены из геосервисов. Количество парков и водоёмов также заполняется без участия пользователя."
   ]
  },
  {
   "cell_type": "markdown",
   "metadata": {
    "id": "aeFLH07FAwb9"
   },
   "source": [
    "### Откройте файл с данными и изучите общую информацию"
   ]
  },
  {
   "cell_type": "code",
   "execution_count": 78,
   "metadata": {
    "id": "7MZxY65pAwb9"
   },
   "outputs": [],
   "source": [
    "#Для начала нужно импортировать библиотеки, чтобы строить графики и читать файлы. \n",
    "import pandas as pd\n",
    "import matplotlib.pyplot as plt\n",
    "import seaborn as sns\n",
    "from IPython.display import display"
   ]
  },
  {
   "cell_type": "code",
   "execution_count": 79,
   "metadata": {},
   "outputs": [],
   "source": [
    "#Прочитаем файл с данными\n",
    "data = pd.read_csv('real_estate_data.csv', sep = '\\t')"
   ]
  },
  {
   "cell_type": "code",
   "execution_count": 10,
   "metadata": {},
   "outputs": [
    {
     "data": {
      "text/html": [
       "<div>\n",
       "<style scoped>\n",
       "    .dataframe tbody tr th:only-of-type {\n",
       "        vertical-align: middle;\n",
       "    }\n",
       "\n",
       "    .dataframe tbody tr th {\n",
       "        vertical-align: top;\n",
       "    }\n",
       "\n",
       "    .dataframe thead th {\n",
       "        text-align: right;\n",
       "    }\n",
       "</style>\n",
       "<table border=\"1\" class=\"dataframe\">\n",
       "  <thead>\n",
       "    <tr style=\"text-align: right;\">\n",
       "      <th></th>\n",
       "      <th>total_images</th>\n",
       "      <th>last_price</th>\n",
       "      <th>total_area</th>\n",
       "      <th>first_day_exposition</th>\n",
       "      <th>rooms</th>\n",
       "      <th>ceiling_height</th>\n",
       "      <th>floors_total</th>\n",
       "      <th>living_area</th>\n",
       "      <th>floor</th>\n",
       "      <th>is_apartment</th>\n",
       "      <th>studio</th>\n",
       "      <th>open_plan</th>\n",
       "      <th>kitchen_area</th>\n",
       "      <th>balcony</th>\n",
       "      <th>locality_name</th>\n",
       "      <th>airports_nearest</th>\n",
       "      <th>cityCenters_nearest</th>\n",
       "      <th>parks_around3000</th>\n",
       "      <th>parks_nearest</th>\n",
       "      <th>ponds_around3000</th>\n",
       "      <th>ponds_nearest</th>\n",
       "      <th>days_exposition</th>\n",
       "    </tr>\n",
       "  </thead>\n",
       "  <tbody>\n",
       "    <tr>\n",
       "      <th>0</th>\n",
       "      <td>20</td>\n",
       "      <td>13000000.0</td>\n",
       "      <td>108.0</td>\n",
       "      <td>2019-03-07T00:00:00</td>\n",
       "      <td>3</td>\n",
       "      <td>2.70</td>\n",
       "      <td>16.0</td>\n",
       "      <td>51.0</td>\n",
       "      <td>8</td>\n",
       "      <td>NaN</td>\n",
       "      <td>False</td>\n",
       "      <td>False</td>\n",
       "      <td>25.0</td>\n",
       "      <td>NaN</td>\n",
       "      <td>Санкт-Петербург</td>\n",
       "      <td>18863.0</td>\n",
       "      <td>16028.0</td>\n",
       "      <td>1.0</td>\n",
       "      <td>482.0</td>\n",
       "      <td>2.0</td>\n",
       "      <td>755.0</td>\n",
       "      <td>NaN</td>\n",
       "    </tr>\n",
       "    <tr>\n",
       "      <th>1</th>\n",
       "      <td>7</td>\n",
       "      <td>3350000.0</td>\n",
       "      <td>40.4</td>\n",
       "      <td>2018-12-04T00:00:00</td>\n",
       "      <td>1</td>\n",
       "      <td>NaN</td>\n",
       "      <td>11.0</td>\n",
       "      <td>18.6</td>\n",
       "      <td>1</td>\n",
       "      <td>NaN</td>\n",
       "      <td>False</td>\n",
       "      <td>False</td>\n",
       "      <td>11.0</td>\n",
       "      <td>2.0</td>\n",
       "      <td>посёлок Шушары</td>\n",
       "      <td>12817.0</td>\n",
       "      <td>18603.0</td>\n",
       "      <td>0.0</td>\n",
       "      <td>NaN</td>\n",
       "      <td>0.0</td>\n",
       "      <td>NaN</td>\n",
       "      <td>81.0</td>\n",
       "    </tr>\n",
       "    <tr>\n",
       "      <th>2</th>\n",
       "      <td>10</td>\n",
       "      <td>5196000.0</td>\n",
       "      <td>56.0</td>\n",
       "      <td>2015-08-20T00:00:00</td>\n",
       "      <td>2</td>\n",
       "      <td>NaN</td>\n",
       "      <td>5.0</td>\n",
       "      <td>34.3</td>\n",
       "      <td>4</td>\n",
       "      <td>NaN</td>\n",
       "      <td>False</td>\n",
       "      <td>False</td>\n",
       "      <td>8.3</td>\n",
       "      <td>0.0</td>\n",
       "      <td>Санкт-Петербург</td>\n",
       "      <td>21741.0</td>\n",
       "      <td>13933.0</td>\n",
       "      <td>1.0</td>\n",
       "      <td>90.0</td>\n",
       "      <td>2.0</td>\n",
       "      <td>574.0</td>\n",
       "      <td>558.0</td>\n",
       "    </tr>\n",
       "    <tr>\n",
       "      <th>3</th>\n",
       "      <td>0</td>\n",
       "      <td>64900000.0</td>\n",
       "      <td>159.0</td>\n",
       "      <td>2015-07-24T00:00:00</td>\n",
       "      <td>3</td>\n",
       "      <td>NaN</td>\n",
       "      <td>14.0</td>\n",
       "      <td>NaN</td>\n",
       "      <td>9</td>\n",
       "      <td>NaN</td>\n",
       "      <td>False</td>\n",
       "      <td>False</td>\n",
       "      <td>NaN</td>\n",
       "      <td>0.0</td>\n",
       "      <td>Санкт-Петербург</td>\n",
       "      <td>28098.0</td>\n",
       "      <td>6800.0</td>\n",
       "      <td>2.0</td>\n",
       "      <td>84.0</td>\n",
       "      <td>3.0</td>\n",
       "      <td>234.0</td>\n",
       "      <td>424.0</td>\n",
       "    </tr>\n",
       "    <tr>\n",
       "      <th>4</th>\n",
       "      <td>2</td>\n",
       "      <td>10000000.0</td>\n",
       "      <td>100.0</td>\n",
       "      <td>2018-06-19T00:00:00</td>\n",
       "      <td>2</td>\n",
       "      <td>3.03</td>\n",
       "      <td>14.0</td>\n",
       "      <td>32.0</td>\n",
       "      <td>13</td>\n",
       "      <td>NaN</td>\n",
       "      <td>False</td>\n",
       "      <td>False</td>\n",
       "      <td>41.0</td>\n",
       "      <td>NaN</td>\n",
       "      <td>Санкт-Петербург</td>\n",
       "      <td>31856.0</td>\n",
       "      <td>8098.0</td>\n",
       "      <td>2.0</td>\n",
       "      <td>112.0</td>\n",
       "      <td>1.0</td>\n",
       "      <td>48.0</td>\n",
       "      <td>121.0</td>\n",
       "    </tr>\n",
       "  </tbody>\n",
       "</table>\n",
       "</div>"
      ],
      "text/plain": [
       "   total_images  last_price  total_area first_day_exposition  rooms  \\\n",
       "0            20  13000000.0       108.0  2019-03-07T00:00:00      3   \n",
       "1             7   3350000.0        40.4  2018-12-04T00:00:00      1   \n",
       "2            10   5196000.0        56.0  2015-08-20T00:00:00      2   \n",
       "3             0  64900000.0       159.0  2015-07-24T00:00:00      3   \n",
       "4             2  10000000.0       100.0  2018-06-19T00:00:00      2   \n",
       "\n",
       "   ceiling_height  floors_total  living_area  floor is_apartment  studio  \\\n",
       "0            2.70          16.0         51.0      8          NaN   False   \n",
       "1             NaN          11.0         18.6      1          NaN   False   \n",
       "2             NaN           5.0         34.3      4          NaN   False   \n",
       "3             NaN          14.0          NaN      9          NaN   False   \n",
       "4            3.03          14.0         32.0     13          NaN   False   \n",
       "\n",
       "   open_plan  kitchen_area  balcony    locality_name  airports_nearest  \\\n",
       "0      False          25.0      NaN  Санкт-Петербург           18863.0   \n",
       "1      False          11.0      2.0   посёлок Шушары           12817.0   \n",
       "2      False           8.3      0.0  Санкт-Петербург           21741.0   \n",
       "3      False           NaN      0.0  Санкт-Петербург           28098.0   \n",
       "4      False          41.0      NaN  Санкт-Петербург           31856.0   \n",
       "\n",
       "   cityCenters_nearest  parks_around3000  parks_nearest  ponds_around3000  \\\n",
       "0              16028.0               1.0          482.0               2.0   \n",
       "1              18603.0               0.0            NaN               0.0   \n",
       "2              13933.0               1.0           90.0               2.0   \n",
       "3               6800.0               2.0           84.0               3.0   \n",
       "4               8098.0               2.0          112.0               1.0   \n",
       "\n",
       "   ponds_nearest  days_exposition  \n",
       "0          755.0              NaN  \n",
       "1            NaN             81.0  \n",
       "2          574.0            558.0  \n",
       "3          234.0            424.0  \n",
       "4           48.0            121.0  "
      ]
     },
     "metadata": {},
     "output_type": "display_data"
    },
    {
     "name": "stdout",
     "output_type": "stream",
     "text": [
      "None\n"
     ]
    }
   ],
   "source": [
    "#Откроем первые 5 строк датафрейма, чтобы изучить данные \n",
    "pd.set_option('display.max_columns', None)\n",
    "print(display(data.head(5)))"
   ]
  },
  {
   "cell_type": "code",
   "execution_count": 11,
   "metadata": {},
   "outputs": [
    {
     "data": {
      "text/html": [
       "<div>\n",
       "<style scoped>\n",
       "    .dataframe tbody tr th:only-of-type {\n",
       "        vertical-align: middle;\n",
       "    }\n",
       "\n",
       "    .dataframe tbody tr th {\n",
       "        vertical-align: top;\n",
       "    }\n",
       "\n",
       "    .dataframe thead th {\n",
       "        text-align: right;\n",
       "    }\n",
       "</style>\n",
       "<table border=\"1\" class=\"dataframe\">\n",
       "  <thead>\n",
       "    <tr style=\"text-align: right;\">\n",
       "      <th></th>\n",
       "      <th>total_images</th>\n",
       "      <th>last_price</th>\n",
       "      <th>total_area</th>\n",
       "      <th>first_day_exposition</th>\n",
       "      <th>rooms</th>\n",
       "      <th>ceiling_height</th>\n",
       "      <th>floors_total</th>\n",
       "      <th>living_area</th>\n",
       "      <th>floor</th>\n",
       "      <th>is_apartment</th>\n",
       "      <th>studio</th>\n",
       "      <th>open_plan</th>\n",
       "      <th>kitchen_area</th>\n",
       "      <th>balcony</th>\n",
       "      <th>locality_name</th>\n",
       "      <th>airports_nearest</th>\n",
       "      <th>cityCenters_nearest</th>\n",
       "      <th>parks_around3000</th>\n",
       "      <th>parks_nearest</th>\n",
       "      <th>ponds_around3000</th>\n",
       "      <th>ponds_nearest</th>\n",
       "      <th>days_exposition</th>\n",
       "    </tr>\n",
       "  </thead>\n",
       "  <tbody>\n",
       "    <tr>\n",
       "      <th>23694</th>\n",
       "      <td>9</td>\n",
       "      <td>9700000.0</td>\n",
       "      <td>133.81</td>\n",
       "      <td>2017-03-21T00:00:00</td>\n",
       "      <td>3</td>\n",
       "      <td>3.7</td>\n",
       "      <td>5.0</td>\n",
       "      <td>73.3</td>\n",
       "      <td>3</td>\n",
       "      <td>NaN</td>\n",
       "      <td>False</td>\n",
       "      <td>False</td>\n",
       "      <td>13.83</td>\n",
       "      <td>NaN</td>\n",
       "      <td>Санкт-Петербург</td>\n",
       "      <td>24665.0</td>\n",
       "      <td>4232.0</td>\n",
       "      <td>1.0</td>\n",
       "      <td>796.0</td>\n",
       "      <td>3.0</td>\n",
       "      <td>381.0</td>\n",
       "      <td>NaN</td>\n",
       "    </tr>\n",
       "    <tr>\n",
       "      <th>23695</th>\n",
       "      <td>14</td>\n",
       "      <td>3100000.0</td>\n",
       "      <td>59.00</td>\n",
       "      <td>2018-01-15T00:00:00</td>\n",
       "      <td>3</td>\n",
       "      <td>NaN</td>\n",
       "      <td>5.0</td>\n",
       "      <td>38.0</td>\n",
       "      <td>4</td>\n",
       "      <td>NaN</td>\n",
       "      <td>False</td>\n",
       "      <td>False</td>\n",
       "      <td>8.50</td>\n",
       "      <td>NaN</td>\n",
       "      <td>Тосно</td>\n",
       "      <td>NaN</td>\n",
       "      <td>NaN</td>\n",
       "      <td>NaN</td>\n",
       "      <td>NaN</td>\n",
       "      <td>NaN</td>\n",
       "      <td>NaN</td>\n",
       "      <td>45.0</td>\n",
       "    </tr>\n",
       "    <tr>\n",
       "      <th>23696</th>\n",
       "      <td>18</td>\n",
       "      <td>2500000.0</td>\n",
       "      <td>56.70</td>\n",
       "      <td>2018-02-11T00:00:00</td>\n",
       "      <td>2</td>\n",
       "      <td>NaN</td>\n",
       "      <td>3.0</td>\n",
       "      <td>29.7</td>\n",
       "      <td>1</td>\n",
       "      <td>NaN</td>\n",
       "      <td>False</td>\n",
       "      <td>False</td>\n",
       "      <td>NaN</td>\n",
       "      <td>NaN</td>\n",
       "      <td>село Рождествено</td>\n",
       "      <td>NaN</td>\n",
       "      <td>NaN</td>\n",
       "      <td>NaN</td>\n",
       "      <td>NaN</td>\n",
       "      <td>NaN</td>\n",
       "      <td>NaN</td>\n",
       "      <td>NaN</td>\n",
       "    </tr>\n",
       "    <tr>\n",
       "      <th>23697</th>\n",
       "      <td>13</td>\n",
       "      <td>11475000.0</td>\n",
       "      <td>76.75</td>\n",
       "      <td>2017-03-28T00:00:00</td>\n",
       "      <td>2</td>\n",
       "      <td>3.0</td>\n",
       "      <td>17.0</td>\n",
       "      <td>NaN</td>\n",
       "      <td>12</td>\n",
       "      <td>NaN</td>\n",
       "      <td>False</td>\n",
       "      <td>False</td>\n",
       "      <td>23.30</td>\n",
       "      <td>2.0</td>\n",
       "      <td>Санкт-Петербург</td>\n",
       "      <td>39140.0</td>\n",
       "      <td>10364.0</td>\n",
       "      <td>2.0</td>\n",
       "      <td>173.0</td>\n",
       "      <td>3.0</td>\n",
       "      <td>196.0</td>\n",
       "      <td>602.0</td>\n",
       "    </tr>\n",
       "    <tr>\n",
       "      <th>23698</th>\n",
       "      <td>4</td>\n",
       "      <td>1350000.0</td>\n",
       "      <td>32.30</td>\n",
       "      <td>2017-07-21T00:00:00</td>\n",
       "      <td>1</td>\n",
       "      <td>2.5</td>\n",
       "      <td>5.0</td>\n",
       "      <td>12.3</td>\n",
       "      <td>1</td>\n",
       "      <td>NaN</td>\n",
       "      <td>False</td>\n",
       "      <td>False</td>\n",
       "      <td>9.00</td>\n",
       "      <td>NaN</td>\n",
       "      <td>поселок Новый Учхоз</td>\n",
       "      <td>NaN</td>\n",
       "      <td>NaN</td>\n",
       "      <td>NaN</td>\n",
       "      <td>NaN</td>\n",
       "      <td>NaN</td>\n",
       "      <td>NaN</td>\n",
       "      <td>NaN</td>\n",
       "    </tr>\n",
       "  </tbody>\n",
       "</table>\n",
       "</div>"
      ],
      "text/plain": [
       "       total_images  last_price  total_area first_day_exposition  rooms  \\\n",
       "23694             9   9700000.0      133.81  2017-03-21T00:00:00      3   \n",
       "23695            14   3100000.0       59.00  2018-01-15T00:00:00      3   \n",
       "23696            18   2500000.0       56.70  2018-02-11T00:00:00      2   \n",
       "23697            13  11475000.0       76.75  2017-03-28T00:00:00      2   \n",
       "23698             4   1350000.0       32.30  2017-07-21T00:00:00      1   \n",
       "\n",
       "       ceiling_height  floors_total  living_area  floor is_apartment  studio  \\\n",
       "23694             3.7           5.0         73.3      3          NaN   False   \n",
       "23695             NaN           5.0         38.0      4          NaN   False   \n",
       "23696             NaN           3.0         29.7      1          NaN   False   \n",
       "23697             3.0          17.0          NaN     12          NaN   False   \n",
       "23698             2.5           5.0         12.3      1          NaN   False   \n",
       "\n",
       "       open_plan  kitchen_area  balcony        locality_name  \\\n",
       "23694      False         13.83      NaN      Санкт-Петербург   \n",
       "23695      False          8.50      NaN                Тосно   \n",
       "23696      False           NaN      NaN     село Рождествено   \n",
       "23697      False         23.30      2.0      Санкт-Петербург   \n",
       "23698      False          9.00      NaN  поселок Новый Учхоз   \n",
       "\n",
       "       airports_nearest  cityCenters_nearest  parks_around3000  parks_nearest  \\\n",
       "23694           24665.0               4232.0               1.0          796.0   \n",
       "23695               NaN                  NaN               NaN            NaN   \n",
       "23696               NaN                  NaN               NaN            NaN   \n",
       "23697           39140.0              10364.0               2.0          173.0   \n",
       "23698               NaN                  NaN               NaN            NaN   \n",
       "\n",
       "       ponds_around3000  ponds_nearest  days_exposition  \n",
       "23694               3.0          381.0              NaN  \n",
       "23695               NaN            NaN             45.0  \n",
       "23696               NaN            NaN              NaN  \n",
       "23697               3.0          196.0            602.0  \n",
       "23698               NaN            NaN              NaN  "
      ]
     },
     "metadata": {},
     "output_type": "display_data"
    },
    {
     "name": "stdout",
     "output_type": "stream",
     "text": [
      "None\n"
     ]
    }
   ],
   "source": [
    "#Откроем последние 5 строк датафрейма, чтобы изучить данные \n",
    "print(display(data.tail(5)))"
   ]
  },
  {
   "cell_type": "code",
   "execution_count": 12,
   "metadata": {},
   "outputs": [
    {
     "name": "stdout",
     "output_type": "stream",
     "text": [
      "<class 'pandas.core.frame.DataFrame'>\n",
      "RangeIndex: 23699 entries, 0 to 23698\n",
      "Data columns (total 22 columns):\n",
      " #   Column                Non-Null Count  Dtype  \n",
      "---  ------                --------------  -----  \n",
      " 0   total_images          23699 non-null  int64  \n",
      " 1   last_price            23699 non-null  float64\n",
      " 2   total_area            23699 non-null  float64\n",
      " 3   first_day_exposition  23699 non-null  object \n",
      " 4   rooms                 23699 non-null  int64  \n",
      " 5   ceiling_height        14504 non-null  float64\n",
      " 6   floors_total          23613 non-null  float64\n",
      " 7   living_area           21796 non-null  float64\n",
      " 8   floor                 23699 non-null  int64  \n",
      " 9   is_apartment          2775 non-null   object \n",
      " 10  studio                23699 non-null  bool   \n",
      " 11  open_plan             23699 non-null  bool   \n",
      " 12  kitchen_area          21421 non-null  float64\n",
      " 13  balcony               12180 non-null  float64\n",
      " 14  locality_name         23650 non-null  object \n",
      " 15  airports_nearest      18157 non-null  float64\n",
      " 16  cityCenters_nearest   18180 non-null  float64\n",
      " 17  parks_around3000      18181 non-null  float64\n",
      " 18  parks_nearest         8079 non-null   float64\n",
      " 19  ponds_around3000      18181 non-null  float64\n",
      " 20  ponds_nearest         9110 non-null   float64\n",
      " 21  days_exposition       20518 non-null  float64\n",
      "dtypes: bool(2), float64(14), int64(3), object(3)\n",
      "memory usage: 3.7+ MB\n",
      "None\n"
     ]
    }
   ],
   "source": [
    "# Откроем общую информацию о таблице\n",
    "print(data.info()) "
   ]
  },
  {
   "cell_type": "code",
   "execution_count": 13,
   "metadata": {},
   "outputs": [
    {
     "data": {
      "text/html": [
       "<div>\n",
       "<style scoped>\n",
       "    .dataframe tbody tr th:only-of-type {\n",
       "        vertical-align: middle;\n",
       "    }\n",
       "\n",
       "    .dataframe tbody tr th {\n",
       "        vertical-align: top;\n",
       "    }\n",
       "\n",
       "    .dataframe thead th {\n",
       "        text-align: right;\n",
       "    }\n",
       "</style>\n",
       "<table border=\"1\" class=\"dataframe\">\n",
       "  <thead>\n",
       "    <tr style=\"text-align: right;\">\n",
       "      <th></th>\n",
       "      <th>total_images</th>\n",
       "      <th>last_price</th>\n",
       "      <th>total_area</th>\n",
       "      <th>rooms</th>\n",
       "      <th>ceiling_height</th>\n",
       "      <th>floors_total</th>\n",
       "      <th>living_area</th>\n",
       "      <th>floor</th>\n",
       "      <th>kitchen_area</th>\n",
       "      <th>balcony</th>\n",
       "      <th>airports_nearest</th>\n",
       "      <th>cityCenters_nearest</th>\n",
       "      <th>parks_around3000</th>\n",
       "      <th>parks_nearest</th>\n",
       "      <th>ponds_around3000</th>\n",
       "      <th>ponds_nearest</th>\n",
       "      <th>days_exposition</th>\n",
       "    </tr>\n",
       "  </thead>\n",
       "  <tbody>\n",
       "    <tr>\n",
       "      <th>count</th>\n",
       "      <td>23699.000000</td>\n",
       "      <td>2.369900e+04</td>\n",
       "      <td>23699.000000</td>\n",
       "      <td>23699.000000</td>\n",
       "      <td>14504.000000</td>\n",
       "      <td>23613.000000</td>\n",
       "      <td>21796.000000</td>\n",
       "      <td>23699.000000</td>\n",
       "      <td>21421.000000</td>\n",
       "      <td>12180.000000</td>\n",
       "      <td>18157.000000</td>\n",
       "      <td>18180.000000</td>\n",
       "      <td>18181.000000</td>\n",
       "      <td>8079.000000</td>\n",
       "      <td>18181.000000</td>\n",
       "      <td>9110.000000</td>\n",
       "      <td>20518.000000</td>\n",
       "    </tr>\n",
       "    <tr>\n",
       "      <th>mean</th>\n",
       "      <td>9.858475</td>\n",
       "      <td>6.541549e+06</td>\n",
       "      <td>60.348651</td>\n",
       "      <td>2.070636</td>\n",
       "      <td>2.771499</td>\n",
       "      <td>10.673824</td>\n",
       "      <td>34.457852</td>\n",
       "      <td>5.892358</td>\n",
       "      <td>10.569807</td>\n",
       "      <td>1.150082</td>\n",
       "      <td>28793.672193</td>\n",
       "      <td>14191.277833</td>\n",
       "      <td>0.611408</td>\n",
       "      <td>490.804555</td>\n",
       "      <td>0.770255</td>\n",
       "      <td>517.980900</td>\n",
       "      <td>180.888634</td>\n",
       "    </tr>\n",
       "    <tr>\n",
       "      <th>std</th>\n",
       "      <td>5.682529</td>\n",
       "      <td>1.088701e+07</td>\n",
       "      <td>35.654083</td>\n",
       "      <td>1.078405</td>\n",
       "      <td>1.261056</td>\n",
       "      <td>6.597173</td>\n",
       "      <td>22.030445</td>\n",
       "      <td>4.885249</td>\n",
       "      <td>5.905438</td>\n",
       "      <td>1.071300</td>\n",
       "      <td>12630.880622</td>\n",
       "      <td>8608.386210</td>\n",
       "      <td>0.802074</td>\n",
       "      <td>342.317995</td>\n",
       "      <td>0.938346</td>\n",
       "      <td>277.720643</td>\n",
       "      <td>219.727988</td>\n",
       "    </tr>\n",
       "    <tr>\n",
       "      <th>min</th>\n",
       "      <td>0.000000</td>\n",
       "      <td>1.219000e+04</td>\n",
       "      <td>12.000000</td>\n",
       "      <td>0.000000</td>\n",
       "      <td>1.000000</td>\n",
       "      <td>1.000000</td>\n",
       "      <td>2.000000</td>\n",
       "      <td>1.000000</td>\n",
       "      <td>1.300000</td>\n",
       "      <td>0.000000</td>\n",
       "      <td>0.000000</td>\n",
       "      <td>181.000000</td>\n",
       "      <td>0.000000</td>\n",
       "      <td>1.000000</td>\n",
       "      <td>0.000000</td>\n",
       "      <td>13.000000</td>\n",
       "      <td>1.000000</td>\n",
       "    </tr>\n",
       "    <tr>\n",
       "      <th>25%</th>\n",
       "      <td>6.000000</td>\n",
       "      <td>3.400000e+06</td>\n",
       "      <td>40.000000</td>\n",
       "      <td>1.000000</td>\n",
       "      <td>2.520000</td>\n",
       "      <td>5.000000</td>\n",
       "      <td>18.600000</td>\n",
       "      <td>2.000000</td>\n",
       "      <td>7.000000</td>\n",
       "      <td>0.000000</td>\n",
       "      <td>18585.000000</td>\n",
       "      <td>9238.000000</td>\n",
       "      <td>0.000000</td>\n",
       "      <td>288.000000</td>\n",
       "      <td>0.000000</td>\n",
       "      <td>294.000000</td>\n",
       "      <td>45.000000</td>\n",
       "    </tr>\n",
       "    <tr>\n",
       "      <th>50%</th>\n",
       "      <td>9.000000</td>\n",
       "      <td>4.650000e+06</td>\n",
       "      <td>52.000000</td>\n",
       "      <td>2.000000</td>\n",
       "      <td>2.650000</td>\n",
       "      <td>9.000000</td>\n",
       "      <td>30.000000</td>\n",
       "      <td>4.000000</td>\n",
       "      <td>9.100000</td>\n",
       "      <td>1.000000</td>\n",
       "      <td>26726.000000</td>\n",
       "      <td>13098.500000</td>\n",
       "      <td>0.000000</td>\n",
       "      <td>455.000000</td>\n",
       "      <td>1.000000</td>\n",
       "      <td>502.000000</td>\n",
       "      <td>95.000000</td>\n",
       "    </tr>\n",
       "    <tr>\n",
       "      <th>75%</th>\n",
       "      <td>14.000000</td>\n",
       "      <td>6.800000e+06</td>\n",
       "      <td>69.900000</td>\n",
       "      <td>3.000000</td>\n",
       "      <td>2.800000</td>\n",
       "      <td>16.000000</td>\n",
       "      <td>42.300000</td>\n",
       "      <td>8.000000</td>\n",
       "      <td>12.000000</td>\n",
       "      <td>2.000000</td>\n",
       "      <td>37273.000000</td>\n",
       "      <td>16293.000000</td>\n",
       "      <td>1.000000</td>\n",
       "      <td>612.000000</td>\n",
       "      <td>1.000000</td>\n",
       "      <td>729.000000</td>\n",
       "      <td>232.000000</td>\n",
       "    </tr>\n",
       "    <tr>\n",
       "      <th>max</th>\n",
       "      <td>50.000000</td>\n",
       "      <td>7.630000e+08</td>\n",
       "      <td>900.000000</td>\n",
       "      <td>19.000000</td>\n",
       "      <td>100.000000</td>\n",
       "      <td>60.000000</td>\n",
       "      <td>409.700000</td>\n",
       "      <td>33.000000</td>\n",
       "      <td>112.000000</td>\n",
       "      <td>5.000000</td>\n",
       "      <td>84869.000000</td>\n",
       "      <td>65968.000000</td>\n",
       "      <td>3.000000</td>\n",
       "      <td>3190.000000</td>\n",
       "      <td>3.000000</td>\n",
       "      <td>1344.000000</td>\n",
       "      <td>1580.000000</td>\n",
       "    </tr>\n",
       "  </tbody>\n",
       "</table>\n",
       "</div>"
      ],
      "text/plain": [
       "       total_images    last_price    total_area         rooms  ceiling_height  \\\n",
       "count  23699.000000  2.369900e+04  23699.000000  23699.000000    14504.000000   \n",
       "mean       9.858475  6.541549e+06     60.348651      2.070636        2.771499   \n",
       "std        5.682529  1.088701e+07     35.654083      1.078405        1.261056   \n",
       "min        0.000000  1.219000e+04     12.000000      0.000000        1.000000   \n",
       "25%        6.000000  3.400000e+06     40.000000      1.000000        2.520000   \n",
       "50%        9.000000  4.650000e+06     52.000000      2.000000        2.650000   \n",
       "75%       14.000000  6.800000e+06     69.900000      3.000000        2.800000   \n",
       "max       50.000000  7.630000e+08    900.000000     19.000000      100.000000   \n",
       "\n",
       "       floors_total   living_area         floor  kitchen_area       balcony  \\\n",
       "count  23613.000000  21796.000000  23699.000000  21421.000000  12180.000000   \n",
       "mean      10.673824     34.457852      5.892358     10.569807      1.150082   \n",
       "std        6.597173     22.030445      4.885249      5.905438      1.071300   \n",
       "min        1.000000      2.000000      1.000000      1.300000      0.000000   \n",
       "25%        5.000000     18.600000      2.000000      7.000000      0.000000   \n",
       "50%        9.000000     30.000000      4.000000      9.100000      1.000000   \n",
       "75%       16.000000     42.300000      8.000000     12.000000      2.000000   \n",
       "max       60.000000    409.700000     33.000000    112.000000      5.000000   \n",
       "\n",
       "       airports_nearest  cityCenters_nearest  parks_around3000  parks_nearest  \\\n",
       "count      18157.000000         18180.000000      18181.000000    8079.000000   \n",
       "mean       28793.672193         14191.277833          0.611408     490.804555   \n",
       "std        12630.880622          8608.386210          0.802074     342.317995   \n",
       "min            0.000000           181.000000          0.000000       1.000000   \n",
       "25%        18585.000000          9238.000000          0.000000     288.000000   \n",
       "50%        26726.000000         13098.500000          0.000000     455.000000   \n",
       "75%        37273.000000         16293.000000          1.000000     612.000000   \n",
       "max        84869.000000         65968.000000          3.000000    3190.000000   \n",
       "\n",
       "       ponds_around3000  ponds_nearest  days_exposition  \n",
       "count      18181.000000    9110.000000     20518.000000  \n",
       "mean           0.770255     517.980900       180.888634  \n",
       "std            0.938346     277.720643       219.727988  \n",
       "min            0.000000      13.000000         1.000000  \n",
       "25%            0.000000     294.000000        45.000000  \n",
       "50%            1.000000     502.000000        95.000000  \n",
       "75%            1.000000     729.000000       232.000000  \n",
       "max            3.000000    1344.000000      1580.000000  "
      ]
     },
     "metadata": {},
     "output_type": "display_data"
    },
    {
     "name": "stdout",
     "output_type": "stream",
     "text": [
      "None\n"
     ]
    }
   ],
   "source": [
    "#Проверим отклонения от нормы по столбцам \n",
    "print(display(data.describe()))"
   ]
  },
  {
   "cell_type": "markdown",
   "metadata": {},
   "source": [
    "- Проверить общую площадь квартиры в квадратных метрах (900 м²)\n",
    "- Проверить жилую площадь квартиры в квадратных метрах (409 м²)\n",
    "- Количество этажей 60 штук \n",
    "- Высота потолка в 1 метр или в 100 метров странно"
   ]
  },
  {
   "cell_type": "code",
   "execution_count": 14,
   "metadata": {},
   "outputs": [
    {
     "name": "stdout",
     "output_type": "stream",
     "text": [
      "0\n"
     ]
    }
   ],
   "source": [
    "#Проверим есть ли дубликаты в таблице\n",
    "print(data.duplicated().sum())"
   ]
  },
  {
   "cell_type": "code",
   "execution_count": 15,
   "metadata": {},
   "outputs": [
    {
     "data": {
      "image/png": "[encoded data removed]",
      "text/plain": [
       "<Figure size 1500x2000 with 20 Axes>"
      ]
     },
     "metadata": {},
     "output_type": "display_data"
    }
   ],
   "source": [
    "#Построим гистограмму всех числовых значений.   \n",
    "ax = data.hist(figsize=(15, 20))\n"
   ]
  },
  {
   "cell_type": "markdown",
   "metadata": {},
   "source": [
    "**Иследование данных по таблице:**\n",
    "В таблице имеется 23699 строк данных по недвижиности в Санкт-Петербурге в которых есть пропущенные значения,  отклонения от нормы,некорректный тип для данных и время в нечитаемом формате.\n",
    "Внимание привлекли данные: \n",
    "- Общая площадь квартиры в квадратных метрах (900 м²)\n",
    "- Жилая площадь квартиры в квадратных метрах (409 м²)\n",
    "- Высота потолка в 1 метр или в 100 метров странно"
   ]
  },
  {
   "cell_type": "markdown",
   "metadata": {
    "id": "-O5NtivEAwb9"
   },
   "source": [
    "### Выполните предобработку данных"
   ]
  },
  {
   "cell_type": "markdown",
   "metadata": {},
   "source": [
    "**2.1. Пропущенные значения** "
   ]
  },
  {
   "cell_type": "code",
   "execution_count": 16,
   "metadata": {
    "id": "7v3vAeTuAwb-"
   },
   "outputs": [
    {
     "name": "stdout",
     "output_type": "stream",
     "text": [
      "total_images                0\n",
      "open_plan                   0\n",
      "floor                       0\n",
      "rooms                       0\n",
      "studio                      0\n",
      "total_area                  0\n",
      "last_price                  0\n",
      "first_day_exposition        0\n",
      "locality_name              49\n",
      "floors_total               86\n",
      "living_area              1903\n",
      "kitchen_area             2278\n",
      "days_exposition          3181\n",
      "ponds_around3000         5518\n",
      "parks_around3000         5518\n",
      "cityCenters_nearest      5519\n",
      "airports_nearest         5542\n",
      "ceiling_height           9195\n",
      "balcony                 11519\n",
      "ponds_nearest           14589\n",
      "parks_nearest           15620\n",
      "is_apartment            20924\n",
      "dtype: int64\n"
     ]
    }
   ],
   "source": [
    "#Определяем в каких столбцах есть пропущенные значения \n",
    "print(data.isna().sum().sort_values())"
   ]
  },
  {
   "cell_type": "code",
   "execution_count": 17,
   "metadata": {},
   "outputs": [
    {
     "data": {
      "text/plain": [
       "total_images             0.000000\n",
       "open_plan                0.000000\n",
       "floor                    0.000000\n",
       "rooms                    0.000000\n",
       "studio                   0.000000\n",
       "total_area               0.000000\n",
       "last_price               0.000000\n",
       "first_day_exposition     0.000000\n",
       "locality_name            0.206760\n",
       "floors_total             0.362885\n",
       "living_area              8.029875\n",
       "kitchen_area             9.612220\n",
       "days_exposition         13.422507\n",
       "ponds_around3000        23.283683\n",
       "parks_around3000        23.283683\n",
       "cityCenters_nearest     23.287902\n",
       "airports_nearest        23.384953\n",
       "ceiling_height          38.799105\n",
       "balcony                 48.605426\n",
       "ponds_nearest           61.559559\n",
       "parks_nearest           65.909954\n",
       "is_apartment            88.290645\n",
       "dtype: float64"
      ]
     },
     "execution_count": 17,
     "metadata": {},
     "output_type": "execute_result"
    }
   ],
   "source": [
    "# Посмотрим теперь в процентах\n",
    "# Пропуски выглядят некритично, люди могут не знать метры до объектов или им может быть лениво заполнять высоту потолков\n",
    "data.isnull().sum().sort_values()/data.shape[0]*100"
   ]
  },
  {
   "cell_type": "markdown",
   "metadata": {},
   "source": [
    "В 14 столбцах пропущены значения. Одиноковое число пропусков у 'ponds_around3000' (количество водоемов) и \n",
    "'parks_around3000' (количество парков) = 5518."
   ]
  },
  {
   "cell_type": "markdown",
   "metadata": {},
   "source": [
    "**2.1.1 Балконы**"
   ]
  },
  {
   "cell_type": "code",
   "execution_count": 18,
   "metadata": {},
   "outputs": [
    {
     "data": {
      "text/plain": [
       "balcony\n",
       "1.0    4195\n",
       "0.0    3758\n",
       "2.0    3659\n",
       "5.0     304\n",
       "4.0     183\n",
       "3.0      81\n",
       "Name: count, dtype: int64"
      ]
     },
     "metadata": {},
     "output_type": "display_data"
    }
   ],
   "source": [
    "display(data['balcony'].value_counts())\n",
    "data['balcony'] = data['balcony'].fillna(0)\n",
    "\n",
    "data['balcony'] = data['balcony'].astype('int')"
   ]
  },
  {
   "cell_type": "markdown",
   "metadata": {},
   "source": [
    "Если продавец не указал число балконов, то, скорее всего, в его квартире их нет. Заменили пропущенные значения на ноль."
   ]
  },
  {
   "cell_type": "markdown",
   "metadata": {},
   "source": [
    "**2.1.2 Высота потолка**"
   ]
  },
  {
   "cell_type": "code",
   "execution_count": 19,
   "metadata": {},
   "outputs": [
    {
     "name": "stdout",
     "output_type": "stream",
     "text": [
      "[  2.7     nan   3.03   2.5    2.67   2.56   3.05   2.75   2.6    2.9\n",
      "   2.8    2.55   3.     2.65   3.2    2.61   3.25   3.45   2.77   2.85\n",
      "   2.64   2.57   4.15   3.5    3.3    2.71   4.     2.47   2.73   2.84\n",
      "   3.1    2.34   3.4    3.06   2.72   2.54   2.51   2.78   2.76  25.\n",
      "   2.58   3.7    2.52   5.2    2.87   2.66   2.59   2.     2.45   3.6\n",
      "   2.92   3.11   3.13   3.8    3.15   3.55   3.16   3.62   3.12   2.53\n",
      "   2.74   2.96   2.46   5.3    5.     2.79   2.95   4.06   2.94   3.82\n",
      "   3.54   3.53   2.83   4.7    2.4    3.38   3.01   5.6    3.65   3.9\n",
      "   3.18   3.35   2.3    3.57   2.48   2.62   2.82   3.98   2.63   3.83\n",
      "   3.52   3.95   3.75   2.88   3.67   3.87   3.66   3.85   3.86   4.19\n",
      "   3.24   4.8    4.5    4.2    3.36  32.     3.08   3.68   3.07   3.37\n",
      "   3.09   8.     3.26   3.34   2.81   3.44   2.97   3.14   4.37   2.68\n",
      "   3.22   3.27  27.     4.1    2.93   3.46  24.     3.47   3.33   3.63\n",
      "   3.32  26.     1.2    8.3    2.98   2.86   3.17   4.4    3.28   3.04\n",
      "   4.45   5.5    3.84   3.23   3.02   3.21   3.43   3.78   4.3    3.39\n",
      "   2.69   3.31   4.65   3.56   2.2    3.51   3.93   3.42   2.99   3.49\n",
      "  14.     4.14   2.91   3.88   1.75   4.25   3.29  20.     2.25   3.76\n",
      "   3.69   6.    22.6    2.89   3.58   5.8   27.5    2.49   4.9    3.48\n",
      "  10.3    1.   100.     3.59]\n"
     ]
    }
   ],
   "source": [
    "#Высота потолка.Проверяем уникальные значения.\n",
    "print(data['ceiling_height'].unique())"
   ]
  },
  {
   "cell_type": "code",
   "execution_count": 20,
   "metadata": {},
   "outputs": [
    {
     "name": "stdout",
     "output_type": "stream",
     "text": [
      "2.65\n"
     ]
    }
   ],
   "source": [
    "#удаляем подозрительные значения и считаем медиану \n",
    "data = data.query('ceiling_height != [1.2, 1.75, 1, 100]')\n",
    "median_ceiling = data['ceiling_height'].median()\n",
    "print(median_ceiling)"
   ]
  },
  {
   "cell_type": "code",
   "execution_count": 21,
   "metadata": {},
   "outputs": [],
   "source": [
    "data['ceiling_height'] = data['ceiling_height'].fillna(median_ceiling)"
   ]
  },
  {
   "cell_type": "markdown",
   "metadata": {},
   "source": [
    "Если продавец не указал высоту потолка, скорее всего он не знает. Логично взять медиану по всем квартирам в Санкт-Петербурге, но стоит учесть аномальные значение, которые мы видели в первом шаге. (Высота потолка 1 метр)"
   ]
  },
  {
   "cell_type": "markdown",
   "metadata": {},
   "source": [
    "**2.1.3 Расстояние до ближайшего аэропорта**"
   ]
  },
  {
   "cell_type": "code",
   "execution_count": 22,
   "metadata": {},
   "outputs": [
    {
     "name": "stdout",
     "output_type": "stream",
     "text": [
      "[18863. 12817. 21741. ... 11751. 20151. 24665.]\n"
     ]
    },
    {
     "data": {
      "text/plain": [
       "21085    0.0\n",
       "Name: airports_nearest, dtype: float64"
      ]
     },
     "metadata": {},
     "output_type": "display_data"
    },
    {
     "name": "stdout",
     "output_type": "stream",
     "text": [
      "None\n"
     ]
    },
    {
     "data": {
      "image/png": "[encoded data removed]",
      "text/plain": [
       "<Figure size 500x1000 with 1 Axes>"
      ]
     },
     "metadata": {},
     "output_type": "display_data"
    }
   ],
   "source": [
    "#Расстояние до ближайшего аэропорта. Проверяем уникальные значения.\n",
    "print(data['airports_nearest'].unique())\n",
    "\n",
    "#Смущает на гисторграмме по аэропортам значения около 0 (возможно указали не в метрах)\n",
    "data['airports_nearest'].hist(figsize=(5, 10))\n",
    "\n",
    "#Найдем значения менее 500 метров \n",
    "data_air = data.loc[data['airports_nearest'] < 500]\n",
    "print(display(data_air['airports_nearest'].head(10)))"
   ]
  },
  {
   "cell_type": "markdown",
   "metadata": {},
   "source": [
    "В строке 21085 имеется пропущенное или потерянное значение.  равное нулю. Она не записано как NaN -  странно. Люди не могут продовать квартиру  в 0 м от аэропорта."
   ]
  },
  {
   "cell_type": "code",
   "execution_count": 23,
   "metadata": {},
   "outputs": [
    {
     "data": {
      "text/html": [
       "<div>\n",
       "<style scoped>\n",
       "    .dataframe tbody tr th:only-of-type {\n",
       "        vertical-align: middle;\n",
       "    }\n",
       "\n",
       "    .dataframe tbody tr th {\n",
       "        vertical-align: top;\n",
       "    }\n",
       "\n",
       "    .dataframe thead th {\n",
       "        text-align: right;\n",
       "    }\n",
       "</style>\n",
       "<table border=\"1\" class=\"dataframe\">\n",
       "  <thead>\n",
       "    <tr style=\"text-align: right;\">\n",
       "      <th></th>\n",
       "      <th>airports_nearest</th>\n",
       "    </tr>\n",
       "    <tr>\n",
       "      <th>locality_name</th>\n",
       "      <th></th>\n",
       "    </tr>\n",
       "  </thead>\n",
       "  <tbody>\n",
       "    <tr>\n",
       "      <th>Зеленогорск</th>\n",
       "      <td>72282.0</td>\n",
       "    </tr>\n",
       "    <tr>\n",
       "      <th>Колпино</th>\n",
       "      <td>26232.0</td>\n",
       "    </tr>\n",
       "    <tr>\n",
       "      <th>Красное Село</th>\n",
       "      <td>25715.5</td>\n",
       "    </tr>\n",
       "    <tr>\n",
       "      <th>Кронштадт</th>\n",
       "      <td>67850.0</td>\n",
       "    </tr>\n",
       "    <tr>\n",
       "      <th>Ломоносов</th>\n",
       "      <td>48415.5</td>\n",
       "    </tr>\n",
       "    <tr>\n",
       "      <th>Павловск</th>\n",
       "      <td>20529.5</td>\n",
       "    </tr>\n",
       "    <tr>\n",
       "      <th>Петергоф</th>\n",
       "      <td>39231.0</td>\n",
       "    </tr>\n",
       "    <tr>\n",
       "      <th>Пушкин</th>\n",
       "      <td>15766.0</td>\n",
       "    </tr>\n",
       "    <tr>\n",
       "      <th>Санкт-Петербург</th>\n",
       "      <td>26757.0</td>\n",
       "    </tr>\n",
       "    <tr>\n",
       "      <th>Сестрорецк</th>\n",
       "      <td>56692.0</td>\n",
       "    </tr>\n",
       "    <tr>\n",
       "      <th>поселок Лисий Нос</th>\n",
       "      <td>55930.0</td>\n",
       "    </tr>\n",
       "    <tr>\n",
       "      <th>поселок Мурино</th>\n",
       "      <td>51553.0</td>\n",
       "    </tr>\n",
       "    <tr>\n",
       "      <th>посёлок Александровская</th>\n",
       "      <td>12896.5</td>\n",
       "    </tr>\n",
       "    <tr>\n",
       "      <th>посёлок Белоостров</th>\n",
       "      <td>57769.0</td>\n",
       "    </tr>\n",
       "    <tr>\n",
       "      <th>посёлок Левашово</th>\n",
       "      <td>52693.0</td>\n",
       "    </tr>\n",
       "    <tr>\n",
       "      <th>посёлок Лисий Нос</th>\n",
       "      <td>54988.5</td>\n",
       "    </tr>\n",
       "    <tr>\n",
       "      <th>посёлок Металлострой</th>\n",
       "      <td>25758.0</td>\n",
       "    </tr>\n",
       "    <tr>\n",
       "      <th>посёлок Молодёжное</th>\n",
       "      <td>84665.0</td>\n",
       "    </tr>\n",
       "    <tr>\n",
       "      <th>посёлок Парголово</th>\n",
       "      <td>53426.0</td>\n",
       "    </tr>\n",
       "    <tr>\n",
       "      <th>посёлок Песочный</th>\n",
       "      <td>54831.5</td>\n",
       "    </tr>\n",
       "  </tbody>\n",
       "</table>\n",
       "</div>"
      ],
      "text/plain": [
       "                         airports_nearest\n",
       "locality_name                            \n",
       "Зеленогорск                       72282.0\n",
       "Колпино                           26232.0\n",
       "Красное Село                      25715.5\n",
       "Кронштадт                         67850.0\n",
       "Ломоносов                         48415.5\n",
       "Павловск                          20529.5\n",
       "Петергоф                          39231.0\n",
       "Пушкин                            15766.0\n",
       "Санкт-Петербург                   26757.0\n",
       "Сестрорецк                        56692.0\n",
       "поселок Лисий Нос                 55930.0\n",
       "поселок Мурино                    51553.0\n",
       "посёлок Александровская           12896.5\n",
       "посёлок Белоостров                57769.0\n",
       "посёлок Левашово                  52693.0\n",
       "посёлок Лисий Нос                 54988.5\n",
       "посёлок Металлострой              25758.0\n",
       "посёлок Молодёжное                84665.0\n",
       "посёлок Парголово                 53426.0\n",
       "посёлок Песочный                  54831.5"
      ]
     },
     "metadata": {},
     "output_type": "display_data"
    },
    {
     "name": "stdout",
     "output_type": "stream",
     "text": [
      "None\n"
     ]
    }
   ],
   "source": [
    "#Сгрупируем таблицу по каждому городу и найдем медиану\n",
    "data_air = data.pivot_table(index='locality_name', values = 'airports_nearest', aggfunc = 'median')\n",
    "print(display(data_air.head(20)))"
   ]
  },
  {
   "cell_type": "code",
   "execution_count": 24,
   "metadata": {},
   "outputs": [
    {
     "name": "stdout",
     "output_type": "stream",
     "text": [
      "Количество пропусков: 5541\n",
      "Доля пропущенных значений: 23.384680312302173\n"
     ]
    }
   ],
   "source": [
    "# Количество пропусков расстояния до аэропорта\n",
    "print('Количество пропусков:', data['airports_nearest'].isna().sum())\n",
    "print('Доля пропущенных значений:',data['airports_nearest'].isna().sum()/ data['airports_nearest'].shape[0]*100)"
   ]
  },
  {
   "cell_type": "markdown",
   "metadata": {},
   "source": [
    "Пропусков в данном столбце достаточно много (порядка 23% от общего числа данных). Строки с пропущенными значениями нельзя отнести к одной конкретной категории (разные даты заявлений, разные цены и расположения квартир. Данные пропущены как для квартир в городах, так и для деревень).\n",
    "Данные могли не внести составители заявления или значения могли быть утеряны в результате сбоя при загрузке данных в базу. Информацию можно восстановить по геопозиции районов или при обращении к владельцам данных. \n",
    "\n",
    "\n",
    "*Но можно было создать цикл проходящий по всем пропускам в data (data['airports_nearest'].isna()) и заменял их значения. Тело цикла: Если  data_air['location_name'] == data['location_name'], то  в пропущеное значении столбца data['airports_nearest'] вставлялось значение data_air['airports_nearest']. Но я немного туплю и не получается это сделать*"
   ]
  },
  {
   "cell_type": "code",
   "execution_count": 25,
   "metadata": {},
   "outputs": [
    {
     "name": "stdout",
     "output_type": "stream",
     "text": [
      "26726.0\n"
     ]
    }
   ],
   "source": [
    "median_airports = data['airports_nearest'].median()\n",
    "print(median_airports)\n",
    "#data['airports_nearest'] = data['airports_nearest'].fillna(median_airports)"
   ]
  },
  {
   "cell_type": "markdown",
   "metadata": {},
   "source": [
    "Заменять пропуски на общее медианное значение точно нельзя, так как разброс значений очень велик. На данном этапе оставим пропуски как есть."
   ]
  },
  {
   "cell_type": "markdown",
   "metadata": {},
   "source": [
    "**2.1.3 Расстояние до центра города** "
   ]
  },
  {
   "cell_type": "code",
   "execution_count": 26,
   "metadata": {},
   "outputs": [
    {
     "name": "stdout",
     "output_type": "stream",
     "text": [
      "[16028. 18603. 13933. ... 27977.  7262.  6263.]\n"
     ]
    },
    {
     "data": {
      "text/html": [
       "<div>\n",
       "<style scoped>\n",
       "    .dataframe tbody tr th:only-of-type {\n",
       "        vertical-align: middle;\n",
       "    }\n",
       "\n",
       "    .dataframe tbody tr th {\n",
       "        vertical-align: top;\n",
       "    }\n",
       "\n",
       "    .dataframe thead th {\n",
       "        text-align: right;\n",
       "    }\n",
       "</style>\n",
       "<table border=\"1\" class=\"dataframe\">\n",
       "  <thead>\n",
       "    <tr style=\"text-align: right;\">\n",
       "      <th></th>\n",
       "      <th>cityCenters_nearest</th>\n",
       "    </tr>\n",
       "    <tr>\n",
       "      <th>locality_name</th>\n",
       "      <th></th>\n",
       "    </tr>\n",
       "  </thead>\n",
       "  <tbody>\n",
       "    <tr>\n",
       "      <th>Зеленогорск</th>\n",
       "      <td>53381.0</td>\n",
       "    </tr>\n",
       "    <tr>\n",
       "      <th>Колпино</th>\n",
       "      <td>32018.0</td>\n",
       "    </tr>\n",
       "    <tr>\n",
       "      <th>Красное Село</th>\n",
       "      <td>29140.5</td>\n",
       "    </tr>\n",
       "    <tr>\n",
       "      <th>Кронштадт</th>\n",
       "      <td>49575.0</td>\n",
       "    </tr>\n",
       "    <tr>\n",
       "      <th>Ломоносов</th>\n",
       "      <td>51677.0</td>\n",
       "    </tr>\n",
       "    <tr>\n",
       "      <th>Павловск</th>\n",
       "      <td>32683.0</td>\n",
       "    </tr>\n",
       "    <tr>\n",
       "      <th>Петергоф</th>\n",
       "      <td>33771.0</td>\n",
       "    </tr>\n",
       "    <tr>\n",
       "      <th>Пушкин</th>\n",
       "      <td>27930.5</td>\n",
       "    </tr>\n",
       "    <tr>\n",
       "      <th>Санкт-Петербург</th>\n",
       "      <td>12244.0</td>\n",
       "    </tr>\n",
       "    <tr>\n",
       "      <th>Сестрорецк</th>\n",
       "      <td>34821.0</td>\n",
       "    </tr>\n",
       "    <tr>\n",
       "      <th>поселок Лисий Нос</th>\n",
       "      <td>28246.0</td>\n",
       "    </tr>\n",
       "    <tr>\n",
       "      <th>поселок Мурино</th>\n",
       "      <td>21888.0</td>\n",
       "    </tr>\n",
       "    <tr>\n",
       "      <th>посёлок Александровская</th>\n",
       "      <td>27468.0</td>\n",
       "    </tr>\n",
       "    <tr>\n",
       "      <th>посёлок Белоостров</th>\n",
       "      <td>38868.0</td>\n",
       "    </tr>\n",
       "    <tr>\n",
       "      <th>посёлок Левашово</th>\n",
       "      <td>25727.0</td>\n",
       "    </tr>\n",
       "    <tr>\n",
       "      <th>посёлок Лисий Нос</th>\n",
       "      <td>27297.0</td>\n",
       "    </tr>\n",
       "    <tr>\n",
       "      <th>посёлок Металлострой</th>\n",
       "      <td>27602.0</td>\n",
       "    </tr>\n",
       "    <tr>\n",
       "      <th>посёлок Молодёжное</th>\n",
       "      <td>65764.0</td>\n",
       "    </tr>\n",
       "    <tr>\n",
       "      <th>посёлок Парголово</th>\n",
       "      <td>19311.0</td>\n",
       "    </tr>\n",
       "    <tr>\n",
       "      <th>посёлок Песочный</th>\n",
       "      <td>26099.5</td>\n",
       "    </tr>\n",
       "  </tbody>\n",
       "</table>\n",
       "</div>"
      ],
      "text/plain": [
       "                         cityCenters_nearest\n",
       "locality_name                               \n",
       "Зеленогорск                          53381.0\n",
       "Колпино                              32018.0\n",
       "Красное Село                         29140.5\n",
       "Кронштадт                            49575.0\n",
       "Ломоносов                            51677.0\n",
       "Павловск                             32683.0\n",
       "Петергоф                             33771.0\n",
       "Пушкин                               27930.5\n",
       "Санкт-Петербург                      12244.0\n",
       "Сестрорецк                           34821.0\n",
       "поселок Лисий Нос                    28246.0\n",
       "поселок Мурино                       21888.0\n",
       "посёлок Александровская              27468.0\n",
       "посёлок Белоостров                   38868.0\n",
       "посёлок Левашово                     25727.0\n",
       "посёлок Лисий Нос                    27297.0\n",
       "посёлок Металлострой                 27602.0\n",
       "посёлок Молодёжное                   65764.0\n",
       "посёлок Парголово                    19311.0\n",
       "посёлок Песочный                     26099.5"
      ]
     },
     "metadata": {},
     "output_type": "display_data"
    },
    {
     "name": "stdout",
     "output_type": "stream",
     "text": [
      "None\n",
      "13098.0\n",
      "Количество пропусков: 5518\n",
      "Доля пропущенных значений: 23.28761342055286\n"
     ]
    }
   ],
   "source": [
    "#Расстояние до центра города. Проверяем уникальные значения.\n",
    "print(data['cityCenters_nearest'].unique())\n",
    "\n",
    "#Сгрупируем таблицу по каждому городу и найдем медиану\n",
    "data_city = data.pivot_table(index='locality_name', values = 'cityCenters_nearest', aggfunc = 'median')\n",
    "print(display(data_city.head(20)))\n",
    "\n",
    "#Если продавец не указал расстояние, скорее всего он не знает. Так же как и в предыдущем примере, неплохо бы сделать цикл.\n",
    "median_cityCenters_nearest = data['cityCenters_nearest'].median()\n",
    "print(median_cityCenters_nearest)\n",
    "#data['cityCenters_nearest'] = data['cityCenters_nearest'].fillna(median_cityCenters_nearest)\n",
    "\n",
    "# Количество пропусков расстояния до центра\n",
    "print('Количество пропусков:', data['cityCenters_nearest'].isna().sum())\n",
    "print('Доля пропущенных значений:',data['cityCenters_nearest'].isna().sum()/ data['cityCenters_nearest'].shape[0]*100)\n"
   ]
  },
  {
   "cell_type": "markdown",
   "metadata": {},
   "source": [
    "Пропусков в данном столбце достаточно много (порядка 23% от общего числа данных). Строки с пропущенными значениями нельзя отнести к одной конкретной категории (разные даты заявлений, разные цены и расположения квартир. Данные пропущены как для квартир в городах, так и для деревень).\n",
    "Данные могли не внести составители заявления или значения могли быть утеряны в результате сбоя при загрузке данных в базу. Информацию можно восстановить по геопозиции районов или при обращении к владельцам данных. Данные оставляем без изменения.\n",
    "\n",
    "\n",
    "*Но можно было создать цикл проходящий по всем пропускам в data (data['cityCenters_nearest'].isna()) и заменял их значения, как в заметке выше.* "
   ]
  },
  {
   "cell_type": "markdown",
   "metadata": {},
   "source": [
    "**2.1.4 Количество этажей в доме**"
   ]
  },
  {
   "cell_type": "code",
   "execution_count": 27,
   "metadata": {},
   "outputs": [
    {
     "name": "stdout",
     "output_type": "stream",
     "text": [
      "[16. 11.  5. 14. 12. 26. 24. 27.  9.  6. 17. 25.  3. 23. 19. 18.  4. 22.\n",
      "  8.  2. 10.  7. 13. 15. nan 20. 28. 36. 21. 35. 34. 60.  1. 29. 33. 52.]\n",
      "Количество пропусков: 86\n",
      "Доля пропущенных значений: 0.36294576914960963\n",
      "9.0\n"
     ]
    }
   ],
   "source": [
    "#Количество этажей в доме. Проверяем уникальные значения.\n",
    "print(data['floors_total'].unique())\n",
    "\n",
    "# Количество пропусков расстояния до центра\n",
    "print('Количество пропусков:', data['floors_total'].isna().sum())\n",
    "print('Доля пропущенных значений:',data['floors_total'].isna().sum()/ data['floors_total'].shape[0]*100)\n",
    "\n",
    "#Если продавец не указал этаж, скорее всего он пропустил или данные потерялись.\n",
    "median_floors_total = data['floors_total'].median()\n",
    "print(median_floors_total)\n",
    "data['floors_total'] = data['floors_total'].fillna(median_floors_total)"
   ]
  },
  {
   "cell_type": "markdown",
   "metadata": {},
   "source": [
    "Пропусков в данном столбце не так много и количество этажей в доме не влияют на стоимость квартиры. Мы можем заполнить данные медианным значением. анные могли не внести составители заявления или значения могли быть утеряны в результате сбоя при загрузке данных в базу.\n",
    "\n",
    "Сразу поняем тип данных из float в intenger для целочисленного счета этажей."
   ]
  },
  {
   "cell_type": "code",
   "execution_count": 28,
   "metadata": {},
   "outputs": [],
   "source": [
    "#Меняем тип данных на вещественный.\n",
    "data['floors_total'] = data['floors_total'].astype('int64')"
   ]
  },
  {
   "cell_type": "markdown",
   "metadata": {},
   "source": [
    "**2.1.5 Число парков** "
   ]
  },
  {
   "cell_type": "code",
   "execution_count": 29,
   "metadata": {},
   "outputs": [
    {
     "name": "stdout",
     "output_type": "stream",
     "text": [
      "Количество пропущенных значений парков: 5517\n",
      "Доля пропущенных значений парков: 23.283393120911587\n",
      "Количество пропущенных значений расстояния до парка: 15618\n",
      "Доля пропущенных значений расстояния до парка: 65.91263979742563\n"
     ]
    }
   ],
   "source": [
    "#Посмотрю в скольких строках пропущены значения количество парков \n",
    "print('Количество пропущенных значений парков:', data['parks_around3000'].isna().sum())\n",
    "print('Доля пропущенных значений парков:',data['parks_around3000'].isna().sum()/ data['parks_around3000'].shape[0]*100)\n",
    "#Посмотрю в скольких строках пропущены значения расстояния до парка \n",
    "print('Количество пропущенных значений расстояния до парка:', data['parks_nearest'].isna().sum())\n",
    "print('Доля пропущенных значений расстояния до парка:',data['parks_nearest'].isna().sum()/ data['parks_nearest'].shape[0]*100)"
   ]
  },
  {
   "cell_type": "code",
   "execution_count": 30,
   "metadata": {},
   "outputs": [
    {
     "data": {
      "text/html": [
       "<div>\n",
       "<style scoped>\n",
       "    .dataframe tbody tr th:only-of-type {\n",
       "        vertical-align: middle;\n",
       "    }\n",
       "\n",
       "    .dataframe tbody tr th {\n",
       "        vertical-align: top;\n",
       "    }\n",
       "\n",
       "    .dataframe thead th {\n",
       "        text-align: right;\n",
       "    }\n",
       "</style>\n",
       "<table border=\"1\" class=\"dataframe\">\n",
       "  <thead>\n",
       "    <tr style=\"text-align: right;\">\n",
       "      <th></th>\n",
       "      <th>total_images</th>\n",
       "      <th>last_price</th>\n",
       "      <th>total_area</th>\n",
       "      <th>first_day_exposition</th>\n",
       "      <th>rooms</th>\n",
       "      <th>ceiling_height</th>\n",
       "      <th>floors_total</th>\n",
       "      <th>living_area</th>\n",
       "      <th>floor</th>\n",
       "      <th>is_apartment</th>\n",
       "      <th>studio</th>\n",
       "      <th>open_plan</th>\n",
       "      <th>kitchen_area</th>\n",
       "      <th>balcony</th>\n",
       "      <th>locality_name</th>\n",
       "      <th>airports_nearest</th>\n",
       "      <th>cityCenters_nearest</th>\n",
       "      <th>parks_around3000</th>\n",
       "      <th>parks_nearest</th>\n",
       "      <th>ponds_around3000</th>\n",
       "      <th>ponds_nearest</th>\n",
       "      <th>days_exposition</th>\n",
       "    </tr>\n",
       "  </thead>\n",
       "  <tbody>\n",
       "    <tr>\n",
       "      <th>5</th>\n",
       "      <td>10</td>\n",
       "      <td>2890000.0</td>\n",
       "      <td>30.40</td>\n",
       "      <td>2018-09-10T00:00:00</td>\n",
       "      <td>1</td>\n",
       "      <td>2.65</td>\n",
       "      <td>12</td>\n",
       "      <td>14.40</td>\n",
       "      <td>5</td>\n",
       "      <td>NaN</td>\n",
       "      <td>False</td>\n",
       "      <td>False</td>\n",
       "      <td>9.10</td>\n",
       "      <td>0</td>\n",
       "      <td>городской посёлок Янино-1</td>\n",
       "      <td>NaN</td>\n",
       "      <td>NaN</td>\n",
       "      <td>NaN</td>\n",
       "      <td>NaN</td>\n",
       "      <td>NaN</td>\n",
       "      <td>NaN</td>\n",
       "      <td>55.0</td>\n",
       "    </tr>\n",
       "    <tr>\n",
       "      <th>8</th>\n",
       "      <td>20</td>\n",
       "      <td>2900000.0</td>\n",
       "      <td>33.16</td>\n",
       "      <td>2018-05-23T00:00:00</td>\n",
       "      <td>1</td>\n",
       "      <td>2.65</td>\n",
       "      <td>27</td>\n",
       "      <td>15.43</td>\n",
       "      <td>26</td>\n",
       "      <td>NaN</td>\n",
       "      <td>False</td>\n",
       "      <td>False</td>\n",
       "      <td>8.81</td>\n",
       "      <td>0</td>\n",
       "      <td>посёлок Мурино</td>\n",
       "      <td>NaN</td>\n",
       "      <td>NaN</td>\n",
       "      <td>NaN</td>\n",
       "      <td>NaN</td>\n",
       "      <td>NaN</td>\n",
       "      <td>NaN</td>\n",
       "      <td>189.0</td>\n",
       "    </tr>\n",
       "    <tr>\n",
       "      <th>12</th>\n",
       "      <td>10</td>\n",
       "      <td>3890000.0</td>\n",
       "      <td>54.00</td>\n",
       "      <td>2016-06-30T00:00:00</td>\n",
       "      <td>2</td>\n",
       "      <td>2.65</td>\n",
       "      <td>5</td>\n",
       "      <td>30.00</td>\n",
       "      <td>5</td>\n",
       "      <td>NaN</td>\n",
       "      <td>False</td>\n",
       "      <td>False</td>\n",
       "      <td>9.00</td>\n",
       "      <td>0</td>\n",
       "      <td>Сертолово</td>\n",
       "      <td>NaN</td>\n",
       "      <td>NaN</td>\n",
       "      <td>NaN</td>\n",
       "      <td>NaN</td>\n",
       "      <td>NaN</td>\n",
       "      <td>NaN</td>\n",
       "      <td>90.0</td>\n",
       "    </tr>\n",
       "    <tr>\n",
       "      <th>22</th>\n",
       "      <td>20</td>\n",
       "      <td>5000000.0</td>\n",
       "      <td>58.00</td>\n",
       "      <td>2017-04-24T00:00:00</td>\n",
       "      <td>2</td>\n",
       "      <td>2.75</td>\n",
       "      <td>25</td>\n",
       "      <td>30.00</td>\n",
       "      <td>15</td>\n",
       "      <td>NaN</td>\n",
       "      <td>False</td>\n",
       "      <td>False</td>\n",
       "      <td>11.00</td>\n",
       "      <td>2</td>\n",
       "      <td>деревня Кудрово</td>\n",
       "      <td>NaN</td>\n",
       "      <td>NaN</td>\n",
       "      <td>NaN</td>\n",
       "      <td>NaN</td>\n",
       "      <td>NaN</td>\n",
       "      <td>NaN</td>\n",
       "      <td>60.0</td>\n",
       "    </tr>\n",
       "    <tr>\n",
       "      <th>30</th>\n",
       "      <td>12</td>\n",
       "      <td>2200000.0</td>\n",
       "      <td>32.80</td>\n",
       "      <td>2018-02-19T00:00:00</td>\n",
       "      <td>1</td>\n",
       "      <td>2.65</td>\n",
       "      <td>9</td>\n",
       "      <td>NaN</td>\n",
       "      <td>2</td>\n",
       "      <td>NaN</td>\n",
       "      <td>False</td>\n",
       "      <td>False</td>\n",
       "      <td>NaN</td>\n",
       "      <td>0</td>\n",
       "      <td>Коммунар</td>\n",
       "      <td>NaN</td>\n",
       "      <td>NaN</td>\n",
       "      <td>NaN</td>\n",
       "      <td>NaN</td>\n",
       "      <td>NaN</td>\n",
       "      <td>NaN</td>\n",
       "      <td>63.0</td>\n",
       "    </tr>\n",
       "    <tr>\n",
       "      <th>37</th>\n",
       "      <td>10</td>\n",
       "      <td>1990000.0</td>\n",
       "      <td>45.80</td>\n",
       "      <td>2017-10-28T00:00:00</td>\n",
       "      <td>2</td>\n",
       "      <td>2.50</td>\n",
       "      <td>5</td>\n",
       "      <td>NaN</td>\n",
       "      <td>1</td>\n",
       "      <td>NaN</td>\n",
       "      <td>False</td>\n",
       "      <td>False</td>\n",
       "      <td>NaN</td>\n",
       "      <td>0</td>\n",
       "      <td>поселок городского типа Красный Бор</td>\n",
       "      <td>NaN</td>\n",
       "      <td>NaN</td>\n",
       "      <td>NaN</td>\n",
       "      <td>NaN</td>\n",
       "      <td>NaN</td>\n",
       "      <td>NaN</td>\n",
       "      <td>196.0</td>\n",
       "    </tr>\n",
       "    <tr>\n",
       "      <th>38</th>\n",
       "      <td>10</td>\n",
       "      <td>3150000.0</td>\n",
       "      <td>40.00</td>\n",
       "      <td>2018-03-29T00:00:00</td>\n",
       "      <td>1</td>\n",
       "      <td>2.75</td>\n",
       "      <td>18</td>\n",
       "      <td>16.30</td>\n",
       "      <td>9</td>\n",
       "      <td>NaN</td>\n",
       "      <td>False</td>\n",
       "      <td>False</td>\n",
       "      <td>11.60</td>\n",
       "      <td>0</td>\n",
       "      <td>посёлок Мурино</td>\n",
       "      <td>NaN</td>\n",
       "      <td>NaN</td>\n",
       "      <td>NaN</td>\n",
       "      <td>NaN</td>\n",
       "      <td>NaN</td>\n",
       "      <td>NaN</td>\n",
       "      <td>103.0</td>\n",
       "    </tr>\n",
       "    <tr>\n",
       "      <th>47</th>\n",
       "      <td>17</td>\n",
       "      <td>3600000.0</td>\n",
       "      <td>56.10</td>\n",
       "      <td>2018-10-18T00:00:00</td>\n",
       "      <td>3</td>\n",
       "      <td>2.65</td>\n",
       "      <td>4</td>\n",
       "      <td>42.50</td>\n",
       "      <td>3</td>\n",
       "      <td>NaN</td>\n",
       "      <td>False</td>\n",
       "      <td>False</td>\n",
       "      <td>5.70</td>\n",
       "      <td>1</td>\n",
       "      <td>Гатчина</td>\n",
       "      <td>NaN</td>\n",
       "      <td>NaN</td>\n",
       "      <td>NaN</td>\n",
       "      <td>NaN</td>\n",
       "      <td>NaN</td>\n",
       "      <td>NaN</td>\n",
       "      <td>179.0</td>\n",
       "    </tr>\n",
       "    <tr>\n",
       "      <th>60</th>\n",
       "      <td>3</td>\n",
       "      <td>2740000.0</td>\n",
       "      <td>35.00</td>\n",
       "      <td>2018-01-01T00:00:00</td>\n",
       "      <td>1</td>\n",
       "      <td>2.65</td>\n",
       "      <td>12</td>\n",
       "      <td>NaN</td>\n",
       "      <td>8</td>\n",
       "      <td>NaN</td>\n",
       "      <td>False</td>\n",
       "      <td>False</td>\n",
       "      <td>NaN</td>\n",
       "      <td>0</td>\n",
       "      <td>посёлок Мурино</td>\n",
       "      <td>NaN</td>\n",
       "      <td>NaN</td>\n",
       "      <td>NaN</td>\n",
       "      <td>NaN</td>\n",
       "      <td>NaN</td>\n",
       "      <td>NaN</td>\n",
       "      <td>11.0</td>\n",
       "    </tr>\n",
       "    <tr>\n",
       "      <th>62</th>\n",
       "      <td>0</td>\n",
       "      <td>4800000.0</td>\n",
       "      <td>78.60</td>\n",
       "      <td>2017-09-17T00:00:00</td>\n",
       "      <td>3</td>\n",
       "      <td>2.80</td>\n",
       "      <td>9</td>\n",
       "      <td>48.80</td>\n",
       "      <td>5</td>\n",
       "      <td>NaN</td>\n",
       "      <td>False</td>\n",
       "      <td>False</td>\n",
       "      <td>11.90</td>\n",
       "      <td>2</td>\n",
       "      <td>Сертолово</td>\n",
       "      <td>NaN</td>\n",
       "      <td>NaN</td>\n",
       "      <td>NaN</td>\n",
       "      <td>NaN</td>\n",
       "      <td>NaN</td>\n",
       "      <td>NaN</td>\n",
       "      <td>5.0</td>\n",
       "    </tr>\n",
       "  </tbody>\n",
       "</table>\n",
       "</div>"
      ],
      "text/plain": [
       "    total_images  last_price  total_area first_day_exposition  rooms  \\\n",
       "5             10   2890000.0       30.40  2018-09-10T00:00:00      1   \n",
       "8             20   2900000.0       33.16  2018-05-23T00:00:00      1   \n",
       "12            10   3890000.0       54.00  2016-06-30T00:00:00      2   \n",
       "22            20   5000000.0       58.00  2017-04-24T00:00:00      2   \n",
       "30            12   2200000.0       32.80  2018-02-19T00:00:00      1   \n",
       "37            10   1990000.0       45.80  2017-10-28T00:00:00      2   \n",
       "38            10   3150000.0       40.00  2018-03-29T00:00:00      1   \n",
       "47            17   3600000.0       56.10  2018-10-18T00:00:00      3   \n",
       "60             3   2740000.0       35.00  2018-01-01T00:00:00      1   \n",
       "62             0   4800000.0       78.60  2017-09-17T00:00:00      3   \n",
       "\n",
       "    ceiling_height  floors_total  living_area  floor is_apartment  studio  \\\n",
       "5             2.65            12        14.40      5          NaN   False   \n",
       "8             2.65            27        15.43     26          NaN   False   \n",
       "12            2.65             5        30.00      5          NaN   False   \n",
       "22            2.75            25        30.00     15          NaN   False   \n",
       "30            2.65             9          NaN      2          NaN   False   \n",
       "37            2.50             5          NaN      1          NaN   False   \n",
       "38            2.75            18        16.30      9          NaN   False   \n",
       "47            2.65             4        42.50      3          NaN   False   \n",
       "60            2.65            12          NaN      8          NaN   False   \n",
       "62            2.80             9        48.80      5          NaN   False   \n",
       "\n",
       "    open_plan  kitchen_area  balcony                        locality_name  \\\n",
       "5       False          9.10        0            городской посёлок Янино-1   \n",
       "8       False          8.81        0                       посёлок Мурино   \n",
       "12      False          9.00        0                            Сертолово   \n",
       "22      False         11.00        2                      деревня Кудрово   \n",
       "30      False           NaN        0                             Коммунар   \n",
       "37      False           NaN        0  поселок городского типа Красный Бор   \n",
       "38      False         11.60        0                       посёлок Мурино   \n",
       "47      False          5.70        1                              Гатчина   \n",
       "60      False           NaN        0                       посёлок Мурино   \n",
       "62      False         11.90        2                            Сертолово   \n",
       "\n",
       "    airports_nearest  cityCenters_nearest  parks_around3000  parks_nearest  \\\n",
       "5                NaN                  NaN               NaN            NaN   \n",
       "8                NaN                  NaN               NaN            NaN   \n",
       "12               NaN                  NaN               NaN            NaN   \n",
       "22               NaN                  NaN               NaN            NaN   \n",
       "30               NaN                  NaN               NaN            NaN   \n",
       "37               NaN                  NaN               NaN            NaN   \n",
       "38               NaN                  NaN               NaN            NaN   \n",
       "47               NaN                  NaN               NaN            NaN   \n",
       "60               NaN                  NaN               NaN            NaN   \n",
       "62               NaN                  NaN               NaN            NaN   \n",
       "\n",
       "    ponds_around3000  ponds_nearest  days_exposition  \n",
       "5                NaN            NaN             55.0  \n",
       "8                NaN            NaN            189.0  \n",
       "12               NaN            NaN             90.0  \n",
       "22               NaN            NaN             60.0  \n",
       "30               NaN            NaN             63.0  \n",
       "37               NaN            NaN            196.0  \n",
       "38               NaN            NaN            103.0  \n",
       "47               NaN            NaN            179.0  \n",
       "60               NaN            NaN             11.0  \n",
       "62               NaN            NaN              5.0  "
      ]
     },
     "metadata": {},
     "output_type": "display_data"
    }
   ],
   "source": [
    "#Найдем срез, где пропущены значения о количестве парков и в расстоянии\n",
    "display(data.loc[(data['parks_around3000'].isna()) & (data['parks_nearest'].isna())].head(10))"
   ]
  },
  {
   "cell_type": "markdown",
   "metadata": {},
   "source": [
    "Обнаружено интересное наблюдение, что в столбцах airports_nearest, cityCenters_nearest, parks_around3000, parks_nearest, ponds_around3000, ponds_nearest пропущены значения почти в одних и тех же строках."
   ]
  },
  {
   "cell_type": "code",
   "execution_count": 31,
   "metadata": {},
   "outputs": [
    {
     "name": "stdout",
     "output_type": "stream",
     "text": [
      "5517\n"
     ]
    }
   ],
   "source": [
    "#Найдем срез, где пропущены значения во всех столбцах одновременно\n",
    "print(len(data.loc[(data['parks_around3000'].isna()) & (data['parks_nearest'].isna()) & (data['airports_nearest'].isna()) & (data['cityCenters_nearest'].isna()) & (data['ponds_around3000'].isna()) & (data['ponds_nearest'].isna())]))"
   ]
  },
  {
   "cell_type": "markdown",
   "metadata": {},
   "source": [
    "Пропусков в данных столбцах достаточно много (порядка 23% от общего числа данных). Строки с пропущенными значениями нельзя отнести к одной конкретной категории (разные даты заявлений, разные цены и расположения квартир. Данные пропущены как для квартир в городах, так и для деревень).\n",
    "Данные могли не внести составители заявления или значения могли быть утеряны в результате сбоя при загрузке данных в базу. Информацию можно восстановить по геопозиции районов или при обращении к владельцам данных. Данные оставляем без изменения.\n",
    "Но можно было бы их отнести к определенной группе, чтобы потом не путать заполненые объявления."
   ]
  },
  {
   "cell_type": "code",
   "execution_count": 32,
   "metadata": {},
   "outputs": [
    {
     "name": "stdout",
     "output_type": "stream",
     "text": [
      "parks_around3000\n",
      "0.0    10105\n",
      "1.0     5680\n",
      "2.0     1746\n",
      "3.0      647\n",
      "Name: count, dtype: int64\n"
     ]
    }
   ],
   "source": [
    "#Количество парков. \n",
    "print(data['parks_around3000'].value_counts())\n",
    "\n",
    "#Если продавец не указал количество парков, скорее всего рядом у него нет парков\n",
    "data['parks_around3000'] = data['parks_around3000'].fillna(0)"
   ]
  },
  {
   "cell_type": "code",
   "execution_count": 33,
   "metadata": {},
   "outputs": [],
   "source": [
    "#Меняем тип данных на вещественный.\n",
    "data['parks_around3000'] = data['parks_around3000'].astype('int64')"
   ]
  },
  {
   "cell_type": "markdown",
   "metadata": {},
   "source": [
    "**2.1.6 Число водоемов** "
   ]
  },
  {
   "cell_type": "code",
   "execution_count": 34,
   "metadata": {},
   "outputs": [
    {
     "name": "stdout",
     "output_type": "stream",
     "text": [
      "ponds_around3000\n",
      "0.0    9071\n",
      "1.0    5717\n",
      "2.0    1891\n",
      "3.0    1499\n",
      "Name: count, dtype: int64\n"
     ]
    }
   ],
   "source": [
    "#Число водоёмов. Проверяем уникальные значения.\n",
    "print(data['ponds_around3000'].value_counts())\n",
    "\n",
    "#Если продавец не указал количество водоемов, скорее всего у него нет рядом водоёмов.\n",
    "data['ponds_around3000'] = data['ponds_around3000'].fillna(0)"
   ]
  },
  {
   "cell_type": "code",
   "execution_count": 35,
   "metadata": {},
   "outputs": [],
   "source": [
    "#Меняем тип данных на вещественный.\n",
    "data['ponds_around3000'] = data['ponds_around3000'].astype('int64')"
   ]
  },
  {
   "cell_type": "markdown",
   "metadata": {},
   "source": [
    "**2.1.7 Апартаменты**"
   ]
  },
  {
   "cell_type": "code",
   "execution_count": 36,
   "metadata": {},
   "outputs": [
    {
     "name": "stdout",
     "output_type": "stream",
     "text": [
      "Количество пропущенных значений апартаменты: 20921\n",
      "Доля пропущенных значений апартаменты: 88.29288879510445\n"
     ]
    }
   ],
   "source": [
    "#Посмотрю в скольких строках пропущены значения \n",
    "print('Количество пропущенных значений апартаменты:', data['is_apartment'].isna().sum())\n",
    "print('Доля пропущенных значений апартаменты:',data['is_apartment'].isna().sum()/ data['is_apartment'].shape[0]*100)\n",
    "\n",
    "#Если продавец не указал апартаменты, скорее всего у него не апартаменты.\n",
    "data['is_apartment'] = data['is_apartment'].fillna(0)\n",
    "\n",
    "#Меняем тип данных на булевый.\n",
    "data['is_apartment'] = data['is_apartment'].astype('bool')"
   ]
  },
  {
   "cell_type": "markdown",
   "metadata": {},
   "source": [
    "В данном столбце очень много пропущенных данных. Возможно, данные не были заполнены изначально или были утеряны в результате сбоя системы при загрузке/выгрузке базы данных. В дальнейшем исследовании нам не понадобится информация в этом столбце. Пропуски можно оставить как есть.\n",
    "Тип данных в столбце is_apartment object, хотя переменная принимает только значения True и False. На булев тип данных также указывает описание таблицы. Произведем преобразование типа данных из object в bool"
   ]
  },
  {
   "cell_type": "markdown",
   "metadata": {},
   "source": [
    "**2.1.8 Площадь кухни**"
   ]
  },
  {
   "cell_type": "code",
   "execution_count": 37,
   "metadata": {},
   "outputs": [
    {
     "data": {
      "text/plain": [
       "906      2.00\n",
       "6262     2.00\n",
       "7950     2.89\n",
       "8729     2.40\n",
       "9138     2.00\n",
       "11033    2.00\n",
       "16367    2.00\n",
       "17834    2.30\n",
       "19642    2.00\n",
       "20217    1.30\n",
       "Name: kitchen_area, dtype: float64"
      ]
     },
     "metadata": {},
     "output_type": "display_data"
    },
    {
     "name": "stdout",
     "output_type": "stream",
     "text": [
      "None\n",
      "Количество пропущенных значений : 2278\n",
      "Доля пропущенных значений : 9.61384258282338\n"
     ]
    },
    {
     "data": {
      "image/png": "[encoded data removed]",
      "text/plain": [
       "<Figure size 500x1000 with 1 Axes>"
      ]
     },
     "metadata": {},
     "output_type": "display_data"
    }
   ],
   "source": [
    "#Смущает на гисторграмме по площади кухни значения около 0 (возможно указали не в метрах квадратных)\n",
    "data['kitchen_area'].hist(figsize=(5, 10), bins = 10)\n",
    "\n",
    "#Найдем значения менее 3 метров квадратных\n",
    "data_kit = data.loc[data['kitchen_area'] < 3]\n",
    "print(display(data_kit['kitchen_area'].head(10)))\n",
    "\n",
    "\n",
    "#Посмотрю в скольких строках пропущены значения площадь кухни\n",
    "print('Количество пропущенных значений :', data['kitchen_area'].isna().sum())\n",
    "print('Доля пропущенных значений :',data['kitchen_area'].isna().sum()/ data['kitchen_area'].shape[0]*100)"
   ]
  },
  {
   "cell_type": "markdown",
   "metadata": {},
   "source": [
    "Пропусков в данном столбце не так много (порядка 9% от общего числа данных). Строки с пропущенными значениями нельзя отнести к одной конкретной категории (разные даты заявлений, разные цены и расположения квартир. Данные пропущены как для квартир в городах, так и для деревень).\n",
    "Данные могли не внести составители заявления или значения могли быть утеряны в результате сбоя при загрузке данных в базу. Информацию можно восстановить  при обращении к владельцам данных. Данные оставляем без изменения.Но их так же можно отнести к другой категории данных."
   ]
  },
  {
   "cell_type": "markdown",
   "metadata": {},
   "source": [
    "**2.1.8 Название населенного пункта**"
   ]
  },
  {
   "cell_type": "code",
   "execution_count": 38,
   "metadata": {},
   "outputs": [
    {
     "name": "stdout",
     "output_type": "stream",
     "text": [
      "Количество пропущенных значений : 49\n",
      "Доля пропущенных значений : 0.206794682422452\n"
     ]
    }
   ],
   "source": [
    "#Посмотрю в скольких строках пропущены значения площадь кухни\n",
    "print('Количество пропущенных значений :', data['locality_name'].isna().sum())\n",
    "print('Доля пропущенных значений :',data['locality_name'].isna().sum()/ data['locality_name'].shape[0]*100)\n",
    "\n",
    "#Если продавец не указал название, скорее всего у данные точно потерялись. Укажем Неизвестно.\n",
    "data['locality_name'] = data['locality_name'].fillna('Неизвестно')\n",
    "\n",
    "#print(display(data.loc[data['locality_name'] == 'Неизвестно']))"
   ]
  },
  {
   "cell_type": "markdown",
   "metadata": {},
   "source": [
    "**2.1.9 Дней размещено объявление**"
   ]
  },
  {
   "cell_type": "code",
   "execution_count": 39,
   "metadata": {},
   "outputs": [
    {
     "name": "stdout",
     "output_type": "stream",
     "text": [
      "Количество пропущенных значений : 3181\n",
      "Доля пропущенных значений : 13.424773158894283\n"
     ]
    }
   ],
   "source": [
    "#Посмотрю в скольких строках пропущены значения \n",
    "print('Количество пропущенных значений :', data['days_exposition'].isna().sum())\n",
    "print('Доля пропущенных значений :', data['days_exposition'].isna().sum()/ data['days_exposition'].shape[0]*100)\n",
    "\n",
    "#Меняем тип данных на вещественный.\n",
    "#data['days_exposition'] = data['days_exposition'].astype('int')"
   ]
  },
  {
   "cell_type": "markdown",
   "metadata": {},
   "source": [
    "Пропусков в данном столбце достаточно много (порядка 13% от общего числа данных). Строки с пропущенными значениями нельзя отнести к одной конкретной категории (разные даты заявлений, разные цены и расположения квартир и тд.).\n",
    "Данные могли быть утеряны в результате сбоя системы при выгрузке базы.\n",
    "Также возможно информация не была внесена системой, так как объявление не было снято в момент выгрузки данных.\n",
    "Информацию можно восстановить при обращении к владельцам данных.\n",
    "На данном этапе предположим, что объявления с пропусками не были сняты и оставим их как есть.\n"
   ]
  },
  {
   "cell_type": "code",
   "execution_count": 40,
   "metadata": {},
   "outputs": [
    {
     "name": "stdout",
     "output_type": "stream",
     "text": [
      "total_images                0\n",
      "ponds_around3000            0\n",
      "parks_around3000            0\n",
      "locality_name               0\n",
      "balcony                     0\n",
      "open_plan                   0\n",
      "is_apartment                0\n",
      "floor                       0\n",
      "studio                      0\n",
      "floors_total                0\n",
      "ceiling_height              0\n",
      "rooms                       0\n",
      "first_day_exposition        0\n",
      "total_area                  0\n",
      "last_price                  0\n",
      "living_area              1903\n",
      "kitchen_area             2278\n",
      "days_exposition          3181\n",
      "cityCenters_nearest      5518\n",
      "airports_nearest         5541\n",
      "ponds_nearest           14588\n",
      "parks_nearest           15618\n",
      "dtype: int64\n"
     ]
    }
   ],
   "source": [
    "print(data.isna().sum().sort_values())"
   ]
  },
  {
   "cell_type": "markdown",
   "metadata": {},
   "source": [
    "**2.2. Рассмотрение типов данных в каждом столбце** "
   ]
  },
  {
   "cell_type": "code",
   "execution_count": 41,
   "metadata": {},
   "outputs": [
    {
     "name": "stdout",
     "output_type": "stream",
     "text": [
      "<class 'pandas.core.frame.DataFrame'>\n",
      "Index: 23695 entries, 0 to 23698\n",
      "Data columns (total 22 columns):\n",
      " #   Column                Non-Null Count  Dtype  \n",
      "---  ------                --------------  -----  \n",
      " 0   total_images          23695 non-null  int64  \n",
      " 1   last_price            23695 non-null  float64\n",
      " 2   total_area            23695 non-null  float64\n",
      " 3   first_day_exposition  23695 non-null  object \n",
      " 4   rooms                 23695 non-null  int64  \n",
      " 5   ceiling_height        23695 non-null  float64\n",
      " 6   floors_total          23695 non-null  int64  \n",
      " 7   living_area           21792 non-null  float64\n",
      " 8   floor                 23695 non-null  int64  \n",
      " 9   is_apartment          23695 non-null  bool   \n",
      " 10  studio                23695 non-null  bool   \n",
      " 11  open_plan             23695 non-null  bool   \n",
      " 12  kitchen_area          21417 non-null  float64\n",
      " 13  balcony               23695 non-null  int32  \n",
      " 14  locality_name         23695 non-null  object \n",
      " 15  airports_nearest      18154 non-null  float64\n",
      " 16  cityCenters_nearest   18177 non-null  float64\n",
      " 17  parks_around3000      23695 non-null  int64  \n",
      " 18  parks_nearest         8077 non-null   float64\n",
      " 19  ponds_around3000      23695 non-null  int64  \n",
      " 20  ponds_nearest         9107 non-null   float64\n",
      " 21  days_exposition       20514 non-null  float64\n",
      "dtypes: bool(3), float64(10), int32(1), int64(6), object(2)\n",
      "memory usage: 3.6+ MB\n",
      "None\n"
     ]
    }
   ],
   "source": [
    "#Запросим данные, чтобы проверить тип \n",
    "print(data.info())"
   ]
  },
  {
   "cell_type": "markdown",
   "metadata": {},
   "source": [
    "Во втором шаге при заполнении пропущенных значений я изменила тип данных в соответствии с описание таблицы и смыслом хранимой информации:\n",
    "- is_apartment  изменен с object в булевой тип (Булевой тип выводит True, если это апартаменты и False в ином случае) \n",
    "- balcony изменен с float64 на int64 (Количество балконов - вещественное число)\n",
    "- floors_total  изменен с float64 на int64 (Количество этажей - вещественное число)"
   ]
  },
  {
   "cell_type": "markdown",
   "metadata": {},
   "source": [
    "При изменении 'days_exposition' (Количество дней) в тип int64, выдает ошибку, так как есть пропуски, которые я не могу заполнить.\n",
    "#data['days_exposition'] = data['days_exposition'].astype('int')\n"
   ]
  },
  {
   "cell_type": "markdown",
   "metadata": {},
   "source": [
    "*first_day_exposition  23695 non-null  object*\n",
    "Данные представляют собой дату публикации объявления. Преобразуем тип данных из object в datetime с помощью метода to_datetime.\n",
    "first_day_exposition  23695 non-null  object "
   ]
  },
  {
   "cell_type": "code",
   "execution_count": 42,
   "metadata": {},
   "outputs": [
    {
     "data": {
      "text/html": [
       "<div>\n",
       "<style scoped>\n",
       "    .dataframe tbody tr th:only-of-type {\n",
       "        vertical-align: middle;\n",
       "    }\n",
       "\n",
       "    .dataframe tbody tr th {\n",
       "        vertical-align: top;\n",
       "    }\n",
       "\n",
       "    .dataframe thead th {\n",
       "        text-align: right;\n",
       "    }\n",
       "</style>\n",
       "<table border=\"1\" class=\"dataframe\">\n",
       "  <thead>\n",
       "    <tr style=\"text-align: right;\">\n",
       "      <th></th>\n",
       "      <th>total_images</th>\n",
       "      <th>last_price</th>\n",
       "      <th>total_area</th>\n",
       "      <th>first_day_exposition</th>\n",
       "      <th>rooms</th>\n",
       "      <th>ceiling_height</th>\n",
       "      <th>floors_total</th>\n",
       "      <th>living_area</th>\n",
       "      <th>floor</th>\n",
       "      <th>is_apartment</th>\n",
       "      <th>studio</th>\n",
       "      <th>open_plan</th>\n",
       "      <th>kitchen_area</th>\n",
       "      <th>balcony</th>\n",
       "      <th>locality_name</th>\n",
       "      <th>airports_nearest</th>\n",
       "      <th>cityCenters_nearest</th>\n",
       "      <th>parks_around3000</th>\n",
       "      <th>parks_nearest</th>\n",
       "      <th>ponds_around3000</th>\n",
       "      <th>ponds_nearest</th>\n",
       "      <th>days_exposition</th>\n",
       "    </tr>\n",
       "  </thead>\n",
       "  <tbody>\n",
       "    <tr>\n",
       "      <th>0</th>\n",
       "      <td>20</td>\n",
       "      <td>13000000.0</td>\n",
       "      <td>108.0</td>\n",
       "      <td>2019-03-07</td>\n",
       "      <td>3</td>\n",
       "      <td>2.70</td>\n",
       "      <td>16</td>\n",
       "      <td>51.0</td>\n",
       "      <td>8</td>\n",
       "      <td>False</td>\n",
       "      <td>False</td>\n",
       "      <td>False</td>\n",
       "      <td>25.0</td>\n",
       "      <td>0</td>\n",
       "      <td>Санкт-Петербург</td>\n",
       "      <td>18863.0</td>\n",
       "      <td>16028.0</td>\n",
       "      <td>1</td>\n",
       "      <td>482.0</td>\n",
       "      <td>2</td>\n",
       "      <td>755.0</td>\n",
       "      <td>NaN</td>\n",
       "    </tr>\n",
       "    <tr>\n",
       "      <th>1</th>\n",
       "      <td>7</td>\n",
       "      <td>3350000.0</td>\n",
       "      <td>40.4</td>\n",
       "      <td>2018-12-04</td>\n",
       "      <td>1</td>\n",
       "      <td>2.65</td>\n",
       "      <td>11</td>\n",
       "      <td>18.6</td>\n",
       "      <td>1</td>\n",
       "      <td>False</td>\n",
       "      <td>False</td>\n",
       "      <td>False</td>\n",
       "      <td>11.0</td>\n",
       "      <td>2</td>\n",
       "      <td>посёлок Шушары</td>\n",
       "      <td>12817.0</td>\n",
       "      <td>18603.0</td>\n",
       "      <td>0</td>\n",
       "      <td>NaN</td>\n",
       "      <td>0</td>\n",
       "      <td>NaN</td>\n",
       "      <td>81.0</td>\n",
       "    </tr>\n",
       "    <tr>\n",
       "      <th>2</th>\n",
       "      <td>10</td>\n",
       "      <td>5196000.0</td>\n",
       "      <td>56.0</td>\n",
       "      <td>2015-08-20</td>\n",
       "      <td>2</td>\n",
       "      <td>2.65</td>\n",
       "      <td>5</td>\n",
       "      <td>34.3</td>\n",
       "      <td>4</td>\n",
       "      <td>False</td>\n",
       "      <td>False</td>\n",
       "      <td>False</td>\n",
       "      <td>8.3</td>\n",
       "      <td>0</td>\n",
       "      <td>Санкт-Петербург</td>\n",
       "      <td>21741.0</td>\n",
       "      <td>13933.0</td>\n",
       "      <td>1</td>\n",
       "      <td>90.0</td>\n",
       "      <td>2</td>\n",
       "      <td>574.0</td>\n",
       "      <td>558.0</td>\n",
       "    </tr>\n",
       "    <tr>\n",
       "      <th>3</th>\n",
       "      <td>0</td>\n",
       "      <td>64900000.0</td>\n",
       "      <td>159.0</td>\n",
       "      <td>2015-07-24</td>\n",
       "      <td>3</td>\n",
       "      <td>2.65</td>\n",
       "      <td>14</td>\n",
       "      <td>NaN</td>\n",
       "      <td>9</td>\n",
       "      <td>False</td>\n",
       "      <td>False</td>\n",
       "      <td>False</td>\n",
       "      <td>NaN</td>\n",
       "      <td>0</td>\n",
       "      <td>Санкт-Петербург</td>\n",
       "      <td>28098.0</td>\n",
       "      <td>6800.0</td>\n",
       "      <td>2</td>\n",
       "      <td>84.0</td>\n",
       "      <td>3</td>\n",
       "      <td>234.0</td>\n",
       "      <td>424.0</td>\n",
       "    </tr>\n",
       "    <tr>\n",
       "      <th>4</th>\n",
       "      <td>2</td>\n",
       "      <td>10000000.0</td>\n",
       "      <td>100.0</td>\n",
       "      <td>2018-06-19</td>\n",
       "      <td>2</td>\n",
       "      <td>3.03</td>\n",
       "      <td>14</td>\n",
       "      <td>32.0</td>\n",
       "      <td>13</td>\n",
       "      <td>False</td>\n",
       "      <td>False</td>\n",
       "      <td>False</td>\n",
       "      <td>41.0</td>\n",
       "      <td>0</td>\n",
       "      <td>Санкт-Петербург</td>\n",
       "      <td>31856.0</td>\n",
       "      <td>8098.0</td>\n",
       "      <td>2</td>\n",
       "      <td>112.0</td>\n",
       "      <td>1</td>\n",
       "      <td>48.0</td>\n",
       "      <td>121.0</td>\n",
       "    </tr>\n",
       "  </tbody>\n",
       "</table>\n",
       "</div>"
      ],
      "text/plain": [
       "   total_images  last_price  total_area first_day_exposition  rooms  \\\n",
       "0            20  13000000.0       108.0           2019-03-07      3   \n",
       "1             7   3350000.0        40.4           2018-12-04      1   \n",
       "2            10   5196000.0        56.0           2015-08-20      2   \n",
       "3             0  64900000.0       159.0           2015-07-24      3   \n",
       "4             2  10000000.0       100.0           2018-06-19      2   \n",
       "\n",
       "   ceiling_height  floors_total  living_area  floor  is_apartment  studio  \\\n",
       "0            2.70            16         51.0      8         False   False   \n",
       "1            2.65            11         18.6      1         False   False   \n",
       "2            2.65             5         34.3      4         False   False   \n",
       "3            2.65            14          NaN      9         False   False   \n",
       "4            3.03            14         32.0     13         False   False   \n",
       "\n",
       "   open_plan  kitchen_area  balcony    locality_name  airports_nearest  \\\n",
       "0      False          25.0        0  Санкт-Петербург           18863.0   \n",
       "1      False          11.0        2   посёлок Шушары           12817.0   \n",
       "2      False           8.3        0  Санкт-Петербург           21741.0   \n",
       "3      False           NaN        0  Санкт-Петербург           28098.0   \n",
       "4      False          41.0        0  Санкт-Петербург           31856.0   \n",
       "\n",
       "   cityCenters_nearest  parks_around3000  parks_nearest  ponds_around3000  \\\n",
       "0              16028.0                 1          482.0                 2   \n",
       "1              18603.0                 0            NaN                 0   \n",
       "2              13933.0                 1           90.0                 2   \n",
       "3               6800.0                 2           84.0                 3   \n",
       "4               8098.0                 2          112.0                 1   \n",
       "\n",
       "   ponds_nearest  days_exposition  \n",
       "0          755.0              NaN  \n",
       "1            NaN             81.0  \n",
       "2          574.0            558.0  \n",
       "3          234.0            424.0  \n",
       "4           48.0            121.0  "
      ]
     },
     "metadata": {},
     "output_type": "display_data"
    }
   ],
   "source": [
    "# формат даты передадим методу to_datetime с помощью параметра format.\n",
    "data['first_day_exposition'] = pd.to_datetime(data['first_day_exposition'], format='%Y-%m-%dT%H:%M:%S')\n",
    "display(data.head(5))"
   ]
  },
  {
   "cell_type": "code",
   "execution_count": 43,
   "metadata": {},
   "outputs": [
    {
     "name": "stdout",
     "output_type": "stream",
     "text": [
      "<class 'pandas.core.frame.DataFrame'>\n",
      "Index: 23695 entries, 0 to 23698\n",
      "Data columns (total 22 columns):\n",
      " #   Column                Non-Null Count  Dtype         \n",
      "---  ------                --------------  -----         \n",
      " 0   total_images          23695 non-null  int64         \n",
      " 1   last_price            23695 non-null  float64       \n",
      " 2   total_area            23695 non-null  float64       \n",
      " 3   first_day_exposition  23695 non-null  datetime64[ns]\n",
      " 4   rooms                 23695 non-null  int64         \n",
      " 5   ceiling_height        23695 non-null  float64       \n",
      " 6   floors_total          23695 non-null  int64         \n",
      " 7   living_area           21792 non-null  float64       \n",
      " 8   floor                 23695 non-null  int64         \n",
      " 9   is_apartment          23695 non-null  bool          \n",
      " 10  studio                23695 non-null  bool          \n",
      " 11  open_plan             23695 non-null  bool          \n",
      " 12  kitchen_area          21417 non-null  float64       \n",
      " 13  balcony               23695 non-null  int32         \n",
      " 14  locality_name         23695 non-null  object        \n",
      " 15  airports_nearest      18154 non-null  float64       \n",
      " 16  cityCenters_nearest   18177 non-null  float64       \n",
      " 17  parks_around3000      23695 non-null  int64         \n",
      " 18  parks_nearest         8077 non-null   float64       \n",
      " 19  ponds_around3000      23695 non-null  int64         \n",
      " 20  ponds_nearest         9107 non-null   float64       \n",
      " 21  days_exposition       20514 non-null  float64       \n",
      "dtypes: bool(3), datetime64[ns](1), float64(10), int32(1), int64(6), object(1)\n",
      "memory usage: 3.6+ MB\n",
      "None\n"
     ]
    }
   ],
   "source": [
    "#Запросим данные, чтобы проверить тип \n",
    "print(data.info())"
   ]
  },
  {
   "cell_type": "markdown",
   "metadata": {},
   "source": [
    "**2.3. Изучение уникальных значений** "
   ]
  },
  {
   "cell_type": "code",
   "execution_count": 45,
   "metadata": {},
   "outputs": [
    {
     "data": {
      "text/plain": [
       "array(['Санкт-Петербург', 'посёлок Шушары',\n",
       "       'посёлок городского типа Янино-1', 'посёлок Парголово',\n",
       "       'посёлок Мурино', 'Ломоносов', 'Сертолово', 'Петергоф', 'Пушкин',\n",
       "       'деревня Кудрово', 'Коммунар', 'Колпино',\n",
       "       'посёлок городского типа Красный Бор', 'Гатчина',\n",
       "       'деревня Фёдоровское', 'Выборг', 'Кронштадт', 'Кировск',\n",
       "       'деревня Новое Девяткино', 'посёлок Металлострой',\n",
       "       'посёлок городского типа Лебяжье',\n",
       "       'посёлок городского типа Сиверский', 'посёлок Молодцово',\n",
       "       'посёлок городского типа Кузьмоловский',\n",
       "       'садовое товарищество Новая Ропша', 'Павловск',\n",
       "       'деревня Пикколово', 'Всеволожск', 'Волхов', 'Кингисепп',\n",
       "       'Приозерск', 'Сестрорецк', 'деревня Куттузи', 'посёлок Аннино',\n",
       "       'посёлок городского типа Ефимовский', 'посёлок Плодовое',\n",
       "       'деревня Заклинье', 'посёлок Торковичи', 'посёлок Первомайское',\n",
       "       'Красное Село', 'посёлок Понтонный', 'Сясьстрой', 'деревня Старая',\n",
       "       'деревня Лесколово', 'посёлок Новый Свет', 'Сланцы',\n",
       "       'село Путилово', 'Ивангород', 'Мурино', 'Шлиссельбург',\n",
       "       'Никольское', 'Зеленогорск', 'Сосновый Бор', 'деревня Оржицы',\n",
       "       'деревня Кальтино', 'Кудрово', 'посёлок Романовка',\n",
       "       'посёлок Бугры', 'посёлок городского типа Рощино', 'Кириши',\n",
       "       'Луга', 'Волосово', 'Отрадное', 'село Павлово', 'посёлок Оредеж',\n",
       "       'село Копорье', 'посёлок Молодёжное', 'Тихвин', 'посёлок Победа',\n",
       "       'деревня Нурма', 'посёлок городского типа Синявино', 'Тосно',\n",
       "       'посёлок Стрельна', 'Бокситогорск', 'посёлок Александровская',\n",
       "       'деревня Лопухинка', 'Пикалёво', 'посёлок Терволово',\n",
       "       'посёлок городского типа Советский', 'Подпорожье',\n",
       "       'посёлок Петровское', 'посёлок городского типа Токсово',\n",
       "       'посёлок Сельцо', 'посёлок городского типа Вырица',\n",
       "       'деревня Кипень', 'деревня Келози', 'деревня Вартемяги',\n",
       "       'посёлок Тельмана', 'посёлок Севастьяново',\n",
       "       'посёлок городского типа Большая Ижора', 'Неизвестно',\n",
       "       'посёлок городского типа Павлово', 'деревня Агалатово',\n",
       "       'посёлок Новогорелово', 'посёлок городского типа Лесогорский',\n",
       "       'деревня Лаголово', 'посёлок Цвелодубово',\n",
       "       'посёлок городского типа Рахья', 'деревня Белогорка',\n",
       "       'посёлок Заводской', 'посёлок городского типа Новоселье',\n",
       "       'деревня Большие Колпаны', 'деревня Горбунки', 'деревня Батово',\n",
       "       'деревня Заневка', 'деревня Иссад', 'Приморск',\n",
       "       'посёлок городского типа Фёдоровское', 'деревня Мистолово',\n",
       "       'Новая Ладога', 'посёлок Зимитицы', 'посёлок Барышево',\n",
       "       'деревня Разметелево', 'посёлок городского типа имени Свердлова',\n",
       "       'деревня Пеники', 'посёлок Рябово', 'деревня Пудомяги',\n",
       "       'посёлок станции Корнево', 'деревня Низино', 'деревня Бегуницы',\n",
       "       'посёлок Поляны', 'посёлок городского типа Мга',\n",
       "       'посёлок Елизаветино', 'посёлок городского типа Кузнечное',\n",
       "       'деревня Колтуши', 'посёлок Запорожское', 'деревня Гостилицы',\n",
       "       'деревня Малое Карлино', 'посёлок Мичуринское',\n",
       "       'посёлок городского типа имени Морозова', 'посёлок Песочный',\n",
       "       'посёлок Сосново', 'деревня Аро', 'посёлок Ильичёво',\n",
       "       'посёлок городского типа Тайцы', 'деревня Малое Верево',\n",
       "       'деревня Извара', 'посёлок станции Вещево', 'село Паша',\n",
       "       'деревня Калитино', 'посёлок городского типа Ульяновка',\n",
       "       'деревня Чудской Бор', 'посёлок городского типа Дубровка',\n",
       "       'деревня Мины', 'посёлок Войсковицы', 'деревня Коркино',\n",
       "       'посёлок Ропша', 'посёлок городского типа Приладожский',\n",
       "       'посёлок Щеглово', 'посёлок Гаврилово', 'Лодейное Поле',\n",
       "       'деревня Рабитицы', 'посёлок городского типа Никольский',\n",
       "       'деревня Кузьмолово', 'деревня Малые Колпаны',\n",
       "       'посёлок Петро-Славянка', 'посёлок городского типа Назия',\n",
       "       'посёлок Репино', 'посёлок Углово', 'посёлок Старая Малукса',\n",
       "       'садовое товарищество Рахья', 'деревня Меньково',\n",
       "       'деревня Старые Бегуницы', 'посёлок Сапёрный', 'посёлок Семрино',\n",
       "       'посёлок Глажево', 'посёлок Кобринское', 'деревня Гарболово',\n",
       "       'деревня Юкки', 'посёлок станции Приветнинское',\n",
       "       'деревня Мануйлово', 'деревня Пчева', 'посёлок Цвылёво',\n",
       "       'посёлок Мельниково', 'посёлок Пудость', 'посёлок Усть-Луга',\n",
       "       'Светогорск', 'Любань', 'посёлок Селезнёво',\n",
       "       'посёлок городского типа Рябово', 'Каменногорск', 'деревня Кривко',\n",
       "       'посёлок Глебычево', 'деревня Парицы', 'посёлок Жилпосёлок',\n",
       "       'посёлок Войскорово', 'село Никольское', 'посёлок Стеклянный',\n",
       "       'посёлок городского типа Важины', 'посёлок Мыза-Ивановка',\n",
       "       'село Русско-Высоцкое', 'посёлок городского типа Форносово',\n",
       "       'село Старая Ладога', 'посёлок Житково',\n",
       "       'посёлок городского типа Виллози', 'деревня Лампово',\n",
       "       'деревня Шпаньково', 'деревня Лаврики', 'посёлок Сумино',\n",
       "       'посёлок Возрождение', 'деревня Старосиверская',\n",
       "       'посёлок Кикерино', 'деревня Старое Хинколово',\n",
       "       'посёлок Пригородный', 'посёлок Торфяное',\n",
       "       'посёлок городского типа Будогощь', 'посёлок Суходолье',\n",
       "       'посёлок Красная Долина', 'деревня Хапо-Ое',\n",
       "       'посёлок городского типа Дружная Горка', 'посёлок Лисий Нос',\n",
       "       'деревня Яльгелево', 'село Рождествено', 'деревня Старополье',\n",
       "       'посёлок Левашово', 'деревня Сяськелево', 'деревня Камышовка',\n",
       "       'садоводческое некоммерческое товарищество Лесная Поляна',\n",
       "       'деревня Хязельки', 'посёлок Жилгородок', 'деревня Ялгино',\n",
       "       'посёлок Новый Учхоз', 'посёлок Гончарово', 'посёлок Почап',\n",
       "       'посёлок Сапёрное', 'посёлок Платформа 69-й километр',\n",
       "       'посёлок Каложицы', 'деревня Фалилеево', 'деревня Пельгора',\n",
       "       'деревня Торошковичи', 'посёлок Белоостров', 'посёлок Алексеевка',\n",
       "       'посёлок Серебрянский', 'посёлок Лукаши', 'деревня Щеглово',\n",
       "       'деревня Тарасово', 'посёлок Кингисеппский',\n",
       "       'посёлок при железнодорожной станции Вещево', 'посёлок Ушаки',\n",
       "       'деревня Котлы', 'деревня Сижно', 'деревня Торосово',\n",
       "       'посёлок Форт Красная Горка', 'деревня Новолисино',\n",
       "       'посёлок станции Громово', 'деревня Глинка',\n",
       "       'деревня Старая Пустошь', 'посёлок Коммунары', 'посёлок Починок',\n",
       "       'посёлок городского типа Вознесенье', 'деревня Разбегаево',\n",
       "       'посёлок Гладкое',\n",
       "       'посёлок при железнодорожной станции Приветнинское',\n",
       "       'посёлок Тёсово-4', 'деревня Бор', 'посёлок Коробицыно',\n",
       "       'деревня Большая Вруда', 'деревня Курковицы', 'посёлок Кобралово',\n",
       "       'деревня Суоранда', 'посёлок городского типа Кондратьево',\n",
       "       'коттеджный посёлок Счастье', 'посёлок Любань', 'деревня Реброво',\n",
       "       'деревня Зимитицы', 'деревня Тойворово', 'посёлок Семиозерье',\n",
       "       'посёлок Лесное', 'посёлок Совхозный', 'посёлок Ленинское',\n",
       "       'посёлок Суйда', 'деревня Нижние Осельки', 'посёлок станции Свирь',\n",
       "       'посёлок Перово', 'Высоцк', 'посёлок Гарболово', 'село Шум',\n",
       "       'посёлок Котельский', 'посёлок станции Лужайка',\n",
       "       'деревня Большая Пустомержа', 'посёлок Красносельское',\n",
       "       'деревня Вахнова Кара', 'деревня Пижма',\n",
       "       'коттеджный посёлок Кивеннапа Север', 'посёлок Ромашки',\n",
       "       'деревня Каськово', 'деревня Куровицы', 'посёлок Плоское',\n",
       "       'посёлок Кирпичное', 'деревня Ям-Тесово', 'деревня Раздолье',\n",
       "       'деревня Терпилицы', 'посёлок Шугозеро', 'деревня Ваганово',\n",
       "       'посёлок Пушное', 'садовое товарищество Садко',\n",
       "       'посёлок Усть-Ижора', 'деревня Выскатка',\n",
       "       'посёлок городского типа Свирьстрой', 'посёлок Громово',\n",
       "       'деревня Кисельня', 'деревня Трубников Бор', 'посёлок Калитино',\n",
       "       'посёлок Высокоключевой', 'садовое товарищество Приладожский',\n",
       "       'посёлок Пансионат Зелёный Бор', 'деревня Ненимяки',\n",
       "       'деревня Снегирёвка', 'деревня Рапполово', 'деревня Пустынка',\n",
       "       'посёлок Рабитицы', 'деревня Большой Сабск', 'деревня Русско',\n",
       "       'деревня Лупполово', 'деревня Большое Рейзино',\n",
       "       'деревня Малая Романовка', 'посёлок Дружноселье', 'посёлок Пчевжа',\n",
       "       'посёлок Володарское', 'деревня Нижняя',\n",
       "       'коттеджный посёлок Лесное', 'деревня Тихковицы',\n",
       "       'деревня Борисова Грива', 'посёлок Дзержинского'], dtype=object)"
      ]
     },
     "metadata": {},
     "output_type": "display_data"
    }
   ],
   "source": [
    "#Напишем цикл,который будет проходить через срез столбца с уникальными значениями\n",
    "for i in data.loc[data['locality_name'].notna(), 'locality_name'].unique():\n",
    "    data['locality_name'].replace({i: i.replace('поселок', 'посёлок')}, inplace=True)\n",
    "    data['locality_name'].replace({i: i.replace('городской посёлок', 'посёлок городского типа')}, inplace=True)\n",
    "    \n",
    "display(data['locality_name'].unique())    \n"
   ]
  },
  {
   "cell_type": "markdown",
   "metadata": {},
   "source": [
    "# Выводы : #\n",
    "1. Данные в таблице содержат большое колличество пропусков (до 65% в столбце).\n",
    "2. Пропуски были проанализированы и по возможности заполнены (например пропущенные значения в колличестве балконов заменены на 0).\n",
    "3. Возможные причины пропусков приведены для каждой переменной. Основными причинами являются отсутствие информации при заполнении объявления и сбои в работе системы при загрузке/выгрузке базы данных.\n",
    "4. Типы данных были преобразованы в соответствии с описанием таблицы и смыслом хранимой информации.\n",
    "5. Столбец с неявными дубликатами приведен к единому виду по населенным пунктам."
   ]
  },
  {
   "cell_type": "markdown",
   "metadata": {
    "id": "QCcvyY6YAwb-"
   },
   "source": [
    "### Добавьте в таблицу новые столбцы"
   ]
  },
  {
   "cell_type": "markdown",
   "metadata": {},
   "source": [
    "**3.1. Цена одного квадратного метра**"
   ]
  },
  {
   "cell_type": "code",
   "execution_count": 46,
   "metadata": {
    "id": "Z8eJek3IAwb-"
   },
   "outputs": [],
   "source": [
    "#нужно поделить стоимость объекта на его общую площадь, а затем округлить до двух знаков после запятой\n",
    "data['price_meter'] = data['last_price']/data['total_area']"
   ]
  },
  {
   "cell_type": "markdown",
   "metadata": {},
   "source": [
    "**3.2. День недели публикации**"
   ]
  },
  {
   "cell_type": "code",
   "execution_count": 47,
   "metadata": {},
   "outputs": [],
   "source": [
    "#день недели публикации объявления (0 — понедельник, 1 — вторник и так далее\n",
    "data['weekday'] = data['first_day_exposition'].dt.weekday"
   ]
  },
  {
   "cell_type": "markdown",
   "metadata": {},
   "source": [
    "**3.3. Месяц публикации и год**"
   ]
  },
  {
   "cell_type": "code",
   "execution_count": 48,
   "metadata": {},
   "outputs": [],
   "source": [
    "#месяц  и год публикации объявления\n",
    "data['month'] = data['first_day_exposition'].dt.month\n",
    "data['year'] = data['first_day_exposition'].dt.year"
   ]
  },
  {
   "cell_type": "markdown",
   "metadata": {},
   "source": [
    "**3.4. Тип этажа квартиры**"
   ]
  },
  {
   "cell_type": "code",
   "execution_count": 49,
   "metadata": {},
   "outputs": [
    {
     "name": "stdout",
     "output_type": "stream",
     "text": [
      "[ 8  1  4  9 13  5  6 22 26  7  3  2 11 15 18 10 19 16 20 27 25 17 14 12\n",
      " 21 28 24 23 30 29 32 33 31]\n"
     ]
    }
   ],
   "source": [
    "print(data['floor'].unique())\n",
    "\n",
    "#решение через функцию \n",
    "def floor(row):\n",
    "    if  row['floor'] == 1:\n",
    "        result = 'первый'\n",
    "    elif row['floor'] == row['floors_total']:\n",
    "        result = 'последний'\n",
    "    else:\n",
    "        result = 'другой'\n",
    "        \n",
    "    return result\n",
    "\n",
    "#Создаем столбецб который с помощью метода apply воспроизведет функцию для каждой строки \n",
    "data['floor_type'] = data.apply(floor, axis=1)\n",
    "\n",
    "#display(print(data['floor_type'].head(5)))"
   ]
  },
  {
   "cell_type": "markdown",
   "metadata": {},
   "source": [
    "**3.5. Расстояние до центра города в километрах**"
   ]
  },
  {
   "cell_type": "code",
   "execution_count": 50,
   "metadata": {},
   "outputs": [],
   "source": [
    "#переведите из м в км и округлите до ближайших целых значений\n",
    "data['cityCenters_km'] = round(data['cityCenters_nearest']/1000) "
   ]
  },
  {
   "cell_type": "markdown",
   "metadata": {
    "id": "pPyxrKWTAwb-"
   },
   "source": [
    "### Проведите исследовательский анализ данных"
   ]
  },
  {
   "cell_type": "markdown",
   "metadata": {},
   "source": [
    "**4.1 Изучение параметров**"
   ]
  },
  {
   "cell_type": "markdown",
   "metadata": {
    "id": "V2f0D3kLAwb-"
   },
   "source": [
    "**4.1.1 Изучение параметра: общая площадь**"
   ]
  },
  {
   "cell_type": "code",
   "execution_count": 51,
   "metadata": {},
   "outputs": [
    {
     "data": {
      "image/png": "[encoded data removed]",
      "text/plain": [
       "<Figure size 1200x500 with 1 Axes>"
      ]
     },
     "metadata": {},
     "output_type": "display_data"
    }
   ],
   "source": [
    "#Построим гистограмму для просмотра редких значений\n",
    "fig, ax = plt.subplots(figsize=(12, 5))\n",
    "data['total_area'].hist(bins=50, ax=ax)\n",
    "ax.set(title='Распределение общих площадей', xlabel='общая площадь', ylabel='частота')\n",
    "plt.show()"
   ]
  },
  {
   "cell_type": "markdown",
   "metadata": {},
   "source": [
    "Данные о Площади квартир более 200 м2 снущают. Проверим наличие в них отклонений от цены."
   ]
  },
  {
   "cell_type": "code",
   "execution_count": 52,
   "metadata": {},
   "outputs": [
    {
     "data": {
      "text/html": [
       "<div>\n",
       "<style scoped>\n",
       "    .dataframe tbody tr th:only-of-type {\n",
       "        vertical-align: middle;\n",
       "    }\n",
       "\n",
       "    .dataframe tbody tr th {\n",
       "        vertical-align: top;\n",
       "    }\n",
       "\n",
       "    .dataframe thead th {\n",
       "        text-align: right;\n",
       "    }\n",
       "</style>\n",
       "<table border=\"1\" class=\"dataframe\">\n",
       "  <thead>\n",
       "    <tr style=\"text-align: right;\">\n",
       "      <th></th>\n",
       "      <th>total_images</th>\n",
       "      <th>last_price</th>\n",
       "      <th>total_area</th>\n",
       "      <th>first_day_exposition</th>\n",
       "      <th>rooms</th>\n",
       "      <th>ceiling_height</th>\n",
       "      <th>floors_total</th>\n",
       "      <th>living_area</th>\n",
       "      <th>floor</th>\n",
       "      <th>is_apartment</th>\n",
       "      <th>studio</th>\n",
       "      <th>open_plan</th>\n",
       "      <th>kitchen_area</th>\n",
       "      <th>balcony</th>\n",
       "      <th>locality_name</th>\n",
       "      <th>airports_nearest</th>\n",
       "      <th>cityCenters_nearest</th>\n",
       "      <th>parks_around3000</th>\n",
       "      <th>parks_nearest</th>\n",
       "      <th>ponds_around3000</th>\n",
       "      <th>ponds_nearest</th>\n",
       "      <th>days_exposition</th>\n",
       "      <th>price_meter</th>\n",
       "      <th>weekday</th>\n",
       "      <th>month</th>\n",
       "      <th>year</th>\n",
       "      <th>floor_type</th>\n",
       "      <th>cityCenters_km</th>\n",
       "    </tr>\n",
       "  </thead>\n",
       "  <tbody>\n",
       "  </tbody>\n",
       "</table>\n",
       "</div>"
      ],
      "text/plain": [
       "Empty DataFrame\n",
       "Columns: [total_images, last_price, total_area, first_day_exposition, rooms, ceiling_height, floors_total, living_area, floor, is_apartment, studio, open_plan, kitchen_area, balcony, locality_name, airports_nearest, cityCenters_nearest, parks_around3000, parks_nearest, ponds_around3000, ponds_nearest, days_exposition, price_meter, weekday, month, year, floor_type, cityCenters_km]\n",
       "Index: []"
      ]
     },
     "metadata": {},
     "output_type": "display_data"
    },
    {
     "name": "stdout",
     "output_type": "stream",
     "text": [
      "None\n"
     ]
    }
   ],
   "source": [
    "print(display(data.loc[(data['total_area'] > 200) & (data['last_price']< data['last_price'].median())]))"
   ]
  },
  {
   "cell_type": "markdown",
   "metadata": {},
   "source": [
    "При анализе данных общей площади не обнаружены отклонения и редкие значения. Проведена проверка значений более 200 м2 и цены менее медианного значения. Данные не обнаружены."
   ]
  },
  {
   "cell_type": "code",
   "execution_count": 53,
   "metadata": {},
   "outputs": [
    {
     "name": "stdout",
     "output_type": "stream",
     "text": [
      "Доля значений свыше 200 м2: 0.9748892171344165\n"
     ]
    },
    {
     "data": {
      "image/png": "[encoded data removed]",
      "text/plain": [
       "<Figure size 1200x500 with 1 Axes>"
      ]
     },
     "metadata": {},
     "output_type": "display_data"
    }
   ],
   "source": [
    "#Сосчитаем долю для удаление этих значений\n",
    "print('Доля значений свыше 200 м2:',  (data['total_area'] >= 200).sum() / data.shape[0]*100)\n",
    "\n",
    "#Для дальнейшеного анализа уберем значения выше 200 м2 так как они меньше 2 процентов \n",
    "data = data.query('total_area <= 200')\n",
    "\n",
    "fig, ax = plt.subplots(figsize=(12, 5))\n",
    "data['total_area'].hist(bins=50, ax=ax)\n",
    "ax.set(title='Распределение общих площадей', xlabel='общая площадь', ylabel='частота')\n",
    "plt.show()"
   ]
  },
  {
   "cell_type": "markdown",
   "metadata": {
    "id": "V2f0D3kLAwb-"
   },
   "source": [
    "**4.1.2. Изучение параметра: жилая площадь**"
   ]
  },
  {
   "cell_type": "code",
   "execution_count": 54,
   "metadata": {},
   "outputs": [
    {
     "data": {
      "image/png": "[encoded data removed]",
      "text/plain": [
       "<Figure size 1200x500 with 1 Axes>"
      ]
     },
     "metadata": {},
     "output_type": "display_data"
    }
   ],
   "source": [
    "#Построим гистограмму для просмотра редких значений\n",
    "fig, ax = plt.subplots(figsize=(12, 5))\n",
    "data['living_area'].hist(bins=50, ax=ax)\n",
    "ax.set(title='Распределение жилых площадей', xlabel='жилая площадь', ylabel='частота')\n",
    "plt.show()"
   ]
  },
  {
   "cell_type": "markdown",
   "metadata": {},
   "source": [
    "На распределении видны 2 пика (30 м2 и 18 м2). Могу предположить, что это стандартная жилая площадь у однокомнатных и двухкомнатных квартир в Санкт-Петербурге. Так же интересно значение 22 м2."
   ]
  },
  {
   "cell_type": "code",
   "execution_count": 55,
   "metadata": {},
   "outputs": [
    {
     "name": "stdout",
     "output_type": "stream",
     "text": [
      "30.0\n"
     ]
    }
   ],
   "source": [
    "#Проверим теорию, что пропуски, которые не заполнены и являются упадком в значении 22 м2\n",
    "print(data['living_area'].median())"
   ]
  },
  {
   "cell_type": "markdown",
   "metadata": {},
   "source": [
    "Теория не подтвердилась, но пик в 30 м2 является обослованным, так как это медианное значение."
   ]
  },
  {
   "cell_type": "code",
   "execution_count": 56,
   "metadata": {},
   "outputs": [
    {
     "data": {
      "text/html": [
       "<div>\n",
       "<style scoped>\n",
       "    .dataframe tbody tr th:only-of-type {\n",
       "        vertical-align: middle;\n",
       "    }\n",
       "\n",
       "    .dataframe tbody tr th {\n",
       "        vertical-align: top;\n",
       "    }\n",
       "\n",
       "    .dataframe thead th {\n",
       "        text-align: right;\n",
       "    }\n",
       "</style>\n",
       "<table border=\"1\" class=\"dataframe\">\n",
       "  <thead>\n",
       "    <tr style=\"text-align: right;\">\n",
       "      <th></th>\n",
       "      <th>total_images</th>\n",
       "      <th>last_price</th>\n",
       "      <th>total_area</th>\n",
       "      <th>first_day_exposition</th>\n",
       "      <th>rooms</th>\n",
       "      <th>ceiling_height</th>\n",
       "      <th>floors_total</th>\n",
       "      <th>living_area</th>\n",
       "      <th>floor</th>\n",
       "      <th>is_apartment</th>\n",
       "      <th>studio</th>\n",
       "      <th>open_plan</th>\n",
       "      <th>kitchen_area</th>\n",
       "      <th>balcony</th>\n",
       "      <th>locality_name</th>\n",
       "      <th>airports_nearest</th>\n",
       "      <th>cityCenters_nearest</th>\n",
       "      <th>parks_around3000</th>\n",
       "      <th>parks_nearest</th>\n",
       "      <th>ponds_around3000</th>\n",
       "      <th>ponds_nearest</th>\n",
       "      <th>days_exposition</th>\n",
       "      <th>price_meter</th>\n",
       "      <th>weekday</th>\n",
       "      <th>month</th>\n",
       "      <th>year</th>\n",
       "      <th>floor_type</th>\n",
       "      <th>cityCenters_km</th>\n",
       "    </tr>\n",
       "  </thead>\n",
       "  <tbody>\n",
       "    <tr>\n",
       "      <th>9861</th>\n",
       "      <td>10</td>\n",
       "      <td>2350000.0</td>\n",
       "      <td>25.0</td>\n",
       "      <td>2017-12-03</td>\n",
       "      <td>0</td>\n",
       "      <td>2.65</td>\n",
       "      <td>22</td>\n",
       "      <td>25.0</td>\n",
       "      <td>17</td>\n",
       "      <td>False</td>\n",
       "      <td>False</td>\n",
       "      <td>True</td>\n",
       "      <td>NaN</td>\n",
       "      <td>2</td>\n",
       "      <td>посёлок Мурино</td>\n",
       "      <td>NaN</td>\n",
       "      <td>NaN</td>\n",
       "      <td>0</td>\n",
       "      <td>NaN</td>\n",
       "      <td>0</td>\n",
       "      <td>NaN</td>\n",
       "      <td>13.0</td>\n",
       "      <td>94000.000000</td>\n",
       "      <td>6</td>\n",
       "      <td>12</td>\n",
       "      <td>2017</td>\n",
       "      <td>другой</td>\n",
       "      <td>NaN</td>\n",
       "    </tr>\n",
       "    <tr>\n",
       "      <th>12691</th>\n",
       "      <td>1</td>\n",
       "      <td>3700000.0</td>\n",
       "      <td>24.2</td>\n",
       "      <td>2017-11-10</td>\n",
       "      <td>0</td>\n",
       "      <td>2.65</td>\n",
       "      <td>19</td>\n",
       "      <td>24.2</td>\n",
       "      <td>13</td>\n",
       "      <td>False</td>\n",
       "      <td>False</td>\n",
       "      <td>True</td>\n",
       "      <td>NaN</td>\n",
       "      <td>1</td>\n",
       "      <td>Санкт-Петербург</td>\n",
       "      <td>17837.0</td>\n",
       "      <td>16840.0</td>\n",
       "      <td>0</td>\n",
       "      <td>NaN</td>\n",
       "      <td>2</td>\n",
       "      <td>210.0</td>\n",
       "      <td>74.0</td>\n",
       "      <td>152892.561983</td>\n",
       "      <td>4</td>\n",
       "      <td>11</td>\n",
       "      <td>2017</td>\n",
       "      <td>другой</td>\n",
       "      <td>17.0</td>\n",
       "    </tr>\n",
       "  </tbody>\n",
       "</table>\n",
       "</div>"
      ],
      "text/plain": [
       "       total_images  last_price  total_area first_day_exposition  rooms  \\\n",
       "9861             10   2350000.0        25.0           2017-12-03      0   \n",
       "12691             1   3700000.0        24.2           2017-11-10      0   \n",
       "\n",
       "       ceiling_height  floors_total  living_area  floor  is_apartment  studio  \\\n",
       "9861             2.65            22         25.0     17         False   False   \n",
       "12691            2.65            19         24.2     13         False   False   \n",
       "\n",
       "       open_plan  kitchen_area  balcony    locality_name  airports_nearest  \\\n",
       "9861        True           NaN        2   посёлок Мурино               NaN   \n",
       "12691       True           NaN        1  Санкт-Петербург           17837.0   \n",
       "\n",
       "       cityCenters_nearest  parks_around3000  parks_nearest  ponds_around3000  \\\n",
       "9861                   NaN                 0            NaN                 0   \n",
       "12691              16840.0                 0            NaN                 2   \n",
       "\n",
       "       ponds_nearest  days_exposition    price_meter  weekday  month  year  \\\n",
       "9861             NaN             13.0   94000.000000        6     12  2017   \n",
       "12691          210.0             74.0  152892.561983        4     11  2017   \n",
       "\n",
       "      floor_type  cityCenters_km  \n",
       "9861      другой             NaN  \n",
       "12691     другой            17.0  "
      ]
     },
     "metadata": {},
     "output_type": "display_data"
    },
    {
     "name": "stdout",
     "output_type": "stream",
     "text": [
      "None\n"
     ]
    }
   ],
   "source": [
    "#Проверим не равна ли жилая площадь общей площади и сколько таких значений \n",
    "print(display(data.loc[(data['living_area'] == data['total_area'])]))"
   ]
  },
  {
   "cell_type": "code",
   "execution_count": 57,
   "metadata": {},
   "outputs": [
    {
     "name": "stdout",
     "output_type": "stream",
     "text": [
      "Доля значений < 7 м2 и > 200 м2: 0.03408897221748764\n"
     ]
    },
    {
     "data": {
      "image/png": "[encoded data removed]",
      "text/plain": [
       "<Figure size 1200x500 with 1 Axes>"
      ]
     },
     "metadata": {},
     "output_type": "display_data"
    }
   ],
   "source": [
    "#Сосчитаем долю для удаление этих значений <7 м2 и >200 м2\n",
    "print('Доля значений < 7 м2 и > 200 м2:', (( data['living_area'] >= 200).sum() / data.shape[0]*100) + ((data['living_area'] <= 7).sum() / data.shape[0]*100))\n",
    "\n",
    "#Для дальнейшеного анализа уберем значения выше 200 м2  и меньше 7 м2, так как она ~ 3 процента \n",
    "data = data.query(' 7 <=living_area <= 200')\n",
    "\n",
    "fig, ax = plt.subplots(figsize=(12, 5))\n",
    "data['living_area'].hist(bins=50, ax=ax)\n",
    "ax.set(title='Распределение жилых площадей', xlabel='жилая площадь', ylabel='частота')\n",
    "plt.show()"
   ]
  },
  {
   "cell_type": "markdown",
   "metadata": {
    "id": "V2f0D3kLAwb-"
   },
   "source": [
    "**4.1.3. Изучение параметра: площадь кухни**"
   ]
  },
  {
   "cell_type": "code",
   "execution_count": 58,
   "metadata": {},
   "outputs": [
    {
     "data": {
      "image/png": "[encoded data removed]",
      "text/plain": [
       "<Figure size 1200x500 with 1 Axes>"
      ]
     },
     "metadata": {},
     "output_type": "display_data"
    }
   ],
   "source": [
    "#Построим гистограмму для просмотра редких значений\n",
    "fig, ax = plt.subplots(figsize=(12, 5))\n",
    "data['kitchen_area'].hist(bins=50, ax=ax)\n",
    "ax.set(title='Распределение площади кухни', xlabel='площадь кухни', ylabel='частота')\n",
    "plt.show()"
   ]
  },
  {
   "cell_type": "markdown",
   "metadata": {},
   "source": [
    "Распределение Пуассона. Так же уберем все выбросы кухонь менее 5 м2 и более 60 м2, изучив долю данных."
   ]
  },
  {
   "cell_type": "code",
   "execution_count": 59,
   "metadata": {},
   "outputs": [
    {
     "name": "stdout",
     "output_type": "stream",
     "text": [
      "Доля значений < 5 м2 и > 60 м2: 2.1820708825573316\n"
     ]
    },
    {
     "data": {
      "image/png": "[encoded data removed]",
      "text/plain": [
       "<Figure size 1200x500 with 1 Axes>"
      ]
     },
     "metadata": {},
     "output_type": "display_data"
    }
   ],
   "source": [
    "#Сосчитаем долю для удаление этих значений <5 м2 и > 60 м2\n",
    "print('Доля значений < 5 м2 и > 60 м2:', (( data['kitchen_area'] >= 60).sum() / data.shape[0]*100) + ((data['kitchen_area'] <= 5).sum() / data.shape[0]*100))\n",
    "\n",
    "#Для дальнейшеного анализа уберем значения выше 60 м2  и меньше 5 м2, так как она ~ 2 процента \n",
    "data = data.query(' 5 <=kitchen_area <= 60')\n",
    "\n",
    "\n",
    "fig, ax = plt.subplots(figsize=(12, 5))\n",
    "data['kitchen_area'].hist(bins=50, ax=ax)\n",
    "ax.set(title='Распределение площади кухни', xlabel='площадь кухни', ylabel='частота')\n",
    "plt.show()"
   ]
  },
  {
   "cell_type": "markdown",
   "metadata": {
    "id": "V2f0D3kLAwb-"
   },
   "source": [
    "**4.1.4. Изучение параметра: цена объекта**"
   ]
  },
  {
   "cell_type": "code",
   "execution_count": 60,
   "metadata": {},
   "outputs": [],
   "source": [
    "data = data.query('last_price <= 2e7') "
   ]
  },
  {
   "cell_type": "code",
   "execution_count": 61,
   "metadata": {},
   "outputs": [
    {
     "data": {
      "image/png": "[encoded data removed]",
      "text/plain": [
       "<Figure size 1200x500 with 1 Axes>"
      ]
     },
     "metadata": {},
     "output_type": "display_data"
    }
   ],
   "source": [
    "#Делим значения в столбце data['last_price'] на 1 млн.\n",
    "data['last_price'] = data['last_price']/(10**6)\n",
    "#Построим гистограмму для просмотра редких значений\n",
    "fig, ax = plt.subplots(figsize=(12, 5))\n",
    "data['last_price'].hist(bins=50, ax=ax)\n",
    "ax.set(title='Распределение цен на объект', xlabel='цена на объект', ylabel='частота')\n",
    "plt.show()"
   ]
  },
  {
   "cell_type": "markdown",
   "metadata": {},
   "source": [
    "Распределение Пуасона "
   ]
  },
  {
   "cell_type": "markdown",
   "metadata": {
    "id": "V2f0D3kLAwb-"
   },
   "source": [
    "**4.1.5. Изучение параметра: количество комнат**"
   ]
  },
  {
   "cell_type": "code",
   "execution_count": 62,
   "metadata": {},
   "outputs": [
    {
     "name": "stdout",
     "output_type": "stream",
     "text": [
      "rooms\n",
      "2     7018\n",
      "1     7015\n",
      "3     5051\n",
      "4      903\n",
      "5      187\n",
      "6       47\n",
      "7       12\n",
      "11       1\n",
      "8        1\n",
      "Name: count, dtype: int64\n"
     ]
    }
   ],
   "source": [
    "print(data['rooms'].value_counts())\n",
    "data = data.query('rooms <= 6') "
   ]
  },
  {
   "cell_type": "code",
   "execution_count": 63,
   "metadata": {},
   "outputs": [
    {
     "data": {
      "image/png": "[encoded data removed]",
      "text/plain": [
       "<Figure size 1200x500 with 1 Axes>"
      ]
     },
     "metadata": {},
     "output_type": "display_data"
    }
   ],
   "source": [
    "#Построим гистограмму для просмотра редких значений\n",
    "fig, ax = plt.subplots(figsize=(12, 5))\n",
    "data['rooms'].hist(bins=5, ax=ax)\n",
    "ax.set(title='Распределение комнат', xlabel='количество комнат', ylabel='частота')\n",
    "plt.show()"
   ]
  },
  {
   "cell_type": "markdown",
   "metadata": {
    "id": "V2f0D3kLAwb-"
   },
   "source": [
    "**4.1.6. Изучение параметра: высота потолков**"
   ]
  },
  {
   "cell_type": "code",
   "execution_count": 64,
   "metadata": {},
   "outputs": [
    {
     "data": {
      "image/png": "[encoded data removed]",
      "text/plain": [
       "<Figure size 1200x500 with 1 Axes>"
      ]
     },
     "metadata": {},
     "output_type": "display_data"
    }
   ],
   "source": [
    "#По заданию берем данные из строк >= 20 из столбца с высотой и делим на 10\n",
    "data.loc[data['ceiling_height'] >= 20, 'ceiling_height'] /= 10\n",
    "data = data.query('2 <= ceiling_height <= 4')\n",
    "\n",
    "#В первом шаге мы заметили странные значения и удалили их (1.2, 1.75, 1, 100)\n",
    "fig, ax = plt.subplots(figsize=(12, 5))\n",
    "data['ceiling_height'].hist(bins=20, ax=ax)\n",
    "ax.set(title='Распределение высоты потолков', xlabel='высота потолков', ylabel='частота')\n",
    "plt.show()"
   ]
  },
  {
   "cell_type": "markdown",
   "metadata": {
    "id": "V2f0D3kLAwb-"
   },
   "source": [
    "**4.1.7. Изучение параметра: тип этажа квартиры**"
   ]
  },
  {
   "cell_type": "code",
   "execution_count": 65,
   "metadata": {},
   "outputs": [
    {
     "data": {
      "image/png": "[encoded data removed]",
      "text/plain": [
       "<Figure size 1200x500 with 1 Axes>"
      ]
     },
     "metadata": {},
     "output_type": "display_data"
    }
   ],
   "source": [
    "fig, ax = plt.subplots(figsize=(12, 5))\n",
    "data['floor_type'].hist(bins=3, ax=ax)\n",
    "ax.set(title='Распределение высоты квартиры', xlabel='этаж', ylabel='частота')\n",
    "plt.show()"
   ]
  },
  {
   "cell_type": "markdown",
   "metadata": {
    "id": "V2f0D3kLAwb-"
   },
   "source": [
    "**4.1.8. Изучение параметра: общее количество этажей в доме**"
   ]
  },
  {
   "cell_type": "code",
   "execution_count": 66,
   "metadata": {},
   "outputs": [
    {
     "data": {
      "image/png": "[encoded data removed]",
      "text/plain": [
       "<Figure size 1200x500 with 1 Axes>"
      ]
     },
     "metadata": {},
     "output_type": "display_data"
    }
   ],
   "source": [
    "fig, ax = plt.subplots(figsize=(12, 5))\n",
    "data['floors_total'].hist(bins=20, ax=ax)\n",
    "ax.set(title='Распределение этажей в домах', xlabel='этаж', ylabel='частота')\n",
    "plt.show()"
   ]
  },
  {
   "cell_type": "markdown",
   "metadata": {},
   "source": [
    "Санкт-Петербург славится центром с малоэтажными домами. Логично, что пик именно на 5- этажных домах."
   ]
  },
  {
   "cell_type": "markdown",
   "metadata": {
    "id": "V2f0D3kLAwb-"
   },
   "source": [
    "**4.1.9. Изучение параметра: расстояние до центра города в метрах**"
   ]
  },
  {
   "cell_type": "code",
   "execution_count": 67,
   "metadata": {},
   "outputs": [
    {
     "data": {
      "image/png": "[encoded data removed]",
      "text/plain": [
       "<Figure size 1200x500 with 1 Axes>"
      ]
     },
     "metadata": {},
     "output_type": "display_data"
    }
   ],
   "source": [
    "fig, ax = plt.subplots(figsize=(12, 5))\n",
    "data['cityCenters_nearest'].hist(bins=20, ax=ax)\n",
    "ax.set(title='Распределение растояний до центра', xlabel='расстояние до центра', ylabel='частота')\n",
    "plt.show()"
   ]
  },
  {
   "cell_type": "markdown",
   "metadata": {},
   "source": [
    "Значения, которые указаны свыше 40000 - скорее всего это населенные пункты у города Санкт-Петербург (Петергоф и другие)."
   ]
  },
  {
   "cell_type": "markdown",
   "metadata": {
    "id": "V2f0D3kLAwb-"
   },
   "source": [
    "**4.1.10. Изучение параметра: расстояние до ближайшего парка**"
   ]
  },
  {
   "cell_type": "code",
   "execution_count": 68,
   "metadata": {},
   "outputs": [
    {
     "data": {
      "image/png": "[encoded data removed]",
      "text/plain": [
       "<Figure size 1200x500 with 1 Axes>"
      ]
     },
     "metadata": {},
     "output_type": "display_data"
    }
   ],
   "source": [
    "fig, ax = plt.subplots(figsize=(12, 5))\n",
    "data['parks_nearest'].hist(bins=50, ax=ax)\n",
    "ax.set(title='Распределение расстояний до ближайшего парка', xlabel='расстояние до ближайшего парка', ylabel='частота')\n",
    "plt.show()\n",
    "#Странно, что люди живут в 0 метрах от парка, но всё возможно "
   ]
  },
  {
   "cell_type": "markdown",
   "metadata": {},
   "source": [
    "**4.2 Анализ продажи квартир**"
   ]
  },
  {
   "cell_type": "markdown",
   "metadata": {},
   "source": [
    "**4.2.1. Построить гистограмму**"
   ]
  },
  {
   "cell_type": "code",
   "execution_count": 69,
   "metadata": {},
   "outputs": [
    {
     "name": "stdout",
     "output_type": "stream",
     "text": [
      "99-й персентиль значений days_exposition: 1057.1\n",
      "1-й персентиль значений days_exposition: 4.0\n"
     ]
    },
    {
     "data": {
      "image/png": "[encoded data removed]",
      "text/plain": [
       "<Figure size 1200x500 with 1 Axes>"
      ]
     },
     "metadata": {},
     "output_type": "display_data"
    }
   ],
   "source": [
    "# найдём 1-й персентиль значений days_exposition с помощью метода .quantile(.99)\n",
    "print('99-й персентиль значений days_exposition:', round(data['days_exposition'].quantile(0.99), 1))\n",
    "# найдём 1-й персентиль значений days_exposition с помощью метода .quantile(.01)\n",
    "print('1-й персентиль значений days_exposition:', round(data['days_exposition'].quantile(0.01), 1))\n",
    "\n",
    "#Построим гистограмму\n",
    "fig, ax = plt.subplots(figsize=(12, 5))\n",
    "data['days_exposition'].hist(bins=50, range=(0, 1074.5))\n",
    "ax.set(title='Распределение количества дней на продажу квартиры', xlabel='количество дней', ylabel='частота')\n",
    "plt.show()"
   ]
  },
  {
   "cell_type": "markdown",
   "metadata": {},
   "source": [
    "**4.2.2. Сосчитать медиану и среднее значение**"
   ]
  },
  {
   "cell_type": "code",
   "execution_count": 70,
   "metadata": {},
   "outputs": [
    {
     "name": "stdout",
     "output_type": "stream",
     "text": [
      "Медианное значение дней продажи квартир: 100\n",
      "Среднее значение дней продажи квартир: 183\n"
     ]
    },
    {
     "data": {
      "text/plain": [
       "count    17496.000000\n",
       "mean       182.681413\n",
       "std        218.727372\n",
       "min          1.000000\n",
       "25%         44.000000\n",
       "50%        100.000000\n",
       "75%        235.000000\n",
       "max       1580.000000\n",
       "Name: days_exposition, dtype: float64"
      ]
     },
     "metadata": {},
     "output_type": "display_data"
    }
   ],
   "source": [
    "print('Медианное значение дней продажи квартир:', round(data['days_exposition'].median()))\n",
    "print('Среднее значение дней продажи квартир:', round(data['days_exposition'].mean()))\n",
    "display(data['days_exposition'].describe())"
   ]
  },
  {
   "cell_type": "markdown",
   "metadata": {},
   "source": [
    "**Вывод:**\n"
   ]
  },
  {
   "cell_type": "markdown",
   "metadata": {},
   "source": [
    "Продажа квартиры обычно занимает 98 дней. Продажи квартир за нескольких дней являются необычно быстрыми, в особенности от 1 до 42 дней. Необычно долгими продажами можно считать продажи от 232 дней и больше."
   ]
  },
  {
   "cell_type": "markdown",
   "metadata": {},
   "source": [
    "**4.3 Факторы, которые больше всего влияют на общую (полную) стоимость объекта**"
   ]
  },
  {
   "cell_type": "code",
   "execution_count": 71,
   "metadata": {},
   "outputs": [
    {
     "ename": "TypeError",
     "evalue": "agg function failed [how->mean,dtype->object]",
     "output_type": "error",
     "traceback": [
      "\u001b[1;31m---------------------------------------------------------------------------\u001b[0m",
      "\u001b[1;31mTypeError\u001b[0m                                 Traceback (most recent call last)",
      "File \u001b[1;32m~\\anaconda3\\envs\\new_env\\lib\\site-packages\\pandas\\core\\groupby\\groupby.py:1942\u001b[0m, in \u001b[0;36mGroupBy._agg_py_fallback\u001b[1;34m(self, how, values, ndim, alt)\u001b[0m\n\u001b[0;32m   1941\u001b[0m \u001b[38;5;28;01mtry\u001b[39;00m:\n\u001b[1;32m-> 1942\u001b[0m     res_values \u001b[38;5;241m=\u001b[39m \u001b[38;5;28;43mself\u001b[39;49m\u001b[38;5;241;43m.\u001b[39;49m\u001b[43m_grouper\u001b[49m\u001b[38;5;241;43m.\u001b[39;49m\u001b[43magg_series\u001b[49m\u001b[43m(\u001b[49m\u001b[43mser\u001b[49m\u001b[43m,\u001b[49m\u001b[43m \u001b[49m\u001b[43malt\u001b[49m\u001b[43m,\u001b[49m\u001b[43m \u001b[49m\u001b[43mpreserve_dtype\u001b[49m\u001b[38;5;241;43m=\u001b[39;49m\u001b[38;5;28;43;01mTrue\u001b[39;49;00m\u001b[43m)\u001b[49m\n\u001b[0;32m   1943\u001b[0m \u001b[38;5;28;01mexcept\u001b[39;00m \u001b[38;5;167;01mException\u001b[39;00m \u001b[38;5;28;01mas\u001b[39;00m err:\n",
      "File \u001b[1;32m~\\anaconda3\\envs\\new_env\\lib\\site-packages\\pandas\\core\\groupby\\ops.py:864\u001b[0m, in \u001b[0;36mBaseGrouper.agg_series\u001b[1;34m(self, obj, func, preserve_dtype)\u001b[0m\n\u001b[0;32m    862\u001b[0m     preserve_dtype \u001b[38;5;241m=\u001b[39m \u001b[38;5;28;01mTrue\u001b[39;00m\n\u001b[1;32m--> 864\u001b[0m result \u001b[38;5;241m=\u001b[39m \u001b[38;5;28;43mself\u001b[39;49m\u001b[38;5;241;43m.\u001b[39;49m\u001b[43m_aggregate_series_pure_python\u001b[49m\u001b[43m(\u001b[49m\u001b[43mobj\u001b[49m\u001b[43m,\u001b[49m\u001b[43m \u001b[49m\u001b[43mfunc\u001b[49m\u001b[43m)\u001b[49m\n\u001b[0;32m    866\u001b[0m npvalues \u001b[38;5;241m=\u001b[39m lib\u001b[38;5;241m.\u001b[39mmaybe_convert_objects(result, try_float\u001b[38;5;241m=\u001b[39m\u001b[38;5;28;01mFalse\u001b[39;00m)\n",
      "File \u001b[1;32m~\\anaconda3\\envs\\new_env\\lib\\site-packages\\pandas\\core\\groupby\\ops.py:885\u001b[0m, in \u001b[0;36mBaseGrouper._aggregate_series_pure_python\u001b[1;34m(self, obj, func)\u001b[0m\n\u001b[0;32m    884\u001b[0m \u001b[38;5;28;01mfor\u001b[39;00m i, group \u001b[38;5;129;01min\u001b[39;00m \u001b[38;5;28menumerate\u001b[39m(splitter):\n\u001b[1;32m--> 885\u001b[0m     res \u001b[38;5;241m=\u001b[39m \u001b[43mfunc\u001b[49m\u001b[43m(\u001b[49m\u001b[43mgroup\u001b[49m\u001b[43m)\u001b[49m\n\u001b[0;32m    886\u001b[0m     res \u001b[38;5;241m=\u001b[39m extract_result(res)\n",
      "File \u001b[1;32m~\\anaconda3\\envs\\new_env\\lib\\site-packages\\pandas\\core\\groupby\\groupby.py:2454\u001b[0m, in \u001b[0;36mGroupBy.mean.<locals>.<lambda>\u001b[1;34m(x)\u001b[0m\n\u001b[0;32m   2451\u001b[0m \u001b[38;5;28;01melse\u001b[39;00m:\n\u001b[0;32m   2452\u001b[0m     result \u001b[38;5;241m=\u001b[39m \u001b[38;5;28mself\u001b[39m\u001b[38;5;241m.\u001b[39m_cython_agg_general(\n\u001b[0;32m   2453\u001b[0m         \u001b[38;5;124m\"\u001b[39m\u001b[38;5;124mmean\u001b[39m\u001b[38;5;124m\"\u001b[39m,\n\u001b[1;32m-> 2454\u001b[0m         alt\u001b[38;5;241m=\u001b[39m\u001b[38;5;28;01mlambda\u001b[39;00m x: \u001b[43mSeries\u001b[49m\u001b[43m(\u001b[49m\u001b[43mx\u001b[49m\u001b[43m,\u001b[49m\u001b[43m \u001b[49m\u001b[43mcopy\u001b[49m\u001b[38;5;241;43m=\u001b[39;49m\u001b[38;5;28;43;01mFalse\u001b[39;49;00m\u001b[43m)\u001b[49m\u001b[38;5;241;43m.\u001b[39;49m\u001b[43mmean\u001b[49m\u001b[43m(\u001b[49m\u001b[43mnumeric_only\u001b[49m\u001b[38;5;241;43m=\u001b[39;49m\u001b[43mnumeric_only\u001b[49m\u001b[43m)\u001b[49m,\n\u001b[0;32m   2455\u001b[0m         numeric_only\u001b[38;5;241m=\u001b[39mnumeric_only,\n\u001b[0;32m   2456\u001b[0m     )\n\u001b[0;32m   2457\u001b[0m     \u001b[38;5;28;01mreturn\u001b[39;00m result\u001b[38;5;241m.\u001b[39m__finalize__(\u001b[38;5;28mself\u001b[39m\u001b[38;5;241m.\u001b[39mobj, method\u001b[38;5;241m=\u001b[39m\u001b[38;5;124m\"\u001b[39m\u001b[38;5;124mgroupby\u001b[39m\u001b[38;5;124m\"\u001b[39m)\n",
      "File \u001b[1;32m~\\anaconda3\\envs\\new_env\\lib\\site-packages\\pandas\\core\\series.py:6549\u001b[0m, in \u001b[0;36mSeries.mean\u001b[1;34m(self, axis, skipna, numeric_only, **kwargs)\u001b[0m\n\u001b[0;32m   6541\u001b[0m \u001b[38;5;129m@doc\u001b[39m(make_doc(\u001b[38;5;124m\"\u001b[39m\u001b[38;5;124mmean\u001b[39m\u001b[38;5;124m\"\u001b[39m, ndim\u001b[38;5;241m=\u001b[39m\u001b[38;5;241m1\u001b[39m))\n\u001b[0;32m   6542\u001b[0m \u001b[38;5;28;01mdef\u001b[39;00m \u001b[38;5;21mmean\u001b[39m(\n\u001b[0;32m   6543\u001b[0m     \u001b[38;5;28mself\u001b[39m,\n\u001b[1;32m   (...)\u001b[0m\n\u001b[0;32m   6547\u001b[0m     \u001b[38;5;241m*\u001b[39m\u001b[38;5;241m*\u001b[39mkwargs,\n\u001b[0;32m   6548\u001b[0m ):\n\u001b[1;32m-> 6549\u001b[0m     \u001b[38;5;28;01mreturn\u001b[39;00m NDFrame\u001b[38;5;241m.\u001b[39mmean(\u001b[38;5;28mself\u001b[39m, axis, skipna, numeric_only, \u001b[38;5;241m*\u001b[39m\u001b[38;5;241m*\u001b[39mkwargs)\n",
      "File \u001b[1;32m~\\anaconda3\\envs\\new_env\\lib\\site-packages\\pandas\\core\\generic.py:12420\u001b[0m, in \u001b[0;36mNDFrame.mean\u001b[1;34m(self, axis, skipna, numeric_only, **kwargs)\u001b[0m\n\u001b[0;32m  12413\u001b[0m \u001b[38;5;28;01mdef\u001b[39;00m \u001b[38;5;21mmean\u001b[39m(\n\u001b[0;32m  12414\u001b[0m     \u001b[38;5;28mself\u001b[39m,\n\u001b[0;32m  12415\u001b[0m     axis: Axis \u001b[38;5;241m|\u001b[39m \u001b[38;5;28;01mNone\u001b[39;00m \u001b[38;5;241m=\u001b[39m \u001b[38;5;241m0\u001b[39m,\n\u001b[1;32m   (...)\u001b[0m\n\u001b[0;32m  12418\u001b[0m     \u001b[38;5;241m*\u001b[39m\u001b[38;5;241m*\u001b[39mkwargs,\n\u001b[0;32m  12419\u001b[0m ) \u001b[38;5;241m-\u001b[39m\u001b[38;5;241m>\u001b[39m Series \u001b[38;5;241m|\u001b[39m \u001b[38;5;28mfloat\u001b[39m:\n\u001b[1;32m> 12420\u001b[0m     \u001b[38;5;28;01mreturn\u001b[39;00m \u001b[38;5;28mself\u001b[39m\u001b[38;5;241m.\u001b[39m_stat_function(\n\u001b[0;32m  12421\u001b[0m         \u001b[38;5;124m\"\u001b[39m\u001b[38;5;124mmean\u001b[39m\u001b[38;5;124m\"\u001b[39m, nanops\u001b[38;5;241m.\u001b[39mnanmean, axis, skipna, numeric_only, \u001b[38;5;241m*\u001b[39m\u001b[38;5;241m*\u001b[39mkwargs\n\u001b[0;32m  12422\u001b[0m     )\n",
      "File \u001b[1;32m~\\anaconda3\\envs\\new_env\\lib\\site-packages\\pandas\\core\\generic.py:12377\u001b[0m, in \u001b[0;36mNDFrame._stat_function\u001b[1;34m(self, name, func, axis, skipna, numeric_only, **kwargs)\u001b[0m\n\u001b[0;32m  12375\u001b[0m validate_bool_kwarg(skipna, \u001b[38;5;124m\"\u001b[39m\u001b[38;5;124mskipna\u001b[39m\u001b[38;5;124m\"\u001b[39m, none_allowed\u001b[38;5;241m=\u001b[39m\u001b[38;5;28;01mFalse\u001b[39;00m)\n\u001b[1;32m> 12377\u001b[0m \u001b[38;5;28;01mreturn\u001b[39;00m \u001b[38;5;28;43mself\u001b[39;49m\u001b[38;5;241;43m.\u001b[39;49m\u001b[43m_reduce\u001b[49m\u001b[43m(\u001b[49m\n\u001b[0;32m  12378\u001b[0m \u001b[43m    \u001b[49m\u001b[43mfunc\u001b[49m\u001b[43m,\u001b[49m\u001b[43m \u001b[49m\u001b[43mname\u001b[49m\u001b[38;5;241;43m=\u001b[39;49m\u001b[43mname\u001b[49m\u001b[43m,\u001b[49m\u001b[43m \u001b[49m\u001b[43maxis\u001b[49m\u001b[38;5;241;43m=\u001b[39;49m\u001b[43maxis\u001b[49m\u001b[43m,\u001b[49m\u001b[43m \u001b[49m\u001b[43mskipna\u001b[49m\u001b[38;5;241;43m=\u001b[39;49m\u001b[43mskipna\u001b[49m\u001b[43m,\u001b[49m\u001b[43m \u001b[49m\u001b[43mnumeric_only\u001b[49m\u001b[38;5;241;43m=\u001b[39;49m\u001b[43mnumeric_only\u001b[49m\n\u001b[0;32m  12379\u001b[0m \u001b[43m\u001b[49m\u001b[43m)\u001b[49m\n",
      "File \u001b[1;32m~\\anaconda3\\envs\\new_env\\lib\\site-packages\\pandas\\core\\series.py:6457\u001b[0m, in \u001b[0;36mSeries._reduce\u001b[1;34m(self, op, name, axis, skipna, numeric_only, filter_type, **kwds)\u001b[0m\n\u001b[0;32m   6453\u001b[0m     \u001b[38;5;28;01mraise\u001b[39;00m \u001b[38;5;167;01mTypeError\u001b[39;00m(\n\u001b[0;32m   6454\u001b[0m         \u001b[38;5;124mf\u001b[39m\u001b[38;5;124m\"\u001b[39m\u001b[38;5;124mSeries.\u001b[39m\u001b[38;5;132;01m{\u001b[39;00mname\u001b[38;5;132;01m}\u001b[39;00m\u001b[38;5;124m does not allow \u001b[39m\u001b[38;5;132;01m{\u001b[39;00mkwd_name\u001b[38;5;132;01m}\u001b[39;00m\u001b[38;5;124m=\u001b[39m\u001b[38;5;132;01m{\u001b[39;00mnumeric_only\u001b[38;5;132;01m}\u001b[39;00m\u001b[38;5;124m \u001b[39m\u001b[38;5;124m\"\u001b[39m\n\u001b[0;32m   6455\u001b[0m         \u001b[38;5;124m\"\u001b[39m\u001b[38;5;124mwith non-numeric dtypes.\u001b[39m\u001b[38;5;124m\"\u001b[39m\n\u001b[0;32m   6456\u001b[0m     )\n\u001b[1;32m-> 6457\u001b[0m \u001b[38;5;28;01mreturn\u001b[39;00m op(delegate, skipna\u001b[38;5;241m=\u001b[39mskipna, \u001b[38;5;241m*\u001b[39m\u001b[38;5;241m*\u001b[39mkwds)\n",
      "File \u001b[1;32m~\\anaconda3\\envs\\new_env\\lib\\site-packages\\pandas\\core\\nanops.py:147\u001b[0m, in \u001b[0;36mbottleneck_switch.__call__.<locals>.f\u001b[1;34m(values, axis, skipna, **kwds)\u001b[0m\n\u001b[0;32m    146\u001b[0m \u001b[38;5;28;01melse\u001b[39;00m:\n\u001b[1;32m--> 147\u001b[0m     result \u001b[38;5;241m=\u001b[39m alt(values, axis\u001b[38;5;241m=\u001b[39maxis, skipna\u001b[38;5;241m=\u001b[39mskipna, \u001b[38;5;241m*\u001b[39m\u001b[38;5;241m*\u001b[39mkwds)\n\u001b[0;32m    149\u001b[0m \u001b[38;5;28;01mreturn\u001b[39;00m result\n",
      "File \u001b[1;32m~\\anaconda3\\envs\\new_env\\lib\\site-packages\\pandas\\core\\nanops.py:404\u001b[0m, in \u001b[0;36m_datetimelike_compat.<locals>.new_func\u001b[1;34m(values, axis, skipna, mask, **kwargs)\u001b[0m\n\u001b[0;32m    402\u001b[0m     mask \u001b[38;5;241m=\u001b[39m isna(values)\n\u001b[1;32m--> 404\u001b[0m result \u001b[38;5;241m=\u001b[39m func(values, axis\u001b[38;5;241m=\u001b[39maxis, skipna\u001b[38;5;241m=\u001b[39mskipna, mask\u001b[38;5;241m=\u001b[39mmask, \u001b[38;5;241m*\u001b[39m\u001b[38;5;241m*\u001b[39mkwargs)\n\u001b[0;32m    406\u001b[0m \u001b[38;5;28;01mif\u001b[39;00m datetimelike:\n",
      "File \u001b[1;32m~\\anaconda3\\envs\\new_env\\lib\\site-packages\\pandas\\core\\nanops.py:720\u001b[0m, in \u001b[0;36mnanmean\u001b[1;34m(values, axis, skipna, mask)\u001b[0m\n\u001b[0;32m    719\u001b[0m the_sum \u001b[38;5;241m=\u001b[39m values\u001b[38;5;241m.\u001b[39msum(axis, dtype\u001b[38;5;241m=\u001b[39mdtype_sum)\n\u001b[1;32m--> 720\u001b[0m the_sum \u001b[38;5;241m=\u001b[39m \u001b[43m_ensure_numeric\u001b[49m\u001b[43m(\u001b[49m\u001b[43mthe_sum\u001b[49m\u001b[43m)\u001b[49m\n\u001b[0;32m    722\u001b[0m \u001b[38;5;28;01mif\u001b[39;00m axis \u001b[38;5;129;01mis\u001b[39;00m \u001b[38;5;129;01mnot\u001b[39;00m \u001b[38;5;28;01mNone\u001b[39;00m \u001b[38;5;129;01mand\u001b[39;00m \u001b[38;5;28mgetattr\u001b[39m(the_sum, \u001b[38;5;124m\"\u001b[39m\u001b[38;5;124mndim\u001b[39m\u001b[38;5;124m\"\u001b[39m, \u001b[38;5;28;01mFalse\u001b[39;00m):\n",
      "File \u001b[1;32m~\\anaconda3\\envs\\new_env\\lib\\site-packages\\pandas\\core\\nanops.py:1701\u001b[0m, in \u001b[0;36m_ensure_numeric\u001b[1;34m(x)\u001b[0m\n\u001b[0;32m   1699\u001b[0m \u001b[38;5;28;01mif\u001b[39;00m \u001b[38;5;28misinstance\u001b[39m(x, \u001b[38;5;28mstr\u001b[39m):\n\u001b[0;32m   1700\u001b[0m     \u001b[38;5;66;03m# GH#44008, GH#36703 avoid casting e.g. strings to numeric\u001b[39;00m\n\u001b[1;32m-> 1701\u001b[0m     \u001b[38;5;28;01mraise\u001b[39;00m \u001b[38;5;167;01mTypeError\u001b[39;00m(\u001b[38;5;124mf\u001b[39m\u001b[38;5;124m\"\u001b[39m\u001b[38;5;124mCould not convert string \u001b[39m\u001b[38;5;124m'\u001b[39m\u001b[38;5;132;01m{\u001b[39;00mx\u001b[38;5;132;01m}\u001b[39;00m\u001b[38;5;124m'\u001b[39m\u001b[38;5;124m to numeric\u001b[39m\u001b[38;5;124m\"\u001b[39m)\n\u001b[0;32m   1702\u001b[0m \u001b[38;5;28;01mtry\u001b[39;00m:\n",
      "\u001b[1;31mTypeError\u001b[0m: Could not convert string 'последний' to numeric",
      "\nThe above exception was the direct cause of the following exception:\n",
      "\u001b[1;31mTypeError\u001b[0m                                 Traceback (most recent call last)",
      "Cell \u001b[1;32mIn[71], line 2\u001b[0m\n\u001b[0;32m      1\u001b[0m \u001b[38;5;66;03m#Подготовка данных, создаем сводные таблицы \u001b[39;00m\n\u001b[1;32m----> 2\u001b[0m data_last_price \u001b[38;5;241m=\u001b[39m \u001b[43mdata\u001b[49m\u001b[38;5;241;43m.\u001b[39;49m\u001b[43mpivot_table\u001b[49m\u001b[43m(\u001b[49m\u001b[43mindex\u001b[49m\u001b[43m \u001b[49m\u001b[38;5;241;43m=\u001b[39;49m\u001b[43m \u001b[49m\u001b[38;5;124;43m'\u001b[39;49m\u001b[38;5;124;43mlast_price\u001b[39;49m\u001b[38;5;124;43m'\u001b[39;49m\u001b[43m,\u001b[49m\u001b[43m \u001b[49m\u001b[43mvalues\u001b[49m\u001b[43m \u001b[49m\u001b[38;5;241;43m=\u001b[39;49m\u001b[43m[\u001b[49m\u001b[38;5;124;43m'\u001b[39;49m\u001b[38;5;124;43mtotal_area\u001b[39;49m\u001b[38;5;124;43m'\u001b[39;49m\u001b[43m,\u001b[49m\u001b[43m \u001b[49m\u001b[38;5;124;43m'\u001b[39;49m\u001b[38;5;124;43mliving_area\u001b[39;49m\u001b[38;5;124;43m'\u001b[39;49m\u001b[43m,\u001b[49m\u001b[43m \u001b[49m\u001b[38;5;124;43m'\u001b[39;49m\u001b[38;5;124;43mkitchen_area\u001b[39;49m\u001b[38;5;124;43m'\u001b[39;49m\u001b[43m,\u001b[49m\u001b[43m \u001b[49m\u001b[38;5;124;43m'\u001b[39;49m\u001b[38;5;124;43mrooms\u001b[39;49m\u001b[38;5;124;43m'\u001b[39;49m\u001b[43m,\u001b[49m\u001b[43m \u001b[49m\u001b[38;5;124;43m'\u001b[39;49m\u001b[38;5;124;43mfloor_type\u001b[39;49m\u001b[38;5;124;43m'\u001b[39;49m\u001b[43m,\u001b[49m\u001b[43m \u001b[49m\u001b[38;5;124;43m'\u001b[39;49m\u001b[38;5;124;43mweekday\u001b[39;49m\u001b[38;5;124;43m'\u001b[39;49m\u001b[43m,\u001b[49m\u001b[38;5;124;43m'\u001b[39;49m\u001b[38;5;124;43mmonth\u001b[39;49m\u001b[38;5;124;43m'\u001b[39;49m\u001b[43m,\u001b[49m\u001b[38;5;124;43m'\u001b[39;49m\u001b[38;5;124;43myear\u001b[39;49m\u001b[38;5;124;43m'\u001b[39;49m\u001b[43m]\u001b[49m\u001b[43m)\u001b[49m\n\u001b[0;32m      3\u001b[0m display(data_last_price\u001b[38;5;241m.\u001b[39mhead(\u001b[38;5;241m5\u001b[39m))\n",
      "File \u001b[1;32m~\\anaconda3\\envs\\new_env\\lib\\site-packages\\pandas\\core\\frame.py:9509\u001b[0m, in \u001b[0;36mDataFrame.pivot_table\u001b[1;34m(self, values, index, columns, aggfunc, fill_value, margins, dropna, margins_name, observed, sort)\u001b[0m\n\u001b[0;32m   9492\u001b[0m \u001b[38;5;129m@Substitution\u001b[39m(\u001b[38;5;124m\"\u001b[39m\u001b[38;5;124m\"\u001b[39m)\n\u001b[0;32m   9493\u001b[0m \u001b[38;5;129m@Appender\u001b[39m(_shared_docs[\u001b[38;5;124m\"\u001b[39m\u001b[38;5;124mpivot_table\u001b[39m\u001b[38;5;124m\"\u001b[39m])\n\u001b[0;32m   9494\u001b[0m \u001b[38;5;28;01mdef\u001b[39;00m \u001b[38;5;21mpivot_table\u001b[39m(\n\u001b[1;32m   (...)\u001b[0m\n\u001b[0;32m   9505\u001b[0m     sort: \u001b[38;5;28mbool\u001b[39m \u001b[38;5;241m=\u001b[39m \u001b[38;5;28;01mTrue\u001b[39;00m,\n\u001b[0;32m   9506\u001b[0m ) \u001b[38;5;241m-\u001b[39m\u001b[38;5;241m>\u001b[39m DataFrame:\n\u001b[0;32m   9507\u001b[0m     \u001b[38;5;28;01mfrom\u001b[39;00m \u001b[38;5;21;01mpandas\u001b[39;00m\u001b[38;5;21;01m.\u001b[39;00m\u001b[38;5;21;01mcore\u001b[39;00m\u001b[38;5;21;01m.\u001b[39;00m\u001b[38;5;21;01mreshape\u001b[39;00m\u001b[38;5;21;01m.\u001b[39;00m\u001b[38;5;21;01mpivot\u001b[39;00m \u001b[38;5;28;01mimport\u001b[39;00m pivot_table\n\u001b[1;32m-> 9509\u001b[0m     \u001b[38;5;28;01mreturn\u001b[39;00m \u001b[43mpivot_table\u001b[49m\u001b[43m(\u001b[49m\n\u001b[0;32m   9510\u001b[0m \u001b[43m        \u001b[49m\u001b[38;5;28;43mself\u001b[39;49m\u001b[43m,\u001b[49m\n\u001b[0;32m   9511\u001b[0m \u001b[43m        \u001b[49m\u001b[43mvalues\u001b[49m\u001b[38;5;241;43m=\u001b[39;49m\u001b[43mvalues\u001b[49m\u001b[43m,\u001b[49m\n\u001b[0;32m   9512\u001b[0m \u001b[43m        \u001b[49m\u001b[43mindex\u001b[49m\u001b[38;5;241;43m=\u001b[39;49m\u001b[43mindex\u001b[49m\u001b[43m,\u001b[49m\n\u001b[0;32m   9513\u001b[0m \u001b[43m        \u001b[49m\u001b[43mcolumns\u001b[49m\u001b[38;5;241;43m=\u001b[39;49m\u001b[43mcolumns\u001b[49m\u001b[43m,\u001b[49m\n\u001b[0;32m   9514\u001b[0m \u001b[43m        \u001b[49m\u001b[43maggfunc\u001b[49m\u001b[38;5;241;43m=\u001b[39;49m\u001b[43maggfunc\u001b[49m\u001b[43m,\u001b[49m\n\u001b[0;32m   9515\u001b[0m \u001b[43m        \u001b[49m\u001b[43mfill_value\u001b[49m\u001b[38;5;241;43m=\u001b[39;49m\u001b[43mfill_value\u001b[49m\u001b[43m,\u001b[49m\n\u001b[0;32m   9516\u001b[0m \u001b[43m        \u001b[49m\u001b[43mmargins\u001b[49m\u001b[38;5;241;43m=\u001b[39;49m\u001b[43mmargins\u001b[49m\u001b[43m,\u001b[49m\n\u001b[0;32m   9517\u001b[0m \u001b[43m        \u001b[49m\u001b[43mdropna\u001b[49m\u001b[38;5;241;43m=\u001b[39;49m\u001b[43mdropna\u001b[49m\u001b[43m,\u001b[49m\n\u001b[0;32m   9518\u001b[0m \u001b[43m        \u001b[49m\u001b[43mmargins_name\u001b[49m\u001b[38;5;241;43m=\u001b[39;49m\u001b[43mmargins_name\u001b[49m\u001b[43m,\u001b[49m\n\u001b[0;32m   9519\u001b[0m \u001b[43m        \u001b[49m\u001b[43mobserved\u001b[49m\u001b[38;5;241;43m=\u001b[39;49m\u001b[43mobserved\u001b[49m\u001b[43m,\u001b[49m\n\u001b[0;32m   9520\u001b[0m \u001b[43m        \u001b[49m\u001b[43msort\u001b[49m\u001b[38;5;241;43m=\u001b[39;49m\u001b[43msort\u001b[49m\u001b[43m,\u001b[49m\n\u001b[0;32m   9521\u001b[0m \u001b[43m    \u001b[49m\u001b[43m)\u001b[49m\n",
      "File \u001b[1;32m~\\anaconda3\\envs\\new_env\\lib\\site-packages\\pandas\\core\\reshape\\pivot.py:102\u001b[0m, in \u001b[0;36mpivot_table\u001b[1;34m(data, values, index, columns, aggfunc, fill_value, margins, dropna, margins_name, observed, sort)\u001b[0m\n\u001b[0;32m     99\u001b[0m     table \u001b[38;5;241m=\u001b[39m concat(pieces, keys\u001b[38;5;241m=\u001b[39mkeys, axis\u001b[38;5;241m=\u001b[39m\u001b[38;5;241m1\u001b[39m)\n\u001b[0;32m    100\u001b[0m     \u001b[38;5;28;01mreturn\u001b[39;00m table\u001b[38;5;241m.\u001b[39m__finalize__(data, method\u001b[38;5;241m=\u001b[39m\u001b[38;5;124m\"\u001b[39m\u001b[38;5;124mpivot_table\u001b[39m\u001b[38;5;124m\"\u001b[39m)\n\u001b[1;32m--> 102\u001b[0m table \u001b[38;5;241m=\u001b[39m \u001b[43m__internal_pivot_table\u001b[49m\u001b[43m(\u001b[49m\n\u001b[0;32m    103\u001b[0m \u001b[43m    \u001b[49m\u001b[43mdata\u001b[49m\u001b[43m,\u001b[49m\n\u001b[0;32m    104\u001b[0m \u001b[43m    \u001b[49m\u001b[43mvalues\u001b[49m\u001b[43m,\u001b[49m\n\u001b[0;32m    105\u001b[0m \u001b[43m    \u001b[49m\u001b[43mindex\u001b[49m\u001b[43m,\u001b[49m\n\u001b[0;32m    106\u001b[0m \u001b[43m    \u001b[49m\u001b[43mcolumns\u001b[49m\u001b[43m,\u001b[49m\n\u001b[0;32m    107\u001b[0m \u001b[43m    \u001b[49m\u001b[43maggfunc\u001b[49m\u001b[43m,\u001b[49m\n\u001b[0;32m    108\u001b[0m \u001b[43m    \u001b[49m\u001b[43mfill_value\u001b[49m\u001b[43m,\u001b[49m\n\u001b[0;32m    109\u001b[0m \u001b[43m    \u001b[49m\u001b[43mmargins\u001b[49m\u001b[43m,\u001b[49m\n\u001b[0;32m    110\u001b[0m \u001b[43m    \u001b[49m\u001b[43mdropna\u001b[49m\u001b[43m,\u001b[49m\n\u001b[0;32m    111\u001b[0m \u001b[43m    \u001b[49m\u001b[43mmargins_name\u001b[49m\u001b[43m,\u001b[49m\n\u001b[0;32m    112\u001b[0m \u001b[43m    \u001b[49m\u001b[43mobserved\u001b[49m\u001b[43m,\u001b[49m\n\u001b[0;32m    113\u001b[0m \u001b[43m    \u001b[49m\u001b[43msort\u001b[49m\u001b[43m,\u001b[49m\n\u001b[0;32m    114\u001b[0m \u001b[43m\u001b[49m\u001b[43m)\u001b[49m\n\u001b[0;32m    115\u001b[0m \u001b[38;5;28;01mreturn\u001b[39;00m table\u001b[38;5;241m.\u001b[39m__finalize__(data, method\u001b[38;5;241m=\u001b[39m\u001b[38;5;124m\"\u001b[39m\u001b[38;5;124mpivot_table\u001b[39m\u001b[38;5;124m\"\u001b[39m)\n",
      "File \u001b[1;32m~\\anaconda3\\envs\\new_env\\lib\\site-packages\\pandas\\core\\reshape\\pivot.py:183\u001b[0m, in \u001b[0;36m__internal_pivot_table\u001b[1;34m(data, values, index, columns, aggfunc, fill_value, margins, dropna, margins_name, observed, sort)\u001b[0m\n\u001b[0;32m    173\u001b[0m \u001b[38;5;28;01mif\u001b[39;00m observed \u001b[38;5;129;01mis\u001b[39;00m lib\u001b[38;5;241m.\u001b[39mno_default \u001b[38;5;129;01mand\u001b[39;00m \u001b[38;5;28many\u001b[39m(\n\u001b[0;32m    174\u001b[0m     ping\u001b[38;5;241m.\u001b[39m_passed_categorical \u001b[38;5;28;01mfor\u001b[39;00m ping \u001b[38;5;129;01min\u001b[39;00m grouped\u001b[38;5;241m.\u001b[39m_grouper\u001b[38;5;241m.\u001b[39mgroupings\n\u001b[0;32m    175\u001b[0m ):\n\u001b[0;32m    176\u001b[0m     warnings\u001b[38;5;241m.\u001b[39mwarn(\n\u001b[0;32m    177\u001b[0m         \u001b[38;5;124m\"\u001b[39m\u001b[38;5;124mThe default value of observed=False is deprecated and will change \u001b[39m\u001b[38;5;124m\"\u001b[39m\n\u001b[0;32m    178\u001b[0m         \u001b[38;5;124m\"\u001b[39m\u001b[38;5;124mto observed=True in a future version of pandas. Specify \u001b[39m\u001b[38;5;124m\"\u001b[39m\n\u001b[1;32m   (...)\u001b[0m\n\u001b[0;32m    181\u001b[0m         stacklevel\u001b[38;5;241m=\u001b[39mfind_stack_level(),\n\u001b[0;32m    182\u001b[0m     )\n\u001b[1;32m--> 183\u001b[0m agged \u001b[38;5;241m=\u001b[39m \u001b[43mgrouped\u001b[49m\u001b[38;5;241;43m.\u001b[39;49m\u001b[43magg\u001b[49m\u001b[43m(\u001b[49m\u001b[43maggfunc\u001b[49m\u001b[43m)\u001b[49m\n\u001b[0;32m    185\u001b[0m \u001b[38;5;28;01mif\u001b[39;00m dropna \u001b[38;5;129;01mand\u001b[39;00m \u001b[38;5;28misinstance\u001b[39m(agged, ABCDataFrame) \u001b[38;5;129;01mand\u001b[39;00m \u001b[38;5;28mlen\u001b[39m(agged\u001b[38;5;241m.\u001b[39mcolumns):\n\u001b[0;32m    186\u001b[0m     agged \u001b[38;5;241m=\u001b[39m agged\u001b[38;5;241m.\u001b[39mdropna(how\u001b[38;5;241m=\u001b[39m\u001b[38;5;124m\"\u001b[39m\u001b[38;5;124mall\u001b[39m\u001b[38;5;124m\"\u001b[39m)\n",
      "File \u001b[1;32m~\\anaconda3\\envs\\new_env\\lib\\site-packages\\pandas\\core\\groupby\\generic.py:1432\u001b[0m, in \u001b[0;36mDataFrameGroupBy.aggregate\u001b[1;34m(self, func, engine, engine_kwargs, *args, **kwargs)\u001b[0m\n\u001b[0;32m   1429\u001b[0m     kwargs[\u001b[38;5;124m\"\u001b[39m\u001b[38;5;124mengine_kwargs\u001b[39m\u001b[38;5;124m\"\u001b[39m] \u001b[38;5;241m=\u001b[39m engine_kwargs\n\u001b[0;32m   1431\u001b[0m op \u001b[38;5;241m=\u001b[39m GroupByApply(\u001b[38;5;28mself\u001b[39m, func, args\u001b[38;5;241m=\u001b[39margs, kwargs\u001b[38;5;241m=\u001b[39mkwargs)\n\u001b[1;32m-> 1432\u001b[0m result \u001b[38;5;241m=\u001b[39m \u001b[43mop\u001b[49m\u001b[38;5;241;43m.\u001b[39;49m\u001b[43magg\u001b[49m\u001b[43m(\u001b[49m\u001b[43m)\u001b[49m\n\u001b[0;32m   1433\u001b[0m \u001b[38;5;28;01mif\u001b[39;00m \u001b[38;5;129;01mnot\u001b[39;00m is_dict_like(func) \u001b[38;5;129;01mand\u001b[39;00m result \u001b[38;5;129;01mis\u001b[39;00m \u001b[38;5;129;01mnot\u001b[39;00m \u001b[38;5;28;01mNone\u001b[39;00m:\n\u001b[0;32m   1434\u001b[0m     \u001b[38;5;66;03m# GH #52849\u001b[39;00m\n\u001b[0;32m   1435\u001b[0m     \u001b[38;5;28;01mif\u001b[39;00m \u001b[38;5;129;01mnot\u001b[39;00m \u001b[38;5;28mself\u001b[39m\u001b[38;5;241m.\u001b[39mas_index \u001b[38;5;129;01mand\u001b[39;00m is_list_like(func):\n",
      "File \u001b[1;32m~\\anaconda3\\envs\\new_env\\lib\\site-packages\\pandas\\core\\apply.py:187\u001b[0m, in \u001b[0;36mApply.agg\u001b[1;34m(self)\u001b[0m\n\u001b[0;32m    184\u001b[0m kwargs \u001b[38;5;241m=\u001b[39m \u001b[38;5;28mself\u001b[39m\u001b[38;5;241m.\u001b[39mkwargs\n\u001b[0;32m    186\u001b[0m \u001b[38;5;28;01mif\u001b[39;00m \u001b[38;5;28misinstance\u001b[39m(func, \u001b[38;5;28mstr\u001b[39m):\n\u001b[1;32m--> 187\u001b[0m     \u001b[38;5;28;01mreturn\u001b[39;00m \u001b[38;5;28;43mself\u001b[39;49m\u001b[38;5;241;43m.\u001b[39;49m\u001b[43mapply_str\u001b[49m\u001b[43m(\u001b[49m\u001b[43m)\u001b[49m\n\u001b[0;32m    189\u001b[0m \u001b[38;5;28;01mif\u001b[39;00m is_dict_like(func):\n\u001b[0;32m    190\u001b[0m     \u001b[38;5;28;01mreturn\u001b[39;00m \u001b[38;5;28mself\u001b[39m\u001b[38;5;241m.\u001b[39magg_dict_like()\n",
      "File \u001b[1;32m~\\anaconda3\\envs\\new_env\\lib\\site-packages\\pandas\\core\\apply.py:603\u001b[0m, in \u001b[0;36mApply.apply_str\u001b[1;34m(self)\u001b[0m\n\u001b[0;32m    601\u001b[0m         \u001b[38;5;28;01melse\u001b[39;00m:\n\u001b[0;32m    602\u001b[0m             \u001b[38;5;28mself\u001b[39m\u001b[38;5;241m.\u001b[39mkwargs[\u001b[38;5;124m\"\u001b[39m\u001b[38;5;124maxis\u001b[39m\u001b[38;5;124m\"\u001b[39m] \u001b[38;5;241m=\u001b[39m \u001b[38;5;28mself\u001b[39m\u001b[38;5;241m.\u001b[39maxis\n\u001b[1;32m--> 603\u001b[0m \u001b[38;5;28;01mreturn\u001b[39;00m \u001b[38;5;28mself\u001b[39m\u001b[38;5;241m.\u001b[39m_apply_str(obj, func, \u001b[38;5;241m*\u001b[39m\u001b[38;5;28mself\u001b[39m\u001b[38;5;241m.\u001b[39margs, \u001b[38;5;241m*\u001b[39m\u001b[38;5;241m*\u001b[39m\u001b[38;5;28mself\u001b[39m\u001b[38;5;241m.\u001b[39mkwargs)\n",
      "File \u001b[1;32m~\\anaconda3\\envs\\new_env\\lib\\site-packages\\pandas\\core\\apply.py:693\u001b[0m, in \u001b[0;36mApply._apply_str\u001b[1;34m(self, obj, func, *args, **kwargs)\u001b[0m\n\u001b[0;32m    691\u001b[0m f \u001b[38;5;241m=\u001b[39m \u001b[38;5;28mgetattr\u001b[39m(obj, func)\n\u001b[0;32m    692\u001b[0m \u001b[38;5;28;01mif\u001b[39;00m \u001b[38;5;28mcallable\u001b[39m(f):\n\u001b[1;32m--> 693\u001b[0m     \u001b[38;5;28;01mreturn\u001b[39;00m f(\u001b[38;5;241m*\u001b[39margs, \u001b[38;5;241m*\u001b[39m\u001b[38;5;241m*\u001b[39mkwargs)\n\u001b[0;32m    695\u001b[0m \u001b[38;5;66;03m# people may aggregate on a non-callable attribute\u001b[39;00m\n\u001b[0;32m    696\u001b[0m \u001b[38;5;66;03m# but don't let them think they can pass args to it\u001b[39;00m\n\u001b[0;32m    697\u001b[0m \u001b[38;5;28;01massert\u001b[39;00m \u001b[38;5;28mlen\u001b[39m(args) \u001b[38;5;241m==\u001b[39m \u001b[38;5;241m0\u001b[39m\n",
      "File \u001b[1;32m~\\anaconda3\\envs\\new_env\\lib\\site-packages\\pandas\\core\\groupby\\groupby.py:2452\u001b[0m, in \u001b[0;36mGroupBy.mean\u001b[1;34m(self, numeric_only, engine, engine_kwargs)\u001b[0m\n\u001b[0;32m   2445\u001b[0m     \u001b[38;5;28;01mreturn\u001b[39;00m \u001b[38;5;28mself\u001b[39m\u001b[38;5;241m.\u001b[39m_numba_agg_general(\n\u001b[0;32m   2446\u001b[0m         grouped_mean,\n\u001b[0;32m   2447\u001b[0m         executor\u001b[38;5;241m.\u001b[39mfloat_dtype_mapping,\n\u001b[0;32m   2448\u001b[0m         engine_kwargs,\n\u001b[0;32m   2449\u001b[0m         min_periods\u001b[38;5;241m=\u001b[39m\u001b[38;5;241m0\u001b[39m,\n\u001b[0;32m   2450\u001b[0m     )\n\u001b[0;32m   2451\u001b[0m \u001b[38;5;28;01melse\u001b[39;00m:\n\u001b[1;32m-> 2452\u001b[0m     result \u001b[38;5;241m=\u001b[39m \u001b[38;5;28;43mself\u001b[39;49m\u001b[38;5;241;43m.\u001b[39;49m\u001b[43m_cython_agg_general\u001b[49m\u001b[43m(\u001b[49m\n\u001b[0;32m   2453\u001b[0m \u001b[43m        \u001b[49m\u001b[38;5;124;43m\"\u001b[39;49m\u001b[38;5;124;43mmean\u001b[39;49m\u001b[38;5;124;43m\"\u001b[39;49m\u001b[43m,\u001b[49m\n\u001b[0;32m   2454\u001b[0m \u001b[43m        \u001b[49m\u001b[43malt\u001b[49m\u001b[38;5;241;43m=\u001b[39;49m\u001b[38;5;28;43;01mlambda\u001b[39;49;00m\u001b[43m \u001b[49m\u001b[43mx\u001b[49m\u001b[43m:\u001b[49m\u001b[43m \u001b[49m\u001b[43mSeries\u001b[49m\u001b[43m(\u001b[49m\u001b[43mx\u001b[49m\u001b[43m,\u001b[49m\u001b[43m \u001b[49m\u001b[43mcopy\u001b[49m\u001b[38;5;241;43m=\u001b[39;49m\u001b[38;5;28;43;01mFalse\u001b[39;49;00m\u001b[43m)\u001b[49m\u001b[38;5;241;43m.\u001b[39;49m\u001b[43mmean\u001b[49m\u001b[43m(\u001b[49m\u001b[43mnumeric_only\u001b[49m\u001b[38;5;241;43m=\u001b[39;49m\u001b[43mnumeric_only\u001b[49m\u001b[43m)\u001b[49m\u001b[43m,\u001b[49m\n\u001b[0;32m   2455\u001b[0m \u001b[43m        \u001b[49m\u001b[43mnumeric_only\u001b[49m\u001b[38;5;241;43m=\u001b[39;49m\u001b[43mnumeric_only\u001b[49m\u001b[43m,\u001b[49m\n\u001b[0;32m   2456\u001b[0m \u001b[43m    \u001b[49m\u001b[43m)\u001b[49m\n\u001b[0;32m   2457\u001b[0m     \u001b[38;5;28;01mreturn\u001b[39;00m result\u001b[38;5;241m.\u001b[39m__finalize__(\u001b[38;5;28mself\u001b[39m\u001b[38;5;241m.\u001b[39mobj, method\u001b[38;5;241m=\u001b[39m\u001b[38;5;124m\"\u001b[39m\u001b[38;5;124mgroupby\u001b[39m\u001b[38;5;124m\"\u001b[39m)\n",
      "File \u001b[1;32m~\\anaconda3\\envs\\new_env\\lib\\site-packages\\pandas\\core\\groupby\\groupby.py:1998\u001b[0m, in \u001b[0;36mGroupBy._cython_agg_general\u001b[1;34m(self, how, alt, numeric_only, min_count, **kwargs)\u001b[0m\n\u001b[0;32m   1995\u001b[0m     result \u001b[38;5;241m=\u001b[39m \u001b[38;5;28mself\u001b[39m\u001b[38;5;241m.\u001b[39m_agg_py_fallback(how, values, ndim\u001b[38;5;241m=\u001b[39mdata\u001b[38;5;241m.\u001b[39mndim, alt\u001b[38;5;241m=\u001b[39malt)\n\u001b[0;32m   1996\u001b[0m     \u001b[38;5;28;01mreturn\u001b[39;00m result\n\u001b[1;32m-> 1998\u001b[0m new_mgr \u001b[38;5;241m=\u001b[39m \u001b[43mdata\u001b[49m\u001b[38;5;241;43m.\u001b[39;49m\u001b[43mgrouped_reduce\u001b[49m\u001b[43m(\u001b[49m\u001b[43marray_func\u001b[49m\u001b[43m)\u001b[49m\n\u001b[0;32m   1999\u001b[0m res \u001b[38;5;241m=\u001b[39m \u001b[38;5;28mself\u001b[39m\u001b[38;5;241m.\u001b[39m_wrap_agged_manager(new_mgr)\n\u001b[0;32m   2000\u001b[0m \u001b[38;5;28;01mif\u001b[39;00m how \u001b[38;5;129;01min\u001b[39;00m [\u001b[38;5;124m\"\u001b[39m\u001b[38;5;124midxmin\u001b[39m\u001b[38;5;124m\"\u001b[39m, \u001b[38;5;124m\"\u001b[39m\u001b[38;5;124midxmax\u001b[39m\u001b[38;5;124m\"\u001b[39m]:\n",
      "File \u001b[1;32m~\\anaconda3\\envs\\new_env\\lib\\site-packages\\pandas\\core\\internals\\managers.py:1469\u001b[0m, in \u001b[0;36mBlockManager.grouped_reduce\u001b[1;34m(self, func)\u001b[0m\n\u001b[0;32m   1465\u001b[0m \u001b[38;5;28;01mif\u001b[39;00m blk\u001b[38;5;241m.\u001b[39mis_object:\n\u001b[0;32m   1466\u001b[0m     \u001b[38;5;66;03m# split on object-dtype blocks bc some columns may raise\u001b[39;00m\n\u001b[0;32m   1467\u001b[0m     \u001b[38;5;66;03m#  while others do not.\u001b[39;00m\n\u001b[0;32m   1468\u001b[0m     \u001b[38;5;28;01mfor\u001b[39;00m sb \u001b[38;5;129;01min\u001b[39;00m blk\u001b[38;5;241m.\u001b[39m_split():\n\u001b[1;32m-> 1469\u001b[0m         applied \u001b[38;5;241m=\u001b[39m \u001b[43msb\u001b[49m\u001b[38;5;241;43m.\u001b[39;49m\u001b[43mapply\u001b[49m\u001b[43m(\u001b[49m\u001b[43mfunc\u001b[49m\u001b[43m)\u001b[49m\n\u001b[0;32m   1470\u001b[0m         result_blocks \u001b[38;5;241m=\u001b[39m extend_blocks(applied, result_blocks)\n\u001b[0;32m   1471\u001b[0m \u001b[38;5;28;01melse\u001b[39;00m:\n",
      "File \u001b[1;32m~\\anaconda3\\envs\\new_env\\lib\\site-packages\\pandas\\core\\internals\\blocks.py:393\u001b[0m, in \u001b[0;36mBlock.apply\u001b[1;34m(self, func, **kwargs)\u001b[0m\n\u001b[0;32m    387\u001b[0m \u001b[38;5;129m@final\u001b[39m\n\u001b[0;32m    388\u001b[0m \u001b[38;5;28;01mdef\u001b[39;00m \u001b[38;5;21mapply\u001b[39m(\u001b[38;5;28mself\u001b[39m, func, \u001b[38;5;241m*\u001b[39m\u001b[38;5;241m*\u001b[39mkwargs) \u001b[38;5;241m-\u001b[39m\u001b[38;5;241m>\u001b[39m \u001b[38;5;28mlist\u001b[39m[Block]:\n\u001b[0;32m    389\u001b[0m \u001b[38;5;250m    \u001b[39m\u001b[38;5;124;03m\"\"\"\u001b[39;00m\n\u001b[0;32m    390\u001b[0m \u001b[38;5;124;03m    apply the function to my values; return a block if we are not\u001b[39;00m\n\u001b[0;32m    391\u001b[0m \u001b[38;5;124;03m    one\u001b[39;00m\n\u001b[0;32m    392\u001b[0m \u001b[38;5;124;03m    \"\"\"\u001b[39;00m\n\u001b[1;32m--> 393\u001b[0m     result \u001b[38;5;241m=\u001b[39m func(\u001b[38;5;28mself\u001b[39m\u001b[38;5;241m.\u001b[39mvalues, \u001b[38;5;241m*\u001b[39m\u001b[38;5;241m*\u001b[39mkwargs)\n\u001b[0;32m    395\u001b[0m     result \u001b[38;5;241m=\u001b[39m maybe_coerce_values(result)\n\u001b[0;32m    396\u001b[0m     \u001b[38;5;28;01mreturn\u001b[39;00m \u001b[38;5;28mself\u001b[39m\u001b[38;5;241m.\u001b[39m_split_op_result(result)\n",
      "File \u001b[1;32m~\\anaconda3\\envs\\new_env\\lib\\site-packages\\pandas\\core\\groupby\\groupby.py:1995\u001b[0m, in \u001b[0;36mGroupBy._cython_agg_general.<locals>.array_func\u001b[1;34m(values)\u001b[0m\n\u001b[0;32m   1992\u001b[0m     \u001b[38;5;28;01mreturn\u001b[39;00m result\n\u001b[0;32m   1994\u001b[0m \u001b[38;5;28;01massert\u001b[39;00m alt \u001b[38;5;129;01mis\u001b[39;00m \u001b[38;5;129;01mnot\u001b[39;00m \u001b[38;5;28;01mNone\u001b[39;00m\n\u001b[1;32m-> 1995\u001b[0m result \u001b[38;5;241m=\u001b[39m \u001b[38;5;28;43mself\u001b[39;49m\u001b[38;5;241;43m.\u001b[39;49m\u001b[43m_agg_py_fallback\u001b[49m\u001b[43m(\u001b[49m\u001b[43mhow\u001b[49m\u001b[43m,\u001b[49m\u001b[43m \u001b[49m\u001b[43mvalues\u001b[49m\u001b[43m,\u001b[49m\u001b[43m \u001b[49m\u001b[43mndim\u001b[49m\u001b[38;5;241;43m=\u001b[39;49m\u001b[43mdata\u001b[49m\u001b[38;5;241;43m.\u001b[39;49m\u001b[43mndim\u001b[49m\u001b[43m,\u001b[49m\u001b[43m \u001b[49m\u001b[43malt\u001b[49m\u001b[38;5;241;43m=\u001b[39;49m\u001b[43malt\u001b[49m\u001b[43m)\u001b[49m\n\u001b[0;32m   1996\u001b[0m \u001b[38;5;28;01mreturn\u001b[39;00m result\n",
      "File \u001b[1;32m~\\anaconda3\\envs\\new_env\\lib\\site-packages\\pandas\\core\\groupby\\groupby.py:1946\u001b[0m, in \u001b[0;36mGroupBy._agg_py_fallback\u001b[1;34m(self, how, values, ndim, alt)\u001b[0m\n\u001b[0;32m   1944\u001b[0m     msg \u001b[38;5;241m=\u001b[39m \u001b[38;5;124mf\u001b[39m\u001b[38;5;124m\"\u001b[39m\u001b[38;5;124magg function failed [how->\u001b[39m\u001b[38;5;132;01m{\u001b[39;00mhow\u001b[38;5;132;01m}\u001b[39;00m\u001b[38;5;124m,dtype->\u001b[39m\u001b[38;5;132;01m{\u001b[39;00mser\u001b[38;5;241m.\u001b[39mdtype\u001b[38;5;132;01m}\u001b[39;00m\u001b[38;5;124m]\u001b[39m\u001b[38;5;124m\"\u001b[39m\n\u001b[0;32m   1945\u001b[0m     \u001b[38;5;66;03m# preserve the kind of exception that raised\u001b[39;00m\n\u001b[1;32m-> 1946\u001b[0m     \u001b[38;5;28;01mraise\u001b[39;00m \u001b[38;5;28mtype\u001b[39m(err)(msg) \u001b[38;5;28;01mfrom\u001b[39;00m \u001b[38;5;21;01merr\u001b[39;00m\n\u001b[0;32m   1948\u001b[0m \u001b[38;5;28;01mif\u001b[39;00m ser\u001b[38;5;241m.\u001b[39mdtype \u001b[38;5;241m==\u001b[39m \u001b[38;5;28mobject\u001b[39m:\n\u001b[0;32m   1949\u001b[0m     res_values \u001b[38;5;241m=\u001b[39m res_values\u001b[38;5;241m.\u001b[39mastype(\u001b[38;5;28mobject\u001b[39m, copy\u001b[38;5;241m=\u001b[39m\u001b[38;5;28;01mFalse\u001b[39;00m)\n",
      "\u001b[1;31mTypeError\u001b[0m: agg function failed [how->mean,dtype->object]"
     ]
    }
   ],
   "source": [
    "#Подготовка данных, создаем сводные таблицы \n",
    "data_last_price = data.pivot_table(index = 'last_price', values =['total_area', 'living_area', 'kitchen_area', 'rooms', 'floor_type', 'weekday','month','year'])\n",
    "display(data_last_price.head(5))"
   ]
  },
  {
   "cell_type": "code",
   "execution_count": null,
   "metadata": {},
   "outputs": [],
   "source": [
    "data_area =  data.pivot_table(index = 'last_price', values =['total_area', 'living_area', 'kitchen_area'])\n",
    "\n",
    "\n",
    "#Очень хочу сделать функцию, которая будет принимать свобную таблицу, а возвращать графики, но додуматься не могу\n",
    "#Подскажите, как она должна выглядеть \n",
    "\n",
    "\n",
    "fig, axes = plt.subplots(3, 1, figsize=(12, 15))\n",
    "for area, ax in zip(['total_area', 'living_area', 'kitchen_area'], axes):\n",
    "    data.plot(x=area, y='last_price', kind='scatter', alpha=.05, ax=ax)\n",
    "plt.show()\n",
    "\n",
    "#Почему когда я делаю другой тип (например hist) у меня они полностью одинаковые или вообще не выходят. Разобраться "
   ]
  },
  {
   "cell_type": "code",
   "execution_count": null,
   "metadata": {},
   "outputs": [],
   "source": [
    "print(f'Корреляция между стоимостью квартиры и общей площадью составила {data[\"last_price\"].corr(data[\"total_area\"])}')\n",
    "print(f'Корреляция между стоимостью квартиры и жилой площадью составила {data[\"last_price\"].corr(data[\"living_area\"])}')\n",
    "print(f'Корреляция между стоимостью квартиры и площадью кухни составила {data[\"last_price\"].corr(data[\"kitchen_area\"])}')"
   ]
  },
  {
   "cell_type": "code",
   "execution_count": null,
   "metadata": {},
   "outputs": [],
   "source": [
    "data_last =  data.pivot_table(index = 'last_price', values =['rooms', 'floor_type', 'weekday','month','year'])\n",
    "\n",
    "fig, axes = plt.subplots(5, 1, figsize=(20, 40))\n",
    "for feture, ax in zip(['rooms', 'floor_type', 'weekday', 'month', 'year'], axes):\n",
    "    data.groupby(feture)['last_price'].median().plot(kind='bar', rot=0, ax=ax)\n",
    "plt.show()\n",
    "#Вычитала про zip, но так и не поняла почему не работает data['rooms', 'floor_type', 'weekday', 'month', 'year']- это же список из колонок\n",
    "#Не покидает идея с сводными таблицами и функцией вывода графиков"
   ]
  },
  {
   "cell_type": "markdown",
   "metadata": {},
   "source": [
    "По диаграмам мы выявили следующее:\n",
    "- наибольшее количество объявлений выявлено в декабре месяце;\n",
    "- в выходные дни кол-во объявлений ниже, чем в буднии дни;\n",
    "- стоимость квартиры сильно коррелирует с жилой площадью;\n",
    "- чем больше комнат в квартире, тем выше стоимость;\n",
    "- с 2014 года количество объявлений значительно уменьшилось. После 2017 года количество объявлений о продаже квартир постепенно увеличивалось."
   ]
  },
  {
   "cell_type": "markdown",
   "metadata": {},
   "source": [
    "**4.4 Средняя цена одного квадратного метра в 10 населённых пунктах**"
   ]
  },
  {
   "cell_type": "code",
   "execution_count": null,
   "metadata": {},
   "outputs": [],
   "source": [
    "#Cоздаем сводную таблицу где индексы -названия, а выверка по цене за метр (считаем кол. для определения наиб)\n",
    "meter_price = data.pivot_table(index='locality_name', values='price_meter', aggfunc=['count', 'mean'])\n",
    "meter_price.columns=['count', 'mean']\n",
    "display(meter_price.sort_values(by = 'count', ascending = False).head(10))"
   ]
  },
  {
   "cell_type": "markdown",
   "metadata": {},
   "source": [
    "Самая высокая цены за объявления находяться в Санкт-Петербурге, а самые низкие в Кронштадте."
   ]
  },
  {
   "cell_type": "markdown",
   "metadata": {},
   "source": [
    "**4.5 Зависимость цены от расстояния от центра города в Санкт Петербурге**"
   ]
  },
  {
   "cell_type": "code",
   "execution_count": null,
   "metadata": {},
   "outputs": [],
   "source": [
    "#Берем срез, где города = Санкт-Петербургу, и группируем по столбцу расстояние от центра по столбцу цена средняя\n",
    "fig, ax = plt.subplots(figsize=(12, 5))\n",
    "data.query('locality_name == \"Санкт-Петербург\"').groupby('cityCenters_km')['last_price'].mean().plot(ax=ax)\n",
    "plt.show()\n"
   ]
  },
  {
   "cell_type": "markdown",
   "metadata": {},
   "source": [
    "На диаграмме видно, что в среднем цены на квартиру около центра в Санкт-Петербурга гораздо выше, чем далеко от центра. Так же виен пик в радиусе 27-28 км от центра. Возможно это спальные районы."
   ]
  },
  {
   "cell_type": "markdown",
   "metadata": {
    "id": "h7VpzkIDAwb-"
   },
   "source": [
    "### Напишите общий вывод"
   ]
  },
  {
   "cell_type": "markdown",
   "metadata": {
    "id": "3H4lnp_KAwb-"
   },
   "source": [
    "В начале исследования мы изучили общие данные о продажах квартир в Санкт-Петербурге и ближайших городах. Нашли пропуски в 14 столбцах, заметили необычные значения (потолки низкие), изучили есть ли явные дубликаты и обнаружили некорректный тип данных в столбцах.\n",
    "\n",
    "На втором этапе иследования мы заменили пропущенные значения по следующим столбцам :\n",
    "- data ['floors_total'] - количество этажей в доме заменили на медианное значение.\n",
    "- data['living_area'] -   жилая площадь оставили без изменений\n",
    "- data['kitchen_area'] - площадь кухни оставили без изменений\n",
    "- data['days_exposition'] -количество дней публикации оставили без изменений\n",
    "- data ['ponds_around3000'] - количество водоёмов в радиусе 3 км заменили на 0 (Многие продавцы пропускают значение, не имея рядом водоёма)\n",
    "- data ['parks_around3000'] - количество парков в радиусе 3 км заменили на 0 (Многие продавцы пропускают значение, не имея рядом парка)\n",
    "- data ['cityCenters_nearest'] - расстояние от центра  оставили без изменений \n",
    "- data ['airports_nearest'] -расстояние до аэропорта оставили без изменений \n",
    "- data['ceiling_height'] - высота потолков заменили медианным значением удалив все аномальные значения\n",
    "- data['balcony'] - количество балконов  заменили на 0 (Многие продавцы пропускают значение, не имея балконов)\n",
    "- data['ponds_nearest']  - расстояние до водоёма оставили без изменений (но была мысль заполнить медианным значением водоёмов по срезу определенных городов)\n",
    "- data['parks_nearest'] - расстояние до парка оставили без изменений(но была мысль заполнить медианным значением парков по срезу определенных городов)    \n",
    "- data['is_apartment'] - апартаменты заменили на True и False (является или не является апартаментами)\n",
    "\n",
    "Возможные причины пропусков приведены для каждой переменной. Основными причинами являются отсутствие информации при заполнении объявления и сбои в работе системы при загрузке/выгрузке базы данных.\n",
    "Типы данных были преобразованы в соответствии с описанием таблицы и смыслом хранимой информации.\n",
    "Столбец с неявными дубликатами приведен к единому виду по населенным пунктам.\n",
    "\n",
    "На третьем этапе иследования мы добавили столбцы:\n",
    "- цена одного квадратного метра ;\n",
    "- день недели публикации объявления ;\n",
    "- год публикации объявления;\n",
    "- тип этажа квартиры (значения — «первый», «последний», «другой»);\n",
    "- расстояние до центра города в километрах.\n",
    "\n",
    "На четвертом шаге провели иследовательский анализ данных и сравнили цену квартиры с параметрами. Выявили следующее:\n",
    "- количество объявлений квартир с жилой площадью в 22 м2 больше медианного значения в 30 м2;\n",
    "- продажа квартиры обычно занимает 98 дней. Продажи квартир за нескольких дней являются необычно быстрыми, в особенности от 1 до 42 дней. Необычно долгими продажами можно считать продажи от 232 дней и больше;\n",
    "- самая высокая цены за объявления находяться в Санкт-Петербурге, а самые низкие в Кронштадте;\n",
    "- стоимость квартиры сильно коррелирует с жилой площадью;\n",
    "- чем больше комнат в квартире, тем выше стоимость;\n",
    "- с 2014 года количество объявлений значительно уменьшилось. После 2017 года количество объявлений о продаже квартир постепенно увеличивалось.\n",
    "- в среднем цены на квартиру около центра в Санкт-Петербурга гораздо выше, чем далеко от центра. Так же замечен пик в радиусе 27-28 км от центра.\n",
    "\n",
    "Согласно изученным объявлениям на цены влияют параметры:\n",
    "1. жилая площадь\n",
    "2. количество комнат\n",
    "3. год \n",
    "4. расстояние от центра города"
   ]
  }
 ],
 "metadata": {
  "ExecuteTimeLog": [
   {
    "duration": 3223,
    "start_time": "2024-09-17T13:01:41.811Z"
   },
   {
    "duration": 175,
    "start_time": "2024-09-17T13:02:13.011Z"
   },
   {
    "duration": 2129,
    "start_time": "2024-09-17T13:02:30.586Z"
   },
   {
    "duration": 2293,
    "start_time": "2024-09-17T13:03:01.289Z"
   },
   {
    "duration": 2032,
    "start_time": "2024-09-17T13:04:25.170Z"
   },
   {
    "duration": 2262,
    "start_time": "2024-09-17T13:08:21.441Z"
   },
   {
    "duration": 98,
    "start_time": "2024-09-17T13:28:00.417Z"
   },
   {
    "duration": 67,
    "start_time": "2024-09-17T13:28:01.929Z"
   },
   {
    "duration": 103,
    "start_time": "2024-09-17T13:28:08.738Z"
   },
   {
    "duration": 14,
    "start_time": "2024-09-17T13:28:14.245Z"
   },
   {
    "duration": 16,
    "start_time": "2024-09-17T13:28:33.846Z"
   },
   {
    "duration": 49,
    "start_time": "2024-09-17T13:30:45.118Z"
   },
   {
    "duration": 2060,
    "start_time": "2024-09-17T13:30:50.613Z"
   },
   {
    "duration": 14,
    "start_time": "2024-09-17T13:31:21.537Z"
   },
   {
    "duration": 17,
    "start_time": "2024-09-17T13:41:21.384Z"
   },
   {
    "duration": 8,
    "start_time": "2024-09-17T13:41:45.037Z"
   },
   {
    "duration": 44,
    "start_time": "2024-09-17T14:00:31.806Z"
   },
   {
    "duration": 42,
    "start_time": "2024-09-17T14:06:41.979Z"
   },
   {
    "duration": 1953,
    "start_time": "2024-09-17T14:06:48.463Z"
   },
   {
    "duration": 3,
    "start_time": "2024-09-17T14:28:03.103Z"
   },
   {
    "duration": 4,
    "start_time": "2024-09-17T14:32:52.712Z"
   },
   {
    "duration": 5,
    "start_time": "2024-09-17T14:37:34.704Z"
   },
   {
    "duration": 6,
    "start_time": "2024-09-17T14:42:30.830Z"
   },
   {
    "duration": 442,
    "start_time": "2024-09-17T14:50:37.122Z"
   },
   {
    "duration": 461,
    "start_time": "2024-09-17T14:51:10.315Z"
   },
   {
    "duration": 11,
    "start_time": "2024-09-17T14:54:09.208Z"
   },
   {
    "duration": 6,
    "start_time": "2024-09-17T14:55:00.377Z"
   },
   {
    "duration": 5,
    "start_time": "2024-09-17T14:55:22.218Z"
   },
   {
    "duration": 10,
    "start_time": "2024-09-17T14:55:58.345Z"
   },
   {
    "duration": 4,
    "start_time": "2024-09-17T14:56:00.535Z"
   },
   {
    "duration": 4,
    "start_time": "2024-09-17T14:56:17.795Z"
   },
   {
    "duration": 53,
    "start_time": "2024-09-22T05:06:50.675Z"
   },
   {
    "duration": 958,
    "start_time": "2024-09-22T05:06:56.064Z"
   },
   {
    "duration": 18,
    "start_time": "2024-09-22T05:06:57.024Z"
   },
   {
    "duration": 14,
    "start_time": "2024-09-22T05:06:57.857Z"
   },
   {
    "duration": 16,
    "start_time": "2024-09-22T05:07:15.638Z"
   },
   {
    "duration": 41,
    "start_time": "2024-09-22T05:09:24.530Z"
   },
   {
    "duration": 21,
    "start_time": "2024-09-22T05:09:50.050Z"
   },
   {
    "duration": 5,
    "start_time": "2024-09-22T05:24:45.740Z"
   },
   {
    "duration": 10,
    "start_time": "2024-09-22T05:26:26.850Z"
   },
   {
    "duration": 8,
    "start_time": "2024-09-22T05:26:35.908Z"
   },
   {
    "duration": 11,
    "start_time": "2024-09-22T05:27:36.479Z"
   },
   {
    "duration": 4,
    "start_time": "2024-09-22T05:27:37.318Z"
   },
   {
    "duration": 4,
    "start_time": "2024-09-22T05:27:41.953Z"
   },
   {
    "duration": 6,
    "start_time": "2024-09-22T05:28:37.220Z"
   },
   {
    "duration": 5,
    "start_time": "2024-09-22T05:29:20.738Z"
   },
   {
    "duration": 9,
    "start_time": "2024-09-22T05:30:05.025Z"
   },
   {
    "duration": 9,
    "start_time": "2024-09-22T05:31:04.297Z"
   },
   {
    "duration": 4,
    "start_time": "2024-09-22T05:31:06.341Z"
   },
   {
    "duration": 97,
    "start_time": "2024-09-22T05:31:13.736Z"
   },
   {
    "duration": 16,
    "start_time": "2024-09-22T05:31:14.696Z"
   },
   {
    "duration": 14,
    "start_time": "2024-09-22T05:31:15.000Z"
   },
   {
    "duration": 15,
    "start_time": "2024-09-22T05:31:15.592Z"
   },
   {
    "duration": 40,
    "start_time": "2024-09-22T05:31:16.180Z"
   },
   {
    "duration": 20,
    "start_time": "2024-09-22T05:31:17.636Z"
   },
   {
    "duration": 1913,
    "start_time": "2024-09-22T05:31:18.262Z"
   },
   {
    "duration": 13,
    "start_time": "2024-09-22T05:31:24.311Z"
   },
   {
    "duration": 3,
    "start_time": "2024-09-22T05:31:41.872Z"
   },
   {
    "duration": 5,
    "start_time": "2024-09-22T05:31:43.531Z"
   },
   {
    "duration": 10,
    "start_time": "2024-09-22T05:31:44.153Z"
   },
   {
    "duration": 3,
    "start_time": "2024-09-22T05:31:45.197Z"
   },
   {
    "duration": 5,
    "start_time": "2024-09-22T05:31:48.371Z"
   },
   {
    "duration": 5,
    "start_time": "2024-09-22T05:32:01.792Z"
   },
   {
    "duration": 5,
    "start_time": "2024-09-22T05:33:28.107Z"
   },
   {
    "duration": 193,
    "start_time": "2024-09-22T05:39:42.599Z"
   },
   {
    "duration": 18,
    "start_time": "2024-09-22T05:46:11.368Z"
   },
   {
    "duration": 215,
    "start_time": "2024-09-22T05:46:48.588Z"
   },
   {
    "duration": 1203,
    "start_time": "2024-09-22T05:51:29.213Z"
   },
   {
    "duration": 3675,
    "start_time": "2024-09-22T05:51:55.781Z"
   },
   {
    "duration": 7398,
    "start_time": "2024-09-22T05:54:15.846Z"
   },
   {
    "duration": 1983,
    "start_time": "2024-09-22T06:10:00.245Z"
   },
   {
    "duration": 92,
    "start_time": "2024-09-22T06:17:48.176Z"
   },
   {
    "duration": 15,
    "start_time": "2024-09-22T06:17:50.062Z"
   },
   {
    "duration": 14,
    "start_time": "2024-09-22T06:17:50.195Z"
   },
   {
    "duration": 37,
    "start_time": "2024-09-22T06:17:50.254Z"
   },
   {
    "duration": 73,
    "start_time": "2024-09-22T06:17:50.324Z"
   },
   {
    "duration": 96,
    "start_time": "2024-09-22T06:17:58.383Z"
   },
   {
    "duration": 14,
    "start_time": "2024-09-22T06:17:58.984Z"
   },
   {
    "duration": 17,
    "start_time": "2024-09-22T06:18:00.146Z"
   },
   {
    "duration": 16,
    "start_time": "2024-09-22T06:18:03.827Z"
   },
   {
    "duration": 39,
    "start_time": "2024-09-22T06:18:06.633Z"
   },
   {
    "duration": 10,
    "start_time": "2024-09-22T06:19:37.061Z"
   },
   {
    "duration": 588,
    "start_time": "2024-09-22T06:20:06.217Z"
   },
   {
    "duration": 14,
    "start_time": "2024-09-22T06:20:06.807Z"
   },
   {
    "duration": 14,
    "start_time": "2024-09-22T06:20:06.956Z"
   },
   {
    "duration": 18,
    "start_time": "2024-09-22T06:20:07.220Z"
   },
   {
    "duration": 49,
    "start_time": "2024-09-22T06:20:07.622Z"
   },
   {
    "duration": 20,
    "start_time": "2024-09-22T06:20:08.456Z"
   },
   {
    "duration": 1320,
    "start_time": "2024-09-22T06:23:04.340Z"
   },
   {
    "duration": 15,
    "start_time": "2024-09-22T06:23:05.662Z"
   },
   {
    "duration": 39,
    "start_time": "2024-09-22T06:23:05.679Z"
   },
   {
    "duration": 21,
    "start_time": "2024-09-22T06:23:05.719Z"
   },
   {
    "duration": 47,
    "start_time": "2024-09-22T06:23:05.813Z"
   },
   {
    "duration": 22,
    "start_time": "2024-09-22T06:23:06.228Z"
   },
   {
    "duration": 70,
    "start_time": "2024-09-22T06:25:05.607Z"
   },
   {
    "duration": 40,
    "start_time": "2024-09-22T06:25:11.221Z"
   },
   {
    "duration": 1259,
    "start_time": "2024-09-22T06:25:15.876Z"
   },
   {
    "duration": 17,
    "start_time": "2024-09-22T06:25:17.137Z"
   },
   {
    "duration": 20,
    "start_time": "2024-09-22T06:25:17.156Z"
   },
   {
    "duration": 14,
    "start_time": "2024-09-22T06:25:17.328Z"
   },
   {
    "duration": 42,
    "start_time": "2024-09-22T06:25:20.538Z"
   },
   {
    "duration": 23,
    "start_time": "2024-09-22T06:25:22.004Z"
   },
   {
    "duration": 1257,
    "start_time": "2024-09-22T06:25:23.058Z"
   },
   {
    "duration": 1962,
    "start_time": "2024-09-22T06:25:35.953Z"
   },
   {
    "duration": 11,
    "start_time": "2024-09-22T06:27:27.199Z"
   },
   {
    "duration": 3,
    "start_time": "2024-09-22T06:27:28.762Z"
   },
   {
    "duration": 5,
    "start_time": "2024-09-22T06:27:29.915Z"
   },
   {
    "duration": 12,
    "start_time": "2024-09-22T06:27:30.699Z"
   },
   {
    "duration": 3,
    "start_time": "2024-09-22T06:27:31.126Z"
   },
   {
    "duration": 116,
    "start_time": "2024-09-22T06:27:32.014Z"
   },
   {
    "duration": 5,
    "start_time": "2024-09-22T06:27:32.371Z"
   },
   {
    "duration": 114,
    "start_time": "2024-09-22T06:27:49.257Z"
   },
   {
    "duration": 5,
    "start_time": "2024-09-22T06:27:54.473Z"
   },
   {
    "duration": 5,
    "start_time": "2024-09-22T06:27:55.594Z"
   },
   {
    "duration": 6,
    "start_time": "2024-09-22T06:30:32.260Z"
   },
   {
    "duration": 3275,
    "start_time": "2024-09-22T06:39:22.328Z"
   },
   {
    "duration": 1249,
    "start_time": "2024-09-22T06:39:47.899Z"
   },
   {
    "duration": 525,
    "start_time": "2024-09-22T06:41:37.101Z"
   },
   {
    "duration": 2469,
    "start_time": "2024-09-22T06:47:39.716Z"
   },
   {
    "duration": 7,
    "start_time": "2024-09-22T06:54:28.248Z"
   },
   {
    "duration": 8,
    "start_time": "2024-09-22T06:57:57.579Z"
   },
   {
    "duration": 13,
    "start_time": "2024-09-22T07:00:56.576Z"
   },
   {
    "duration": 64,
    "start_time": "2024-09-22T07:05:04.882Z"
   },
   {
    "duration": 9,
    "start_time": "2024-09-22T07:05:10.049Z"
   },
   {
    "duration": 9,
    "start_time": "2024-09-22T07:07:08.637Z"
   },
   {
    "duration": 4,
    "start_time": "2024-09-22T07:08:46.744Z"
   },
   {
    "duration": 4,
    "start_time": "2024-09-22T07:08:56.874Z"
   },
   {
    "duration": 4,
    "start_time": "2024-09-22T07:09:06.380Z"
   },
   {
    "duration": 12,
    "start_time": "2024-09-22T07:09:19.206Z"
   },
   {
    "duration": 8,
    "start_time": "2024-09-22T07:09:29.156Z"
   },
   {
    "duration": 4,
    "start_time": "2024-09-22T07:09:34.936Z"
   },
   {
    "duration": 5,
    "start_time": "2024-09-22T07:09:35.374Z"
   },
   {
    "duration": 10,
    "start_time": "2024-09-22T07:09:35.540Z"
   },
   {
    "duration": 4,
    "start_time": "2024-09-22T07:09:35.749Z"
   },
   {
    "duration": 124,
    "start_time": "2024-09-22T07:09:36.173Z"
   },
   {
    "duration": 5,
    "start_time": "2024-09-22T07:09:36.394Z"
   },
   {
    "duration": 7,
    "start_time": "2024-09-22T07:09:36.814Z"
   },
   {
    "duration": 10,
    "start_time": "2024-09-22T07:09:37.236Z"
   },
   {
    "duration": 3,
    "start_time": "2024-09-22T07:09:37.679Z"
   },
   {
    "duration": 7,
    "start_time": "2024-09-22T07:09:37.919Z"
   },
   {
    "duration": 16,
    "start_time": "2024-09-22T07:09:39.568Z"
   },
   {
    "duration": 4,
    "start_time": "2024-09-22T07:10:16.115Z"
   },
   {
    "duration": 4,
    "start_time": "2024-09-22T07:10:27.334Z"
   },
   {
    "duration": 98,
    "start_time": "2024-09-22T07:10:33.498Z"
   },
   {
    "duration": 14,
    "start_time": "2024-09-22T07:10:34.120Z"
   },
   {
    "duration": 14,
    "start_time": "2024-09-22T07:10:34.334Z"
   },
   {
    "duration": 18,
    "start_time": "2024-09-22T07:10:34.497Z"
   },
   {
    "duration": 65,
    "start_time": "2024-09-22T07:10:34.657Z"
   },
   {
    "duration": 22,
    "start_time": "2024-09-22T07:10:35.022Z"
   },
   {
    "duration": 2570,
    "start_time": "2024-09-22T07:10:35.203Z"
   },
   {
    "duration": 9,
    "start_time": "2024-09-22T07:10:37.775Z"
   },
   {
    "duration": 51,
    "start_time": "2024-09-22T07:10:37.785Z"
   },
   {
    "duration": 6,
    "start_time": "2024-09-22T07:10:37.838Z"
   },
   {
    "duration": 16,
    "start_time": "2024-09-22T07:10:37.845Z"
   },
   {
    "duration": 4,
    "start_time": "2024-09-22T07:10:43.111Z"
   },
   {
    "duration": 131,
    "start_time": "2024-09-22T07:10:44.126Z"
   },
   {
    "duration": 6,
    "start_time": "2024-09-22T07:10:48.584Z"
   },
   {
    "duration": 7,
    "start_time": "2024-09-22T07:10:53.272Z"
   },
   {
    "duration": 7,
    "start_time": "2024-09-22T07:10:57.766Z"
   },
   {
    "duration": 5,
    "start_time": "2024-09-22T07:10:59.364Z"
   },
   {
    "duration": 8,
    "start_time": "2024-09-22T07:24:40.106Z"
   },
   {
    "duration": 6,
    "start_time": "2024-09-22T07:25:41.816Z"
   },
   {
    "duration": 7,
    "start_time": "2024-09-22T07:26:51.981Z"
   },
   {
    "duration": 75,
    "start_time": "2024-09-22T07:28:58.720Z"
   },
   {
    "duration": 1029,
    "start_time": "2024-09-22T07:29:09.302Z"
   },
   {
    "duration": 8,
    "start_time": "2024-09-22T07:29:29.644Z"
   },
   {
    "duration": 11,
    "start_time": "2024-09-22T07:32:36.763Z"
   },
   {
    "duration": 1088,
    "start_time": "2024-09-22T07:32:43.719Z"
   },
   {
    "duration": 92,
    "start_time": "2024-09-22T07:33:42.473Z"
   },
   {
    "duration": 15,
    "start_time": "2024-09-22T07:33:43.916Z"
   },
   {
    "duration": 87,
    "start_time": "2024-09-22T07:35:34.739Z"
   },
   {
    "duration": 26,
    "start_time": "2024-09-22T07:35:47.602Z"
   },
   {
    "duration": 26,
    "start_time": "2024-09-22T07:36:07.123Z"
   },
   {
    "duration": 1145,
    "start_time": "2024-09-22T07:37:09.039Z"
   },
   {
    "duration": 10,
    "start_time": "2024-09-22T07:37:39.058Z"
   },
   {
    "duration": 74,
    "start_time": "2024-09-22T07:39:04.570Z"
   },
   {
    "duration": 13,
    "start_time": "2024-09-22T07:41:28.323Z"
   },
   {
    "duration": 86,
    "start_time": "2024-09-22T07:41:33.794Z"
   },
   {
    "duration": 27,
    "start_time": "2024-09-22T07:41:34.457Z"
   },
   {
    "duration": 26,
    "start_time": "2024-09-22T07:41:42.609Z"
   },
   {
    "duration": 15,
    "start_time": "2024-09-22T07:41:48.992Z"
   },
   {
    "duration": 68,
    "start_time": "2024-09-22T07:41:55.642Z"
   },
   {
    "duration": 21,
    "start_time": "2024-09-22T07:41:59.330Z"
   },
   {
    "duration": 2528,
    "start_time": "2024-09-22T07:42:08.208Z"
   },
   {
    "duration": 9,
    "start_time": "2024-09-22T07:42:17.164Z"
   },
   {
    "duration": 6,
    "start_time": "2024-09-22T07:42:59.705Z"
   },
   {
    "duration": 9,
    "start_time": "2024-09-22T07:43:46.036Z"
   },
   {
    "duration": 5,
    "start_time": "2024-09-22T07:44:04.294Z"
   },
   {
    "duration": 10,
    "start_time": "2024-09-22T07:44:09.720Z"
   },
   {
    "duration": 4,
    "start_time": "2024-09-22T07:44:25.055Z"
   },
   {
    "duration": 13,
    "start_time": "2024-09-22T07:52:51.821Z"
   },
   {
    "duration": 93,
    "start_time": "2024-09-22T07:53:12.480Z"
   },
   {
    "duration": 26,
    "start_time": "2024-09-22T07:53:12.875Z"
   },
   {
    "duration": 25,
    "start_time": "2024-09-22T07:53:13.274Z"
   },
   {
    "duration": 14,
    "start_time": "2024-09-22T07:53:13.708Z"
   },
   {
    "duration": 67,
    "start_time": "2024-09-22T07:53:14.135Z"
   },
   {
    "duration": 20,
    "start_time": "2024-09-22T07:53:15.011Z"
   },
   {
    "duration": 2574,
    "start_time": "2024-09-22T07:53:15.520Z"
   },
   {
    "duration": 9,
    "start_time": "2024-09-22T07:53:19.747Z"
   },
   {
    "duration": 11,
    "start_time": "2024-09-22T07:53:20.499Z"
   },
   {
    "duration": 7,
    "start_time": "2024-09-22T07:55:01.836Z"
   },
   {
    "duration": 5,
    "start_time": "2024-09-22T07:55:51.969Z"
   },
   {
    "duration": 11,
    "start_time": "2024-09-22T07:55:53.210Z"
   },
   {
    "duration": 3,
    "start_time": "2024-09-22T07:55:53.881Z"
   },
   {
    "duration": 10,
    "start_time": "2024-09-22T07:56:02.090Z"
   },
   {
    "duration": 118,
    "start_time": "2024-09-22T07:56:38.323Z"
   },
   {
    "duration": 7,
    "start_time": "2024-09-22T07:58:16.582Z"
   },
   {
    "duration": 7,
    "start_time": "2024-09-22T07:58:25.514Z"
   },
   {
    "duration": 7,
    "start_time": "2024-09-22T07:58:59.279Z"
   },
   {
    "duration": 18,
    "start_time": "2024-09-22T08:04:54.048Z"
   },
   {
    "duration": 12,
    "start_time": "2024-09-22T08:05:08.621Z"
   },
   {
    "duration": 13,
    "start_time": "2024-09-22T08:05:31.326Z"
   },
   {
    "duration": 15,
    "start_time": "2024-09-22T08:05:41.265Z"
   },
   {
    "duration": 13,
    "start_time": "2024-09-22T08:07:41.172Z"
   },
   {
    "duration": 6,
    "start_time": "2024-09-22T08:08:05.267Z"
   },
   {
    "duration": 5,
    "start_time": "2024-09-22T08:08:06.467Z"
   },
   {
    "duration": 4,
    "start_time": "2024-09-22T08:08:54.357Z"
   },
   {
    "duration": 4,
    "start_time": "2024-09-22T08:10:10.461Z"
   },
   {
    "duration": 13,
    "start_time": "2024-09-22T08:11:07.983Z"
   },
   {
    "duration": 7,
    "start_time": "2024-09-22T08:11:09.913Z"
   },
   {
    "duration": 5,
    "start_time": "2024-09-22T08:11:11.665Z"
   },
   {
    "duration": 103,
    "start_time": "2024-09-22T08:12:55.036Z"
   },
   {
    "duration": 6,
    "start_time": "2024-09-22T08:13:08.338Z"
   },
   {
    "duration": 4,
    "start_time": "2024-09-22T08:15:32.852Z"
   },
   {
    "duration": 30,
    "start_time": "2024-09-22T08:15:44.861Z"
   },
   {
    "duration": 95,
    "start_time": "2024-09-22T08:32:47.733Z"
   },
   {
    "duration": 35,
    "start_time": "2024-09-22T08:32:48.195Z"
   },
   {
    "duration": 27,
    "start_time": "2024-09-22T08:32:48.733Z"
   },
   {
    "duration": 16,
    "start_time": "2024-09-22T08:32:49.341Z"
   },
   {
    "duration": 72,
    "start_time": "2024-09-22T08:32:49.921Z"
   },
   {
    "duration": 20,
    "start_time": "2024-09-22T08:32:51.691Z"
   },
   {
    "duration": 2392,
    "start_time": "2024-09-22T08:32:52.748Z"
   },
   {
    "duration": 8,
    "start_time": "2024-09-22T08:33:10.458Z"
   },
   {
    "duration": 10,
    "start_time": "2024-09-22T08:33:19.415Z"
   },
   {
    "duration": 6,
    "start_time": "2024-09-22T08:34:21.132Z"
   },
   {
    "duration": 10,
    "start_time": "2024-09-22T08:34:26.481Z"
   },
   {
    "duration": 4,
    "start_time": "2024-09-22T08:41:49.001Z"
   },
   {
    "duration": 16,
    "start_time": "2024-09-22T08:45:46.704Z"
   },
   {
    "duration": 19,
    "start_time": "2024-09-22T08:48:44.147Z"
   },
   {
    "duration": 107,
    "start_time": "2024-09-22T08:56:11.151Z"
   },
   {
    "duration": 27,
    "start_time": "2024-09-22T08:56:11.584Z"
   },
   {
    "duration": 25,
    "start_time": "2024-09-22T08:56:11.982Z"
   },
   {
    "duration": 22,
    "start_time": "2024-09-22T08:56:12.420Z"
   },
   {
    "duration": 357,
    "start_time": "2024-09-22T08:56:13.311Z"
   },
   {
    "duration": 24,
    "start_time": "2024-09-22T08:56:48.287Z"
   },
   {
    "duration": 2481,
    "start_time": "2024-09-22T08:56:56.115Z"
   },
   {
    "duration": 9,
    "start_time": "2024-09-22T08:58:40.697Z"
   },
   {
    "duration": 11,
    "start_time": "2024-09-22T08:58:41.778Z"
   },
   {
    "duration": 5,
    "start_time": "2024-09-22T09:01:39.063Z"
   },
   {
    "duration": 9,
    "start_time": "2024-09-22T09:01:43.805Z"
   },
   {
    "duration": 3,
    "start_time": "2024-09-22T09:01:56.366Z"
   },
   {
    "duration": 138,
    "start_time": "2024-09-22T09:07:10.728Z"
   },
   {
    "duration": 178,
    "start_time": "2024-09-22T09:09:16.166Z"
   },
   {
    "duration": 167,
    "start_time": "2024-09-22T09:09:23.925Z"
   },
   {
    "duration": 92,
    "start_time": "2024-09-22T09:10:09.281Z"
   },
   {
    "duration": 124,
    "start_time": "2024-09-22T09:10:15.991Z"
   },
   {
    "duration": 126,
    "start_time": "2024-09-22T09:10:53.486Z"
   },
   {
    "duration": 128,
    "start_time": "2024-09-22T09:12:03.067Z"
   },
   {
    "duration": 372,
    "start_time": "2024-09-22T09:12:15.964Z"
   },
   {
    "duration": 130,
    "start_time": "2024-09-22T09:12:58.823Z"
   },
   {
    "duration": 16,
    "start_time": "2024-09-22T09:14:38.452Z"
   },
   {
    "duration": 7,
    "start_time": "2024-09-22T09:20:07.410Z"
   },
   {
    "duration": 5,
    "start_time": "2024-09-22T09:29:15.176Z"
   },
   {
    "duration": 31,
    "start_time": "2024-09-22T09:32:31.189Z"
   },
   {
    "duration": 22,
    "start_time": "2024-09-22T09:34:25.999Z"
   },
   {
    "duration": 8,
    "start_time": "2024-09-22T09:43:20.897Z"
   },
   {
    "duration": 8,
    "start_time": "2024-09-22T09:46:00.601Z"
   },
   {
    "duration": 17,
    "start_time": "2024-09-22T09:47:01.544Z"
   },
   {
    "duration": 8,
    "start_time": "2024-09-22T09:47:05.533Z"
   },
   {
    "duration": 16,
    "start_time": "2024-09-22T09:47:08.267Z"
   },
   {
    "duration": 92,
    "start_time": "2024-09-22T09:47:19.625Z"
   },
   {
    "duration": 24,
    "start_time": "2024-09-22T09:47:19.785Z"
   },
   {
    "duration": 26,
    "start_time": "2024-09-22T09:47:19.966Z"
   },
   {
    "duration": 15,
    "start_time": "2024-09-22T09:47:20.144Z"
   },
   {
    "duration": 69,
    "start_time": "2024-09-22T09:47:20.299Z"
   },
   {
    "duration": 26,
    "start_time": "2024-09-22T09:47:20.662Z"
   },
   {
    "duration": 2441,
    "start_time": "2024-09-22T09:47:20.840Z"
   },
   {
    "duration": 9,
    "start_time": "2024-09-22T09:47:23.283Z"
   },
   {
    "duration": 19,
    "start_time": "2024-09-22T09:47:23.294Z"
   },
   {
    "duration": 12,
    "start_time": "2024-09-22T09:47:23.315Z"
   },
   {
    "duration": 13,
    "start_time": "2024-09-22T09:47:23.328Z"
   },
   {
    "duration": 10,
    "start_time": "2024-09-22T09:47:23.352Z"
   },
   {
    "duration": 3,
    "start_time": "2024-09-22T09:47:23.366Z"
   },
   {
    "duration": 119,
    "start_time": "2024-09-22T09:47:25.925Z"
   },
   {
    "duration": 16,
    "start_time": "2024-09-22T09:47:27.651Z"
   },
   {
    "duration": 5,
    "start_time": "2024-09-22T09:47:28.333Z"
   },
   {
    "duration": 6,
    "start_time": "2024-09-22T09:47:29.969Z"
   },
   {
    "duration": 20,
    "start_time": "2024-09-22T09:47:32.062Z"
   },
   {
    "duration": 9,
    "start_time": "2024-09-22T09:47:34.634Z"
   },
   {
    "duration": 14,
    "start_time": "2024-09-22T09:47:35.668Z"
   },
   {
    "duration": 8,
    "start_time": "2024-09-22T09:47:44.519Z"
   },
   {
    "duration": 5,
    "start_time": "2024-09-22T09:47:47.395Z"
   },
   {
    "duration": 6,
    "start_time": "2024-09-22T09:50:34.633Z"
   },
   {
    "duration": 31,
    "start_time": "2024-09-22T09:50:35.613Z"
   },
   {
    "duration": 7,
    "start_time": "2024-09-22T09:52:24.323Z"
   },
   {
    "duration": 7,
    "start_time": "2024-09-22T09:52:58.738Z"
   },
   {
    "duration": 29,
    "start_time": "2024-09-22T09:57:53.197Z"
   },
   {
    "duration": 67,
    "start_time": "2024-09-22T09:58:14.040Z"
   },
   {
    "duration": 61,
    "start_time": "2024-09-22T09:58:50.610Z"
   },
   {
    "duration": 59,
    "start_time": "2024-09-22T09:59:39.097Z"
   },
   {
    "duration": 30,
    "start_time": "2024-09-22T10:00:27.326Z"
   },
   {
    "duration": 13,
    "start_time": "2024-09-22T10:00:53.568Z"
   },
   {
    "duration": 9,
    "start_time": "2024-09-22T10:01:36.708Z"
   },
   {
    "duration": 7,
    "start_time": "2024-09-22T10:01:49.476Z"
   },
   {
    "duration": 7,
    "start_time": "2024-09-22T10:07:29.723Z"
   },
   {
    "duration": 5,
    "start_time": "2024-09-22T10:09:34.987Z"
   },
   {
    "duration": 5,
    "start_time": "2024-09-22T10:09:36.665Z"
   },
   {
    "duration": 6,
    "start_time": "2024-09-22T10:10:18.888Z"
   },
   {
    "duration": 11,
    "start_time": "2024-09-22T10:10:38.799Z"
   },
   {
    "duration": 7,
    "start_time": "2024-09-22T10:11:06.886Z"
   },
   {
    "duration": 4,
    "start_time": "2024-09-22T10:11:20.876Z"
   },
   {
    "duration": 7,
    "start_time": "2024-09-22T10:11:50.284Z"
   },
   {
    "duration": 3,
    "start_time": "2024-09-22T10:11:51.196Z"
   },
   {
    "duration": 7,
    "start_time": "2024-09-22T10:13:11.850Z"
   },
   {
    "duration": 6,
    "start_time": "2024-09-22T10:14:31.029Z"
   },
   {
    "duration": 4,
    "start_time": "2024-09-22T10:15:35.776Z"
   },
   {
    "duration": 6,
    "start_time": "2024-09-22T10:15:38.086Z"
   },
   {
    "duration": 19,
    "start_time": "2024-09-22T10:19:19.583Z"
   },
   {
    "duration": 146,
    "start_time": "2024-09-22T10:23:41.093Z"
   },
   {
    "duration": 160,
    "start_time": "2024-09-22T10:24:21.521Z"
   },
   {
    "duration": 153,
    "start_time": "2024-09-22T10:24:33.293Z"
   },
   {
    "duration": 369,
    "start_time": "2024-09-22T10:26:26.547Z"
   },
   {
    "duration": 143,
    "start_time": "2024-09-22T10:26:44.434Z"
   },
   {
    "duration": 136,
    "start_time": "2024-09-22T10:31:51.437Z"
   },
   {
    "duration": 8,
    "start_time": "2024-09-22T10:38:49.069Z"
   },
   {
    "duration": 38,
    "start_time": "2024-09-22T10:42:28.447Z"
   },
   {
    "duration": 4,
    "start_time": "2024-09-22T10:43:24.377Z"
   },
   {
    "duration": 71,
    "start_time": "2024-09-22T10:43:28.498Z"
   },
   {
    "duration": 94,
    "start_time": "2024-09-22T10:44:26.420Z"
   },
   {
    "duration": 9,
    "start_time": "2024-09-22T10:44:59.976Z"
   },
   {
    "duration": 6,
    "start_time": "2024-09-22T10:46:15.109Z"
   },
   {
    "duration": 17,
    "start_time": "2024-09-22T10:48:12.050Z"
   },
   {
    "duration": 18,
    "start_time": "2024-09-22T10:49:03.182Z"
   },
   {
    "duration": 19,
    "start_time": "2024-09-22T10:59:29.825Z"
   },
   {
    "duration": 5,
    "start_time": "2024-09-22T10:59:38.503Z"
   },
   {
    "duration": 10,
    "start_time": "2024-09-22T11:00:26.481Z"
   },
   {
    "duration": 6,
    "start_time": "2024-09-22T11:00:59.351Z"
   },
   {
    "duration": 19,
    "start_time": "2024-09-22T12:08:42.552Z"
   },
   {
    "duration": 12,
    "start_time": "2024-09-22T12:42:50.608Z"
   },
   {
    "duration": 20,
    "start_time": "2024-09-22T12:43:02.469Z"
   },
   {
    "duration": 37,
    "start_time": "2024-09-22T12:45:15.632Z"
   },
   {
    "duration": 101,
    "start_time": "2024-09-22T13:49:35.290Z"
   },
   {
    "duration": 27,
    "start_time": "2024-09-22T13:49:36.218Z"
   },
   {
    "duration": 27,
    "start_time": "2024-09-22T13:49:37.158Z"
   },
   {
    "duration": 17,
    "start_time": "2024-09-22T13:49:38.036Z"
   },
   {
    "duration": 73,
    "start_time": "2024-09-22T13:49:39.059Z"
   },
   {
    "duration": 21,
    "start_time": "2024-09-22T13:49:41.069Z"
   },
   {
    "duration": 2460,
    "start_time": "2024-09-22T13:49:42.075Z"
   },
   {
    "duration": 9,
    "start_time": "2024-09-22T13:49:47.495Z"
   },
   {
    "duration": 11,
    "start_time": "2024-09-22T13:49:48.243Z"
   },
   {
    "duration": 8,
    "start_time": "2024-09-22T13:49:49.136Z"
   },
   {
    "duration": 5,
    "start_time": "2024-09-22T13:49:49.735Z"
   },
   {
    "duration": 13,
    "start_time": "2024-09-22T13:49:49.930Z"
   },
   {
    "duration": 4,
    "start_time": "2024-09-22T13:49:50.103Z"
   },
   {
    "duration": 118,
    "start_time": "2024-09-22T13:49:50.691Z"
   },
   {
    "duration": 14,
    "start_time": "2024-09-22T13:49:51.081Z"
   },
   {
    "duration": 4,
    "start_time": "2024-09-22T13:49:51.285Z"
   },
   {
    "duration": 5,
    "start_time": "2024-09-22T13:49:51.671Z"
   },
   {
    "duration": 25,
    "start_time": "2024-09-22T13:49:52.276Z"
   },
   {
    "duration": 10,
    "start_time": "2024-09-22T13:49:52.868Z"
   },
   {
    "duration": 4,
    "start_time": "2024-09-22T13:49:53.254Z"
   },
   {
    "duration": 7,
    "start_time": "2024-09-22T13:49:53.715Z"
   },
   {
    "duration": 27,
    "start_time": "2024-09-22T13:49:53.892Z"
   },
   {
    "duration": 8,
    "start_time": "2024-09-22T13:49:54.299Z"
   },
   {
    "duration": 6,
    "start_time": "2024-09-22T13:49:54.744Z"
   },
   {
    "duration": 5,
    "start_time": "2024-09-22T13:49:54.946Z"
   },
   {
    "duration": 5,
    "start_time": "2024-09-22T13:49:55.363Z"
   },
   {
    "duration": 4,
    "start_time": "2024-09-22T13:49:55.566Z"
   },
   {
    "duration": 17,
    "start_time": "2024-09-22T13:49:55.980Z"
   },
   {
    "duration": 148,
    "start_time": "2024-09-22T13:49:56.629Z"
   },
   {
    "duration": 9,
    "start_time": "2024-09-22T13:49:57.311Z"
   },
   {
    "duration": 7,
    "start_time": "2024-09-22T13:49:57.729Z"
   },
   {
    "duration": 9,
    "start_time": "2024-09-22T13:49:59.746Z"
   },
   {
    "duration": 14,
    "start_time": "2024-09-22T13:50:02.964Z"
   },
   {
    "duration": 30,
    "start_time": "2024-09-22T13:50:08.050Z"
   },
   {
    "duration": 12,
    "start_time": "2024-09-22T13:50:08.904Z"
   },
   {
    "duration": 7,
    "start_time": "2024-09-22T13:51:01.132Z"
   },
   {
    "duration": 14,
    "start_time": "2024-09-22T13:51:43.297Z"
   },
   {
    "duration": 8,
    "start_time": "2024-09-22T13:51:49.654Z"
   },
   {
    "duration": 2246,
    "start_time": "2024-09-22T13:54:42.522Z"
   },
   {
    "duration": 1315,
    "start_time": "2024-09-22T14:02:47.579Z"
   },
   {
    "duration": 1152,
    "start_time": "2024-09-22T14:03:57.488Z"
   },
   {
    "duration": 5,
    "start_time": "2024-09-22T14:34:23.879Z"
   },
   {
    "duration": 4,
    "start_time": "2024-09-22T14:36:52.270Z"
   },
   {
    "duration": 15,
    "start_time": "2024-09-22T14:46:15.305Z"
   },
   {
    "duration": 5,
    "start_time": "2024-09-22T14:47:06.121Z"
   },
   {
    "duration": 28182,
    "start_time": "2024-09-24T05:06:58.952Z"
   },
   {
    "duration": 29,
    "start_time": "2024-09-24T05:07:27.136Z"
   },
   {
    "duration": 35,
    "start_time": "2024-09-24T05:07:27.166Z"
   },
   {
    "duration": 14,
    "start_time": "2024-09-24T05:07:27.204Z"
   },
   {
    "duration": 77,
    "start_time": "2024-09-24T05:07:27.219Z"
   },
   {
    "duration": 22,
    "start_time": "2024-09-24T05:07:27.297Z"
   },
   {
    "duration": 2112,
    "start_time": "2024-09-24T05:07:27.320Z"
   },
   {
    "duration": 9,
    "start_time": "2024-09-24T05:07:29.434Z"
   },
   {
    "duration": 26,
    "start_time": "2024-09-24T05:07:29.445Z"
   },
   {
    "duration": 10,
    "start_time": "2024-09-24T05:07:29.475Z"
   },
   {
    "duration": 15,
    "start_time": "2024-09-24T05:07:29.486Z"
   },
   {
    "duration": 14,
    "start_time": "2024-09-24T05:07:29.503Z"
   },
   {
    "duration": 4,
    "start_time": "2024-09-24T05:07:29.518Z"
   },
   {
    "duration": 163,
    "start_time": "2024-09-24T05:07:29.524Z"
   },
   {
    "duration": 22,
    "start_time": "2024-09-24T05:07:29.689Z"
   },
   {
    "duration": 6,
    "start_time": "2024-09-24T05:07:29.713Z"
   },
   {
    "duration": 5,
    "start_time": "2024-09-24T05:07:29.720Z"
   },
   {
    "duration": 64,
    "start_time": "2024-09-24T05:07:29.727Z"
   },
   {
    "duration": 11,
    "start_time": "2024-09-24T05:07:29.793Z"
   },
   {
    "duration": 4,
    "start_time": "2024-09-24T05:07:29.806Z"
   },
   {
    "duration": 11,
    "start_time": "2024-09-24T05:07:29.812Z"
   },
   {
    "duration": 68,
    "start_time": "2024-09-24T05:07:29.825Z"
   },
   {
    "duration": 9,
    "start_time": "2024-09-24T05:07:29.895Z"
   },
   {
    "duration": 7,
    "start_time": "2024-09-24T05:07:29.906Z"
   },
   {
    "duration": 9,
    "start_time": "2024-09-24T05:07:29.916Z"
   },
   {
    "duration": 8,
    "start_time": "2024-09-24T05:07:29.927Z"
   },
   {
    "duration": 4,
    "start_time": "2024-09-24T05:07:29.937Z"
   },
   {
    "duration": 21,
    "start_time": "2024-09-24T05:07:29.967Z"
   },
   {
    "duration": 213,
    "start_time": "2024-09-24T05:07:29.990Z"
   },
   {
    "duration": 21,
    "start_time": "2024-09-24T05:07:30.205Z"
   },
   {
    "duration": 20,
    "start_time": "2024-09-24T05:07:30.229Z"
   },
   {
    "duration": 26,
    "start_time": "2024-09-24T05:07:30.251Z"
   },
   {
    "duration": 18,
    "start_time": "2024-09-24T05:07:30.279Z"
   },
   {
    "duration": 55,
    "start_time": "2024-09-24T05:07:30.299Z"
   },
   {
    "duration": 17,
    "start_time": "2024-09-24T05:07:30.355Z"
   },
   {
    "duration": 1392,
    "start_time": "2024-09-24T05:07:30.374Z"
   },
   {
    "duration": 5,
    "start_time": "2024-09-24T05:07:40.144Z"
   },
   {
    "duration": 6,
    "start_time": "2024-09-24T05:08:35.295Z"
   },
   {
    "duration": 5,
    "start_time": "2024-09-24T05:12:44.917Z"
   },
   {
    "duration": 9,
    "start_time": "2024-09-24T05:12:52.273Z"
   },
   {
    "duration": 5,
    "start_time": "2024-09-24T05:12:54.335Z"
   },
   {
    "duration": 9,
    "start_time": "2024-09-24T05:25:46.756Z"
   },
   {
    "duration": 424,
    "start_time": "2024-09-24T05:35:08.598Z"
   },
   {
    "duration": 396,
    "start_time": "2024-09-24T05:35:54.257Z"
   },
   {
    "duration": 444,
    "start_time": "2024-09-24T05:36:47.247Z"
   },
   {
    "duration": 4,
    "start_time": "2024-09-24T05:47:03.934Z"
   },
   {
    "duration": 190,
    "start_time": "2024-09-24T05:54:53.311Z"
   },
   {
    "duration": 7,
    "start_time": "2024-09-24T05:58:51.837Z"
   },
   {
    "duration": 50,
    "start_time": "2024-09-24T05:59:15.395Z"
   },
   {
    "duration": 35,
    "start_time": "2024-09-24T05:59:44.633Z"
   },
   {
    "duration": 37,
    "start_time": "2024-09-24T06:01:52.868Z"
   },
   {
    "duration": 26,
    "start_time": "2024-09-24T06:02:56.947Z"
   },
   {
    "duration": 41,
    "start_time": "2024-09-24T06:03:30.297Z"
   },
   {
    "duration": 17,
    "start_time": "2024-09-24T06:09:14.451Z"
   },
   {
    "duration": 17,
    "start_time": "2024-09-24T06:13:07.844Z"
   },
   {
    "duration": 215,
    "start_time": "2024-09-24T06:15:38.001Z"
   },
   {
    "duration": 11,
    "start_time": "2024-09-24T06:24:58.533Z"
   },
   {
    "duration": 209,
    "start_time": "2024-09-24T06:25:00.467Z"
   },
   {
    "duration": 9,
    "start_time": "2024-09-24T06:25:45.654Z"
   },
   {
    "duration": 209,
    "start_time": "2024-09-24T06:25:47.303Z"
   },
   {
    "duration": 16,
    "start_time": "2024-09-24T06:26:28.854Z"
   },
   {
    "duration": 11,
    "start_time": "2024-09-24T06:29:07.835Z"
   },
   {
    "duration": 22,
    "start_time": "2024-09-24T06:33:21.481Z"
   },
   {
    "duration": 58,
    "start_time": "2024-09-24T06:34:26.999Z"
   },
   {
    "duration": 31,
    "start_time": "2024-09-24T06:35:03.821Z"
   },
   {
    "duration": 564,
    "start_time": "2024-09-24T06:35:40.131Z"
   },
   {
    "duration": 3,
    "start_time": "2024-09-24T06:36:23.781Z"
   },
   {
    "duration": 78,
    "start_time": "2024-09-24T06:36:51.320Z"
   },
   {
    "duration": 70,
    "start_time": "2024-09-24T06:37:06.496Z"
   },
   {
    "duration": 77,
    "start_time": "2024-09-24T06:37:40.111Z"
   },
   {
    "duration": 9,
    "start_time": "2024-09-24T06:37:53.237Z"
   },
   {
    "duration": 10,
    "start_time": "2024-09-24T06:38:05.415Z"
   },
   {
    "duration": 10,
    "start_time": "2024-09-24T06:38:41.581Z"
   },
   {
    "duration": 10,
    "start_time": "2024-09-24T06:39:08.861Z"
   },
   {
    "duration": 10,
    "start_time": "2024-09-24T06:39:12.493Z"
   },
   {
    "duration": 98,
    "start_time": "2024-09-24T06:39:25.975Z"
   },
   {
    "duration": 5,
    "start_time": "2024-09-24T06:39:42.652Z"
   },
   {
    "duration": 4,
    "start_time": "2024-09-24T06:39:56.541Z"
   },
   {
    "duration": 11,
    "start_time": "2024-09-24T06:40:05.713Z"
   },
   {
    "duration": 5,
    "start_time": "2024-09-24T06:40:36.023Z"
   },
   {
    "duration": 11,
    "start_time": "2024-09-24T06:40:41.231Z"
   },
   {
    "duration": 12,
    "start_time": "2024-09-24T06:41:22.893Z"
   },
   {
    "duration": 236,
    "start_time": "2024-09-24T06:41:25.620Z"
   },
   {
    "duration": 4,
    "start_time": "2024-09-24T06:46:54.600Z"
   },
   {
    "duration": 70,
    "start_time": "2024-09-24T06:47:07.091Z"
   },
   {
    "duration": 24,
    "start_time": "2024-09-24T06:47:18.401Z"
   },
   {
    "duration": 16,
    "start_time": "2024-09-24T06:49:03.996Z"
   },
   {
    "duration": 84,
    "start_time": "2024-09-24T06:53:24.002Z"
   },
   {
    "duration": 31,
    "start_time": "2024-09-24T06:53:46.129Z"
   },
   {
    "duration": 10,
    "start_time": "2024-09-24T06:55:15.955Z"
   },
   {
    "duration": 4,
    "start_time": "2024-09-24T07:12:36.087Z"
   },
   {
    "duration": 17,
    "start_time": "2024-09-24T07:26:29.369Z"
   },
   {
    "duration": 11,
    "start_time": "2024-09-24T07:27:15.180Z"
   },
   {
    "duration": 16,
    "start_time": "2024-09-24T07:30:27.201Z"
   },
   {
    "duration": 4,
    "start_time": "2024-09-24T07:32:36.920Z"
   },
   {
    "duration": 14,
    "start_time": "2024-09-24T07:32:44.768Z"
   },
   {
    "duration": 10,
    "start_time": "2024-09-24T07:33:22.334Z"
   },
   {
    "duration": 74,
    "start_time": "2024-09-24T07:33:42.978Z"
   },
   {
    "duration": 12,
    "start_time": "2024-09-24T07:33:55.545Z"
   },
   {
    "duration": 14,
    "start_time": "2024-09-24T07:34:59.262Z"
   },
   {
    "duration": 100,
    "start_time": "2024-09-24T07:35:27.267Z"
   },
   {
    "duration": 10,
    "start_time": "2024-09-24T07:35:41.867Z"
   },
   {
    "duration": 353,
    "start_time": "2024-09-24T07:35:46.780Z"
   },
   {
    "duration": 4,
    "start_time": "2024-09-24T07:35:49.705Z"
   },
   {
    "duration": 24,
    "start_time": "2024-09-24T07:35:54.228Z"
   },
   {
    "duration": 5,
    "start_time": "2024-09-24T07:35:55.207Z"
   },
   {
    "duration": 6,
    "start_time": "2024-09-24T07:36:59.990Z"
   },
   {
    "duration": 12,
    "start_time": "2024-09-24T07:37:39.337Z"
   },
   {
    "duration": 212,
    "start_time": "2024-09-24T07:39:37.821Z"
   },
   {
    "duration": 12,
    "start_time": "2024-09-24T07:43:05.136Z"
   },
   {
    "duration": 10,
    "start_time": "2024-09-24T07:43:18.941Z"
   },
   {
    "duration": 11,
    "start_time": "2024-09-24T07:43:45.902Z"
   },
   {
    "duration": 11,
    "start_time": "2024-09-24T07:44:01.297Z"
   },
   {
    "duration": 11,
    "start_time": "2024-09-24T07:45:33.088Z"
   },
   {
    "duration": 11,
    "start_time": "2024-09-24T07:45:43.592Z"
   },
   {
    "duration": 13,
    "start_time": "2024-09-24T07:45:56.545Z"
   },
   {
    "duration": 11,
    "start_time": "2024-09-24T07:47:51.882Z"
   },
   {
    "duration": 14,
    "start_time": "2024-09-24T07:48:26.535Z"
   },
   {
    "duration": 11,
    "start_time": "2024-09-24T07:48:41.516Z"
   },
   {
    "duration": 223,
    "start_time": "2024-09-24T07:50:20.233Z"
   },
   {
    "duration": 97,
    "start_time": "2024-09-24T07:51:31.981Z"
   },
   {
    "duration": 24,
    "start_time": "2024-09-24T07:51:32.080Z"
   },
   {
    "duration": 41,
    "start_time": "2024-09-24T07:51:32.105Z"
   },
   {
    "duration": 32,
    "start_time": "2024-09-24T07:51:32.148Z"
   },
   {
    "duration": 76,
    "start_time": "2024-09-24T07:51:32.183Z"
   },
   {
    "duration": 21,
    "start_time": "2024-09-24T07:51:32.291Z"
   },
   {
    "duration": 2034,
    "start_time": "2024-09-24T07:51:32.504Z"
   },
   {
    "duration": 10,
    "start_time": "2024-09-24T07:51:34.540Z"
   },
   {
    "duration": 28,
    "start_time": "2024-09-24T07:51:34.552Z"
   },
   {
    "duration": 10,
    "start_time": "2024-09-24T07:51:34.582Z"
   },
   {
    "duration": 6,
    "start_time": "2024-09-24T07:51:34.866Z"
   },
   {
    "duration": 12,
    "start_time": "2024-09-24T07:51:35.076Z"
   },
   {
    "duration": 3,
    "start_time": "2024-09-24T07:51:35.277Z"
   },
   {
    "duration": 125,
    "start_time": "2024-09-24T07:51:35.887Z"
   },
   {
    "duration": 16,
    "start_time": "2024-09-24T07:51:36.329Z"
   },
   {
    "duration": 6,
    "start_time": "2024-09-24T07:51:36.530Z"
   },
   {
    "duration": 4,
    "start_time": "2024-09-24T07:51:36.962Z"
   },
   {
    "duration": 22,
    "start_time": "2024-09-24T07:51:37.612Z"
   },
   {
    "duration": 10,
    "start_time": "2024-09-24T07:51:38.266Z"
   },
   {
    "duration": 5,
    "start_time": "2024-09-24T07:51:38.707Z"
   },
   {
    "duration": 7,
    "start_time": "2024-09-24T07:51:39.115Z"
   },
   {
    "duration": 27,
    "start_time": "2024-09-24T07:51:39.304Z"
   },
   {
    "duration": 8,
    "start_time": "2024-09-24T07:51:39.699Z"
   },
   {
    "duration": 7,
    "start_time": "2024-09-24T07:51:40.111Z"
   },
   {
    "duration": 4,
    "start_time": "2024-09-24T07:51:40.311Z"
   },
   {
    "duration": 7,
    "start_time": "2024-09-24T07:51:40.750Z"
   },
   {
    "duration": 4,
    "start_time": "2024-09-24T07:51:40.954Z"
   },
   {
    "duration": 20,
    "start_time": "2024-09-24T07:51:41.385Z"
   },
   {
    "duration": 161,
    "start_time": "2024-09-24T07:51:42.016Z"
   },
   {
    "duration": 10,
    "start_time": "2024-09-24T07:51:42.661Z"
   },
   {
    "duration": 5,
    "start_time": "2024-09-24T07:51:43.097Z"
   },
   {
    "duration": 10,
    "start_time": "2024-09-24T07:51:43.536Z"
   },
   {
    "duration": 15,
    "start_time": "2024-09-24T07:51:43.991Z"
   },
   {
    "duration": 31,
    "start_time": "2024-09-24T07:51:44.919Z"
   },
   {
    "duration": 13,
    "start_time": "2024-09-24T07:51:45.159Z"
   },
   {
    "duration": 1354,
    "start_time": "2024-09-24T07:51:45.619Z"
   },
   {
    "duration": 4,
    "start_time": "2024-09-24T07:51:46.975Z"
   },
   {
    "duration": 6,
    "start_time": "2024-09-24T07:51:47.939Z"
   },
   {
    "duration": 9,
    "start_time": "2024-09-24T07:51:48.405Z"
   },
   {
    "duration": 380,
    "start_time": "2024-09-24T07:51:48.848Z"
   },
   {
    "duration": 4,
    "start_time": "2024-09-24T07:51:49.270Z"
   },
   {
    "duration": 189,
    "start_time": "2024-09-24T07:51:50.871Z"
   },
   {
    "duration": 18,
    "start_time": "2024-09-24T07:51:53.879Z"
   },
   {
    "duration": 10,
    "start_time": "2024-09-24T07:51:55.578Z"
   },
   {
    "duration": 215,
    "start_time": "2024-09-24T07:51:56.907Z"
   },
   {
    "duration": 4,
    "start_time": "2024-09-24T07:52:01.613Z"
   },
   {
    "duration": 23,
    "start_time": "2024-09-24T07:52:03.129Z"
   },
   {
    "duration": 15,
    "start_time": "2024-09-24T07:52:03.726Z"
   },
   {
    "duration": 188,
    "start_time": "2024-09-24T07:52:05.019Z"
   },
   {
    "duration": 11,
    "start_time": "2024-09-24T07:52:08.199Z"
   },
   {
    "duration": 220,
    "start_time": "2024-09-24T07:52:13.321Z"
   },
   {
    "duration": 319,
    "start_time": "2024-09-24T07:54:11.933Z"
   },
   {
    "duration": 601,
    "start_time": "2024-09-24T07:54:43.221Z"
   },
   {
    "duration": 5,
    "start_time": "2024-09-24T07:54:57.429Z"
   },
   {
    "duration": 4,
    "start_time": "2024-09-24T07:55:03.570Z"
   },
   {
    "duration": 4,
    "start_time": "2024-09-24T07:55:45.388Z"
   },
   {
    "duration": 4,
    "start_time": "2024-09-24T07:57:40.144Z"
   },
   {
    "duration": 5,
    "start_time": "2024-09-24T07:57:47.520Z"
   },
   {
    "duration": 4,
    "start_time": "2024-09-24T07:59:09.789Z"
   },
   {
    "duration": 9,
    "start_time": "2024-09-24T07:59:42.960Z"
   },
   {
    "duration": 352,
    "start_time": "2024-09-24T07:59:45.304Z"
   },
   {
    "duration": 219,
    "start_time": "2024-09-24T08:00:15.225Z"
   },
   {
    "duration": 219,
    "start_time": "2024-09-24T08:00:57.733Z"
   },
   {
    "duration": 203,
    "start_time": "2024-09-24T08:01:16.235Z"
   },
   {
    "duration": 99,
    "start_time": "2024-09-24T08:04:43.556Z"
   },
   {
    "duration": 11,
    "start_time": "2024-09-24T08:04:59.220Z"
   },
   {
    "duration": 420,
    "start_time": "2024-09-24T08:05:35.637Z"
   },
   {
    "duration": 11,
    "start_time": "2024-09-24T08:05:49.683Z"
   },
   {
    "duration": 212,
    "start_time": "2024-09-24T08:06:18.005Z"
   },
   {
    "duration": 145,
    "start_time": "2024-09-24T08:06:42.544Z"
   },
   {
    "duration": 12,
    "start_time": "2024-09-24T08:08:46.954Z"
   },
   {
    "duration": 11,
    "start_time": "2024-09-24T08:09:11.095Z"
   },
   {
    "duration": 177,
    "start_time": "2024-09-24T08:12:52.945Z"
   },
   {
    "duration": 15,
    "start_time": "2024-09-24T08:16:51.301Z"
   },
   {
    "duration": 270,
    "start_time": "2024-09-24T08:31:37.822Z"
   },
   {
    "duration": 155,
    "start_time": "2024-09-24T08:33:42.720Z"
   },
   {
    "duration": 151,
    "start_time": "2024-09-24T08:33:53.544Z"
   },
   {
    "duration": 134,
    "start_time": "2024-09-24T08:34:04.576Z"
   },
   {
    "duration": 145,
    "start_time": "2024-09-24T08:34:08.902Z"
   },
   {
    "duration": 129,
    "start_time": "2024-09-24T08:34:14.915Z"
   },
   {
    "duration": 129,
    "start_time": "2024-09-24T08:34:28.005Z"
   },
   {
    "duration": 144,
    "start_time": "2024-09-24T08:34:42.354Z"
   },
   {
    "duration": 138,
    "start_time": "2024-09-24T08:34:51.474Z"
   },
   {
    "duration": 179,
    "start_time": "2024-09-24T08:36:31.545Z"
   },
   {
    "duration": 228,
    "start_time": "2024-09-24T08:40:09.711Z"
   },
   {
    "duration": 316,
    "start_time": "2024-09-24T08:42:40.868Z"
   },
   {
    "duration": 1551,
    "start_time": "2024-09-24T11:47:07.129Z"
   },
   {
    "duration": 29,
    "start_time": "2024-09-24T11:47:08.682Z"
   },
   {
    "duration": 22,
    "start_time": "2024-09-24T11:47:09.138Z"
   },
   {
    "duration": 24,
    "start_time": "2024-09-24T11:47:09.596Z"
   },
   {
    "duration": 63,
    "start_time": "2024-09-24T11:47:10.036Z"
   },
   {
    "duration": 36,
    "start_time": "2024-09-24T11:47:11.006Z"
   },
   {
    "duration": 1983,
    "start_time": "2024-09-24T11:47:11.294Z"
   },
   {
    "duration": 9,
    "start_time": "2024-09-24T11:47:13.279Z"
   },
   {
    "duration": 47,
    "start_time": "2024-09-24T11:47:13.290Z"
   },
   {
    "duration": 8,
    "start_time": "2024-09-24T11:47:14.543Z"
   },
   {
    "duration": 5,
    "start_time": "2024-09-24T11:47:15.547Z"
   },
   {
    "duration": 13,
    "start_time": "2024-09-24T11:47:15.745Z"
   },
   {
    "duration": 4,
    "start_time": "2024-09-24T11:47:15.936Z"
   },
   {
    "duration": 141,
    "start_time": "2024-09-24T11:47:16.491Z"
   },
   {
    "duration": 27,
    "start_time": "2024-09-24T11:47:17.285Z"
   },
   {
    "duration": 4,
    "start_time": "2024-09-24T11:47:17.566Z"
   },
   {
    "duration": 4,
    "start_time": "2024-09-24T11:47:17.997Z"
   },
   {
    "duration": 31,
    "start_time": "2024-09-24T11:47:18.629Z"
   },
   {
    "duration": 9,
    "start_time": "2024-09-24T11:47:19.257Z"
   },
   {
    "duration": 4,
    "start_time": "2024-09-24T11:47:19.651Z"
   },
   {
    "duration": 7,
    "start_time": "2024-09-24T11:47:20.064Z"
   },
   {
    "duration": 24,
    "start_time": "2024-09-24T11:47:20.274Z"
   },
   {
    "duration": 16,
    "start_time": "2024-09-24T11:47:20.717Z"
   },
   {
    "duration": 6,
    "start_time": "2024-09-24T11:47:21.143Z"
   },
   {
    "duration": 5,
    "start_time": "2024-09-24T11:47:21.334Z"
   },
   {
    "duration": 5,
    "start_time": "2024-09-24T11:47:21.751Z"
   },
   {
    "duration": 4,
    "start_time": "2024-09-24T11:47:21.954Z"
   },
   {
    "duration": 43,
    "start_time": "2024-09-24T11:47:22.394Z"
   },
   {
    "duration": 169,
    "start_time": "2024-09-24T11:47:23.020Z"
   },
   {
    "duration": 8,
    "start_time": "2024-09-24T11:47:23.647Z"
   },
   {
    "duration": 5,
    "start_time": "2024-09-24T11:47:24.082Z"
   },
   {
    "duration": 17,
    "start_time": "2024-09-24T11:47:24.503Z"
   },
   {
    "duration": 15,
    "start_time": "2024-09-24T11:47:24.931Z"
   },
   {
    "duration": 29,
    "start_time": "2024-09-24T11:47:25.825Z"
   },
   {
    "duration": 12,
    "start_time": "2024-09-24T11:47:26.055Z"
   },
   {
    "duration": 1224,
    "start_time": "2024-09-24T11:47:26.535Z"
   },
   {
    "duration": 3,
    "start_time": "2024-09-24T11:47:27.761Z"
   },
   {
    "duration": 5,
    "start_time": "2024-09-24T11:47:28.339Z"
   },
   {
    "duration": 8,
    "start_time": "2024-09-24T11:47:28.889Z"
   },
   {
    "duration": 374,
    "start_time": "2024-09-24T11:47:29.346Z"
   },
   {
    "duration": 5,
    "start_time": "2024-09-24T11:47:29.833Z"
   },
   {
    "duration": 197,
    "start_time": "2024-09-24T11:47:30.573Z"
   },
   {
    "duration": 16,
    "start_time": "2024-09-24T11:47:31.084Z"
   },
   {
    "duration": 213,
    "start_time": "2024-09-24T11:47:41.229Z"
   },
   {
    "duration": 233,
    "start_time": "2024-09-24T11:47:49.233Z"
   },
   {
    "duration": 3,
    "start_time": "2024-09-24T11:47:55.585Z"
   },
   {
    "duration": 21,
    "start_time": "2024-09-24T11:48:03.379Z"
   },
   {
    "duration": 316,
    "start_time": "2024-09-24T11:48:08.815Z"
   },
   {
    "duration": 213,
    "start_time": "2024-09-24T11:48:43.585Z"
   },
   {
    "duration": 192,
    "start_time": "2024-09-24T11:48:52.145Z"
   },
   {
    "duration": 10,
    "start_time": "2024-09-24T11:49:00.121Z"
   },
   {
    "duration": 207,
    "start_time": "2024-09-24T11:49:02.849Z"
   },
   {
    "duration": 8,
    "start_time": "2024-09-24T11:49:06.798Z"
   },
   {
    "duration": 153,
    "start_time": "2024-09-24T11:49:10.053Z"
   },
   {
    "duration": 171,
    "start_time": "2024-09-24T11:49:20.759Z"
   },
   {
    "duration": 141,
    "start_time": "2024-09-24T11:49:43.786Z"
   },
   {
    "duration": 124,
    "start_time": "2024-09-24T11:49:59.319Z"
   },
   {
    "duration": 155,
    "start_time": "2024-09-24T11:50:01.723Z"
   },
   {
    "duration": 283,
    "start_time": "2024-09-24T11:51:29.455Z"
   },
   {
    "duration": 189,
    "start_time": "2024-09-24T11:54:07.447Z"
   },
   {
    "duration": 188,
    "start_time": "2024-09-24T11:56:08.588Z"
   },
   {
    "duration": 207,
    "start_time": "2024-09-24T12:05:41.417Z"
   },
   {
    "duration": 139,
    "start_time": "2024-09-24T12:06:02.433Z"
   },
   {
    "duration": 140,
    "start_time": "2024-09-24T12:06:19.752Z"
   },
   {
    "duration": 194,
    "start_time": "2024-09-24T12:06:29.680Z"
   },
   {
    "duration": 7,
    "start_time": "2024-09-24T12:09:13.775Z"
   },
   {
    "duration": 9,
    "start_time": "2024-09-24T12:09:21.214Z"
   },
   {
    "duration": 8,
    "start_time": "2024-09-24T12:09:29.815Z"
   },
   {
    "duration": 5,
    "start_time": "2024-09-24T12:10:32.381Z"
   },
   {
    "duration": 6,
    "start_time": "2024-09-24T12:10:49.337Z"
   },
   {
    "duration": 7,
    "start_time": "2024-09-24T12:10:55.457Z"
   },
   {
    "duration": 6,
    "start_time": "2024-09-24T12:19:30.201Z"
   },
   {
    "duration": 205,
    "start_time": "2024-09-24T12:19:50.162Z"
   },
   {
    "duration": 291,
    "start_time": "2024-09-24T12:20:37.666Z"
   },
   {
    "duration": 13,
    "start_time": "2024-09-24T12:33:41.665Z"
   },
   {
    "duration": 199,
    "start_time": "2024-09-24T12:33:57.786Z"
   },
   {
    "duration": 5,
    "start_time": "2024-09-24T12:41:04.356Z"
   },
   {
    "duration": 3,
    "start_time": "2024-09-24T12:41:54.546Z"
   },
   {
    "duration": 15,
    "start_time": "2024-09-24T12:42:19.971Z"
   },
   {
    "duration": 15,
    "start_time": "2024-09-24T12:50:02.797Z"
   },
   {
    "duration": 2143,
    "start_time": "2024-09-24T13:06:48.258Z"
   },
   {
    "duration": 2286,
    "start_time": "2024-09-24T13:07:31.485Z"
   },
   {
    "duration": 1016,
    "start_time": "2024-09-24T13:08:35.822Z"
   },
   {
    "duration": 995,
    "start_time": "2024-09-24T13:08:53.134Z"
   },
   {
    "duration": 997,
    "start_time": "2024-09-24T13:09:20.402Z"
   },
   {
    "duration": 1151,
    "start_time": "2024-09-24T13:09:48.026Z"
   },
   {
    "duration": 1101,
    "start_time": "2024-09-24T13:09:54.660Z"
   },
   {
    "duration": 1258,
    "start_time": "2024-09-24T13:10:20.145Z"
   },
   {
    "duration": 1759,
    "start_time": "2024-09-25T06:00:15.002Z"
   },
   {
    "duration": 32,
    "start_time": "2024-09-25T06:00:16.764Z"
   },
   {
    "duration": 42,
    "start_time": "2024-09-25T06:00:16.798Z"
   },
   {
    "duration": 17,
    "start_time": "2024-09-25T06:00:16.843Z"
   },
   {
    "duration": 84,
    "start_time": "2024-09-25T06:00:16.862Z"
   },
   {
    "duration": 40,
    "start_time": "2024-09-25T06:00:16.948Z"
   },
   {
    "duration": 2046,
    "start_time": "2024-09-25T06:00:16.990Z"
   },
   {
    "duration": 9,
    "start_time": "2024-09-25T06:00:19.038Z"
   },
   {
    "duration": 11,
    "start_time": "2024-09-25T06:00:19.049Z"
   },
   {
    "duration": 12,
    "start_time": "2024-09-25T06:00:19.063Z"
   },
   {
    "duration": 5,
    "start_time": "2024-09-25T06:00:19.077Z"
   },
   {
    "duration": 15,
    "start_time": "2024-09-25T06:00:19.083Z"
   },
   {
    "duration": 4,
    "start_time": "2024-09-25T06:00:19.099Z"
   },
   {
    "duration": 151,
    "start_time": "2024-09-25T06:00:19.104Z"
   },
   {
    "duration": 25,
    "start_time": "2024-09-25T06:00:19.257Z"
   },
   {
    "duration": 4,
    "start_time": "2024-09-25T06:00:19.284Z"
   },
   {
    "duration": 4,
    "start_time": "2024-09-25T06:00:19.290Z"
   },
   {
    "duration": 21,
    "start_time": "2024-09-25T06:00:19.296Z"
   },
   {
    "duration": 8,
    "start_time": "2024-09-25T06:00:19.319Z"
   },
   {
    "duration": 4,
    "start_time": "2024-09-25T06:00:19.328Z"
   },
   {
    "duration": 49,
    "start_time": "2024-09-25T06:00:19.334Z"
   },
   {
    "duration": 28,
    "start_time": "2024-09-25T06:00:19.385Z"
   },
   {
    "duration": 8,
    "start_time": "2024-09-25T06:00:19.415Z"
   },
   {
    "duration": 5,
    "start_time": "2024-09-25T06:00:19.425Z"
   },
   {
    "duration": 5,
    "start_time": "2024-09-25T06:00:19.432Z"
   },
   {
    "duration": 40,
    "start_time": "2024-09-25T06:00:19.438Z"
   },
   {
    "duration": 5,
    "start_time": "2024-09-25T06:00:19.479Z"
   },
   {
    "duration": 18,
    "start_time": "2024-09-25T06:00:19.488Z"
   },
   {
    "duration": 187,
    "start_time": "2024-09-25T06:00:19.508Z"
   },
   {
    "duration": 9,
    "start_time": "2024-09-25T06:00:19.696Z"
   },
   {
    "duration": 8,
    "start_time": "2024-09-25T06:00:19.707Z"
   },
   {
    "duration": 9,
    "start_time": "2024-09-25T06:00:19.716Z"
   },
   {
    "duration": 14,
    "start_time": "2024-09-25T06:00:19.726Z"
   },
   {
    "duration": 59,
    "start_time": "2024-09-25T06:00:19.741Z"
   },
   {
    "duration": 13,
    "start_time": "2024-09-25T06:00:19.802Z"
   },
   {
    "duration": 1397,
    "start_time": "2024-09-25T06:00:19.817Z"
   },
   {
    "duration": 3,
    "start_time": "2024-09-25T06:00:21.216Z"
   },
   {
    "duration": 51,
    "start_time": "2024-09-25T06:00:21.220Z"
   },
   {
    "duration": 13,
    "start_time": "2024-09-25T06:00:21.272Z"
   },
   {
    "duration": 355,
    "start_time": "2024-09-25T06:00:21.286Z"
   },
   {
    "duration": 4,
    "start_time": "2024-09-25T06:00:21.642Z"
   },
   {
    "duration": 199,
    "start_time": "2024-09-25T06:00:21.648Z"
   },
   {
    "duration": 28,
    "start_time": "2024-09-25T06:00:21.848Z"
   },
   {
    "duration": 220,
    "start_time": "2024-09-25T06:00:21.878Z"
   },
   {
    "duration": 241,
    "start_time": "2024-09-25T06:00:22.099Z"
   },
   {
    "duration": 4,
    "start_time": "2024-09-25T06:00:22.342Z"
   },
   {
    "duration": 38,
    "start_time": "2024-09-25T06:00:22.348Z"
   },
   {
    "duration": 344,
    "start_time": "2024-09-25T06:00:22.388Z"
   },
   {
    "duration": 202,
    "start_time": "2024-09-25T06:00:22.733Z"
   },
   {
    "duration": 218,
    "start_time": "2024-09-25T06:00:22.936Z"
   },
   {
    "duration": 8,
    "start_time": "2024-09-25T06:00:23.155Z"
   },
   {
    "duration": 239,
    "start_time": "2024-09-25T06:00:23.165Z"
   },
   {
    "duration": 10,
    "start_time": "2024-09-25T06:00:23.405Z"
   },
   {
    "duration": 173,
    "start_time": "2024-09-25T06:00:23.417Z"
   },
   {
    "duration": 186,
    "start_time": "2024-09-25T06:00:23.592Z"
   },
   {
    "duration": 150,
    "start_time": "2024-09-25T06:00:23.779Z"
   },
   {
    "duration": 188,
    "start_time": "2024-09-25T06:00:23.931Z"
   },
   {
    "duration": 196,
    "start_time": "2024-09-25T06:00:24.120Z"
   },
   {
    "duration": 312,
    "start_time": "2024-09-25T06:00:24.317Z"
   },
   {
    "duration": 227,
    "start_time": "2024-09-25T06:00:24.631Z"
   },
   {
    "duration": 25,
    "start_time": "2024-09-25T06:00:24.859Z"
   },
   {
    "duration": 1395,
    "start_time": "2024-09-25T06:00:24.886Z"
   },
   {
    "duration": 2,
    "start_time": "2024-09-25T06:00:26.283Z"
   },
   {
    "duration": 42890,
    "start_time": "2024-09-25T06:02:32.156Z"
   },
   {
    "duration": 56,
    "start_time": "2024-09-25T06:11:37.566Z"
   },
   {
    "duration": 245,
    "start_time": "2024-09-25T06:11:45.072Z"
   },
   {
    "duration": 3671,
    "start_time": "2024-09-25T06:13:21.369Z"
   },
   {
    "duration": 347,
    "start_time": "2024-09-25T06:23:32.417Z"
   },
   {
    "duration": 871,
    "start_time": "2024-09-25T06:23:47.486Z"
   },
   {
    "duration": 26,
    "start_time": "2024-09-25T06:27:29.563Z"
   },
   {
    "duration": 19,
    "start_time": "2024-09-25T06:33:07.469Z"
   },
   {
    "duration": 9,
    "start_time": "2024-09-25T06:33:59.568Z"
   },
   {
    "duration": 2189,
    "start_time": "2024-09-25T06:35:16.727Z"
   },
   {
    "duration": 1832,
    "start_time": "2024-09-25T06:35:40.228Z"
   },
   {
    "duration": 1847,
    "start_time": "2024-09-25T06:35:54.169Z"
   },
   {
    "duration": 9,
    "start_time": "2024-09-25T06:36:21.136Z"
   },
   {
    "duration": 4,
    "start_time": "2024-09-25T06:40:58.242Z"
   },
   {
    "duration": 3,
    "start_time": "2024-09-25T06:41:08.450Z"
   },
   {
    "duration": 12,
    "start_time": "2024-09-25T06:41:46.719Z"
   },
   {
    "duration": 17,
    "start_time": "2024-09-25T06:42:32.437Z"
   },
   {
    "duration": 13,
    "start_time": "2024-09-25T06:42:40.667Z"
   },
   {
    "duration": 989,
    "start_time": "2024-09-25T06:45:51.537Z"
   },
   {
    "duration": 209,
    "start_time": "2024-09-25T06:46:08.855Z"
   },
   {
    "duration": 204,
    "start_time": "2024-09-25T06:46:34.718Z"
   },
   {
    "duration": 749,
    "start_time": "2024-09-25T06:47:06.958Z"
   },
   {
    "duration": 412,
    "start_time": "2024-09-25T06:47:23.038Z"
   },
   {
    "duration": 1342,
    "start_time": "2024-09-25T06:49:15.886Z"
   },
   {
    "duration": 305,
    "start_time": "2024-09-25T06:49:27.235Z"
   },
   {
    "duration": 477,
    "start_time": "2024-09-25T06:49:52.720Z"
   },
   {
    "duration": 376,
    "start_time": "2024-09-25T06:50:01.356Z"
   },
   {
    "duration": 459,
    "start_time": "2024-09-25T06:50:21.188Z"
   },
   {
    "duration": 577,
    "start_time": "2024-09-25T06:51:13.117Z"
   },
   {
    "duration": 600,
    "start_time": "2024-09-25T06:53:35.626Z"
   },
   {
    "duration": 482,
    "start_time": "2024-09-25T06:54:10.246Z"
   },
   {
    "duration": 7,
    "start_time": "2024-09-25T06:54:45.088Z"
   },
   {
    "duration": 359,
    "start_time": "2024-09-25T06:55:56.723Z"
   },
   {
    "duration": 365,
    "start_time": "2024-09-25T06:57:05.988Z"
   },
   {
    "duration": 364,
    "start_time": "2024-09-25T06:58:18.668Z"
   },
   {
    "duration": 7,
    "start_time": "2024-09-25T07:02:59.507Z"
   },
   {
    "duration": 7,
    "start_time": "2024-09-25T07:03:10.577Z"
   },
   {
    "duration": 5,
    "start_time": "2024-09-25T07:06:55.957Z"
   },
   {
    "duration": 302,
    "start_time": "2024-09-25T07:07:06.535Z"
   },
   {
    "duration": 3819,
    "start_time": "2024-09-25T07:07:31.718Z"
   },
   {
    "duration": 3866,
    "start_time": "2024-09-25T07:08:01.131Z"
   },
   {
    "duration": 3879,
    "start_time": "2024-09-25T07:08:12.661Z"
   },
   {
    "duration": 4033,
    "start_time": "2024-09-25T07:08:56.680Z"
   },
   {
    "duration": 3821,
    "start_time": "2024-09-25T07:09:26.290Z"
   },
   {
    "duration": 3918,
    "start_time": "2024-09-25T07:10:40.017Z"
   },
   {
    "duration": 362,
    "start_time": "2024-09-25T07:10:50.949Z"
   },
   {
    "duration": 166,
    "start_time": "2024-09-25T07:11:04.989Z"
   },
   {
    "duration": 474,
    "start_time": "2024-09-25T07:11:20.924Z"
   },
   {
    "duration": 697,
    "start_time": "2024-09-25T07:11:30.249Z"
   },
   {
    "duration": 1279,
    "start_time": "2024-09-25T07:11:45.815Z"
   },
   {
    "duration": 13,
    "start_time": "2024-09-25T07:19:17.270Z"
   },
   {
    "duration": 18,
    "start_time": "2024-09-25T07:20:06.638Z"
   },
   {
    "duration": 26,
    "start_time": "2024-09-25T07:20:46.774Z"
   },
   {
    "duration": 23,
    "start_time": "2024-09-25T07:20:53.635Z"
   },
   {
    "duration": 24,
    "start_time": "2024-09-25T07:21:41.715Z"
   },
   {
    "duration": 22,
    "start_time": "2024-09-25T07:26:24.509Z"
   },
   {
    "duration": 21,
    "start_time": "2024-09-25T07:26:33.487Z"
   },
   {
    "duration": 21,
    "start_time": "2024-09-25T07:33:01.552Z"
   },
   {
    "duration": 12,
    "start_time": "2024-09-25T07:33:43.589Z"
   },
   {
    "duration": 12,
    "start_time": "2024-09-25T07:34:15.028Z"
   },
   {
    "duration": 11,
    "start_time": "2024-09-25T07:35:15.885Z"
   },
   {
    "duration": 170,
    "start_time": "2024-09-25T07:37:16.314Z"
   },
   {
    "duration": 152,
    "start_time": "2024-09-25T07:37:41.667Z"
   },
   {
    "duration": 158,
    "start_time": "2024-09-25T07:40:25.820Z"
   },
   {
    "duration": 1608,
    "start_time": "2024-09-25T13:47:40.917Z"
   },
   {
    "duration": 29,
    "start_time": "2024-09-25T13:47:42.526Z"
   },
   {
    "duration": 24,
    "start_time": "2024-09-25T13:47:42.556Z"
   },
   {
    "duration": 15,
    "start_time": "2024-09-25T13:47:42.582Z"
   },
   {
    "duration": 80,
    "start_time": "2024-09-25T13:47:42.598Z"
   },
   {
    "duration": 35,
    "start_time": "2024-09-25T13:47:42.680Z"
   },
   {
    "duration": 1917,
    "start_time": "2024-09-25T13:47:42.716Z"
   },
   {
    "duration": 8,
    "start_time": "2024-09-25T13:47:44.635Z"
   },
   {
    "duration": 14,
    "start_time": "2024-09-25T13:47:44.645Z"
   },
   {
    "duration": 9,
    "start_time": "2024-09-25T13:47:44.661Z"
   },
   {
    "duration": 5,
    "start_time": "2024-09-25T13:47:44.671Z"
   },
   {
    "duration": 16,
    "start_time": "2024-09-25T13:47:44.678Z"
   },
   {
    "duration": 5,
    "start_time": "2024-09-25T13:47:44.695Z"
   },
   {
    "duration": 127,
    "start_time": "2024-09-25T13:47:44.701Z"
   },
   {
    "duration": 16,
    "start_time": "2024-09-25T13:47:44.830Z"
   },
   {
    "duration": 5,
    "start_time": "2024-09-25T13:47:44.847Z"
   },
   {
    "duration": 10,
    "start_time": "2024-09-25T13:47:44.853Z"
   },
   {
    "duration": 44,
    "start_time": "2024-09-25T13:47:44.865Z"
   },
   {
    "duration": 8,
    "start_time": "2024-09-25T13:47:44.911Z"
   },
   {
    "duration": 4,
    "start_time": "2024-09-25T13:47:44.920Z"
   },
   {
    "duration": 9,
    "start_time": "2024-09-25T13:47:44.926Z"
   },
   {
    "duration": 31,
    "start_time": "2024-09-25T13:47:44.936Z"
   },
   {
    "duration": 7,
    "start_time": "2024-09-25T13:47:44.969Z"
   },
   {
    "duration": 33,
    "start_time": "2024-09-25T13:47:44.977Z"
   },
   {
    "duration": 24,
    "start_time": "2024-09-25T13:47:45.012Z"
   },
   {
    "duration": 17,
    "start_time": "2024-09-25T13:47:45.038Z"
   },
   {
    "duration": 69,
    "start_time": "2024-09-25T13:47:45.057Z"
   },
   {
    "duration": 39,
    "start_time": "2024-09-25T13:47:45.130Z"
   },
   {
    "duration": 153,
    "start_time": "2024-09-25T13:47:45.171Z"
   },
   {
    "duration": 9,
    "start_time": "2024-09-25T13:47:45.326Z"
   },
   {
    "duration": 87,
    "start_time": "2024-09-25T13:47:45.337Z"
   },
   {
    "duration": 30,
    "start_time": "2024-09-25T13:47:45.426Z"
   },
   {
    "duration": 18,
    "start_time": "2024-09-25T13:47:45.458Z"
   },
   {
    "duration": 45,
    "start_time": "2024-09-25T13:47:45.478Z"
   },
   {
    "duration": 17,
    "start_time": "2024-09-25T13:47:45.525Z"
   },
   {
    "duration": 1298,
    "start_time": "2024-09-25T13:47:45.544Z"
   },
   {
    "duration": 3,
    "start_time": "2024-09-25T13:47:46.844Z"
   },
   {
    "duration": 11,
    "start_time": "2024-09-25T13:47:46.849Z"
   },
   {
    "duration": 46,
    "start_time": "2024-09-25T13:47:46.861Z"
   },
   {
    "duration": 341,
    "start_time": "2024-09-25T13:47:46.909Z"
   },
   {
    "duration": 4,
    "start_time": "2024-09-25T13:47:47.252Z"
   },
   {
    "duration": 197,
    "start_time": "2024-09-25T13:47:47.258Z"
   },
   {
    "duration": 16,
    "start_time": "2024-09-25T13:47:47.457Z"
   },
   {
    "duration": 208,
    "start_time": "2024-09-25T13:47:47.475Z"
   },
   {
    "duration": 219,
    "start_time": "2024-09-25T13:47:47.684Z"
   },
   {
    "duration": 5,
    "start_time": "2024-09-25T13:47:47.908Z"
   },
   {
    "duration": 65,
    "start_time": "2024-09-25T13:47:47.915Z"
   },
   {
    "duration": 312,
    "start_time": "2024-09-25T13:47:47.981Z"
   },
   {
    "duration": 191,
    "start_time": "2024-09-25T13:47:48.295Z"
   },
   {
    "duration": 214,
    "start_time": "2024-09-25T13:47:48.488Z"
   },
   {
    "duration": 11,
    "start_time": "2024-09-25T13:47:48.704Z"
   },
   {
    "duration": 213,
    "start_time": "2024-09-25T13:47:48.717Z"
   },
   {
    "duration": 9,
    "start_time": "2024-09-25T13:47:48.932Z"
   },
   {
    "duration": 162,
    "start_time": "2024-09-25T13:47:48.943Z"
   },
   {
    "duration": 180,
    "start_time": "2024-09-25T13:47:49.107Z"
   },
   {
    "duration": 135,
    "start_time": "2024-09-25T13:47:49.289Z"
   },
   {
    "duration": 177,
    "start_time": "2024-09-25T13:47:49.426Z"
   },
   {
    "duration": 178,
    "start_time": "2024-09-25T13:47:49.609Z"
   },
   {
    "duration": 294,
    "start_time": "2024-09-25T13:47:49.788Z"
   },
   {
    "duration": 204,
    "start_time": "2024-09-25T13:47:50.084Z"
   },
   {
    "duration": 19,
    "start_time": "2024-09-25T13:47:50.290Z"
   },
   {
    "duration": 21,
    "start_time": "2024-09-25T13:47:50.311Z"
   },
   {
    "duration": 535,
    "start_time": "2024-09-25T13:47:50.333Z"
   },
   {
    "duration": 5,
    "start_time": "2024-09-25T13:47:50.870Z"
   },
   {
    "duration": 798,
    "start_time": "2024-09-25T13:47:50.877Z"
   },
   {
    "duration": 19,
    "start_time": "2024-09-25T13:47:51.676Z"
   },
   {
    "duration": 154,
    "start_time": "2024-09-25T13:47:51.696Z"
   },
   {
    "duration": 6,
    "start_time": "2024-09-25T14:15:42.094Z"
   },
   {
    "duration": 75,
    "start_time": "2024-09-25T14:19:03.121Z"
   },
   {
    "duration": 1161,
    "start_time": "2024-09-25T14:19:15.353Z"
   },
   {
    "duration": 28,
    "start_time": "2024-09-25T14:19:16.516Z"
   },
   {
    "duration": 24,
    "start_time": "2024-09-25T14:19:16.546Z"
   },
   {
    "duration": 28,
    "start_time": "2024-09-25T14:19:16.571Z"
   },
   {
    "duration": 72,
    "start_time": "2024-09-25T14:19:16.601Z"
   },
   {
    "duration": 35,
    "start_time": "2024-09-25T14:19:16.674Z"
   },
   {
    "duration": 1883,
    "start_time": "2024-09-25T14:19:16.711Z"
   },
   {
    "duration": 9,
    "start_time": "2024-09-25T14:19:18.595Z"
   },
   {
    "duration": 12,
    "start_time": "2024-09-25T14:19:18.605Z"
   },
   {
    "duration": 10,
    "start_time": "2024-09-25T14:19:18.618Z"
   },
   {
    "duration": 4,
    "start_time": "2024-09-25T14:19:18.629Z"
   },
   {
    "duration": 12,
    "start_time": "2024-09-25T14:19:18.635Z"
   },
   {
    "duration": 4,
    "start_time": "2024-09-25T14:19:18.648Z"
   },
   {
    "duration": 142,
    "start_time": "2024-09-25T14:19:18.654Z"
   },
   {
    "duration": 21,
    "start_time": "2024-09-25T14:19:18.797Z"
   },
   {
    "duration": 4,
    "start_time": "2024-09-25T14:19:18.819Z"
   },
   {
    "duration": 5,
    "start_time": "2024-09-25T14:19:18.825Z"
   },
   {
    "duration": 22,
    "start_time": "2024-09-25T14:19:18.831Z"
   },
   {
    "duration": 8,
    "start_time": "2024-09-25T14:19:18.855Z"
   },
   {
    "duration": 6,
    "start_time": "2024-09-25T14:19:18.864Z"
   },
   {
    "duration": 41,
    "start_time": "2024-09-25T14:19:18.872Z"
   },
   {
    "duration": 27,
    "start_time": "2024-09-25T14:19:18.914Z"
   },
   {
    "duration": 6,
    "start_time": "2024-09-25T14:19:18.943Z"
   },
   {
    "duration": 13,
    "start_time": "2024-09-25T14:19:18.951Z"
   },
   {
    "duration": 4,
    "start_time": "2024-09-25T14:19:18.966Z"
   },
   {
    "duration": 7,
    "start_time": "2024-09-25T14:19:18.971Z"
   },
   {
    "duration": 6,
    "start_time": "2024-09-25T14:19:18.980Z"
   },
   {
    "duration": 37,
    "start_time": "2024-09-25T14:19:18.987Z"
   },
   {
    "duration": 158,
    "start_time": "2024-09-25T14:19:19.026Z"
   },
   {
    "duration": 8,
    "start_time": "2024-09-25T14:19:19.185Z"
   },
   {
    "duration": 15,
    "start_time": "2024-09-25T14:19:19.195Z"
   },
   {
    "duration": 9,
    "start_time": "2024-09-25T14:19:19.212Z"
   },
   {
    "duration": 13,
    "start_time": "2024-09-25T14:19:19.223Z"
   },
   {
    "duration": 29,
    "start_time": "2024-09-25T14:19:19.237Z"
   },
   {
    "duration": 12,
    "start_time": "2024-09-25T14:19:19.267Z"
   },
   {
    "duration": 1301,
    "start_time": "2024-09-25T14:19:19.280Z"
   },
   {
    "duration": 4,
    "start_time": "2024-09-25T14:19:20.583Z"
   },
   {
    "duration": 20,
    "start_time": "2024-09-25T14:19:20.588Z"
   },
   {
    "duration": 9,
    "start_time": "2024-09-25T14:19:20.610Z"
   },
   {
    "duration": 323,
    "start_time": "2024-09-25T14:19:20.620Z"
   },
   {
    "duration": 4,
    "start_time": "2024-09-25T14:19:20.947Z"
   },
   {
    "duration": 193,
    "start_time": "2024-09-25T14:19:20.952Z"
   },
   {
    "duration": 17,
    "start_time": "2024-09-25T14:19:21.146Z"
   },
   {
    "duration": 204,
    "start_time": "2024-09-25T14:19:21.165Z"
   },
   {
    "duration": 215,
    "start_time": "2024-09-25T14:19:21.370Z"
   },
   {
    "duration": 5,
    "start_time": "2024-09-25T14:19:21.586Z"
   },
   {
    "duration": 42,
    "start_time": "2024-09-25T14:19:21.592Z"
   },
   {
    "duration": 210,
    "start_time": "2024-09-25T14:19:21.635Z"
   },
   {
    "duration": 296,
    "start_time": "2024-09-25T14:19:21.846Z"
   },
   {
    "duration": 201,
    "start_time": "2024-09-25T14:19:22.144Z"
   },
   {
    "duration": 8,
    "start_time": "2024-09-25T14:19:22.347Z"
   },
   {
    "duration": 214,
    "start_time": "2024-09-25T14:19:22.357Z"
   },
   {
    "duration": 9,
    "start_time": "2024-09-25T14:19:22.572Z"
   },
   {
    "duration": 162,
    "start_time": "2024-09-25T14:19:22.582Z"
   },
   {
    "duration": 189,
    "start_time": "2024-09-25T14:19:22.746Z"
   },
   {
    "duration": 136,
    "start_time": "2024-09-25T14:19:22.937Z"
   },
   {
    "duration": 169,
    "start_time": "2024-09-25T14:19:23.075Z"
   },
   {
    "duration": 179,
    "start_time": "2024-09-25T14:19:23.245Z"
   },
   {
    "duration": 228,
    "start_time": "2024-09-25T14:19:23.425Z"
   },
   {
    "duration": 160,
    "start_time": "2024-09-25T14:19:23.655Z"
   },
   {
    "duration": 205,
    "start_time": "2024-09-25T14:19:23.816Z"
   },
   {
    "duration": 10,
    "start_time": "2024-09-25T14:19:24.022Z"
   },
   {
    "duration": 27,
    "start_time": "2024-09-25T14:19:24.034Z"
   },
   {
    "duration": 609,
    "start_time": "2024-09-25T14:19:24.062Z"
   },
   {
    "duration": 6,
    "start_time": "2024-09-25T14:19:24.673Z"
   },
   {
    "duration": 825,
    "start_time": "2024-09-25T14:19:24.680Z"
   },
   {
    "duration": 20,
    "start_time": "2024-09-25T14:19:25.509Z"
   },
   {
    "duration": 158,
    "start_time": "2024-09-25T14:19:25.531Z"
   },
   {
    "duration": 1175,
    "start_time": "2024-09-25T14:25:38.458Z"
   },
   {
    "duration": 30,
    "start_time": "2024-09-25T14:25:39.634Z"
   },
   {
    "duration": 43,
    "start_time": "2024-09-25T14:25:39.666Z"
   },
   {
    "duration": 18,
    "start_time": "2024-09-25T14:25:39.711Z"
   },
   {
    "duration": 90,
    "start_time": "2024-09-25T14:25:39.731Z"
   },
   {
    "duration": 23,
    "start_time": "2024-09-25T14:25:39.824Z"
   },
   {
    "duration": 1877,
    "start_time": "2024-09-25T14:25:39.849Z"
   },
   {
    "duration": 10,
    "start_time": "2024-09-25T14:25:41.728Z"
   },
   {
    "duration": 11,
    "start_time": "2024-09-25T14:25:41.740Z"
   },
   {
    "duration": 16,
    "start_time": "2024-09-25T14:25:41.754Z"
   },
   {
    "duration": 6,
    "start_time": "2024-09-25T14:25:41.771Z"
   },
   {
    "duration": 30,
    "start_time": "2024-09-25T14:25:41.779Z"
   },
   {
    "duration": 4,
    "start_time": "2024-09-25T14:25:41.811Z"
   },
   {
    "duration": 133,
    "start_time": "2024-09-25T14:25:41.817Z"
   },
   {
    "duration": 16,
    "start_time": "2024-09-25T14:25:41.952Z"
   },
   {
    "duration": 11,
    "start_time": "2024-09-25T14:25:41.970Z"
   },
   {
    "duration": 28,
    "start_time": "2024-09-25T14:25:41.982Z"
   },
   {
    "duration": 22,
    "start_time": "2024-09-25T14:25:42.012Z"
   },
   {
    "duration": 10,
    "start_time": "2024-09-25T14:25:42.035Z"
   },
   {
    "duration": 10,
    "start_time": "2024-09-25T14:25:42.046Z"
   },
   {
    "duration": 8,
    "start_time": "2024-09-25T14:25:42.057Z"
   },
   {
    "duration": 62,
    "start_time": "2024-09-25T14:25:42.066Z"
   },
   {
    "duration": 9,
    "start_time": "2024-09-25T14:25:42.130Z"
   },
   {
    "duration": 35,
    "start_time": "2024-09-25T14:25:42.140Z"
   },
   {
    "duration": 4,
    "start_time": "2024-09-25T14:25:42.177Z"
   },
   {
    "duration": 5,
    "start_time": "2024-09-25T14:25:42.182Z"
   },
   {
    "duration": 9,
    "start_time": "2024-09-25T14:25:42.189Z"
   },
   {
    "duration": 17,
    "start_time": "2024-09-25T14:25:42.201Z"
   },
   {
    "duration": 147,
    "start_time": "2024-09-25T14:25:42.220Z"
   },
   {
    "duration": 9,
    "start_time": "2024-09-25T14:25:42.368Z"
   },
   {
    "duration": 17,
    "start_time": "2024-09-25T14:25:42.378Z"
   },
   {
    "duration": 15,
    "start_time": "2024-09-25T14:25:42.397Z"
   },
   {
    "duration": 14,
    "start_time": "2024-09-25T14:25:42.414Z"
   },
   {
    "duration": 29,
    "start_time": "2024-09-25T14:25:42.429Z"
   },
   {
    "duration": 13,
    "start_time": "2024-09-25T14:25:42.460Z"
   },
   {
    "duration": 1251,
    "start_time": "2024-09-25T14:25:42.474Z"
   },
   {
    "duration": 5,
    "start_time": "2024-09-25T14:25:43.726Z"
   },
   {
    "duration": 32,
    "start_time": "2024-09-25T14:25:43.732Z"
   },
   {
    "duration": 9,
    "start_time": "2024-09-25T14:25:43.765Z"
   },
   {
    "duration": 308,
    "start_time": "2024-09-25T14:25:43.775Z"
   },
   {
    "duration": 4,
    "start_time": "2024-09-25T14:25:44.085Z"
   },
   {
    "duration": 189,
    "start_time": "2024-09-25T14:25:44.090Z"
   },
   {
    "duration": 16,
    "start_time": "2024-09-25T14:25:44.280Z"
   },
   {
    "duration": 235,
    "start_time": "2024-09-25T14:25:44.297Z"
   },
   {
    "duration": 205,
    "start_time": "2024-09-25T14:25:44.534Z"
   },
   {
    "duration": 4,
    "start_time": "2024-09-25T14:25:44.741Z"
   },
   {
    "duration": 31,
    "start_time": "2024-09-25T14:25:44.746Z"
   },
   {
    "duration": 291,
    "start_time": "2024-09-25T14:25:44.779Z"
   },
   {
    "duration": 190,
    "start_time": "2024-09-25T14:25:45.071Z"
   },
   {
    "duration": 197,
    "start_time": "2024-09-25T14:25:45.263Z"
   },
   {
    "duration": 8,
    "start_time": "2024-09-25T14:25:45.461Z"
   },
   {
    "duration": 211,
    "start_time": "2024-09-25T14:25:45.470Z"
   },
   {
    "duration": 10,
    "start_time": "2024-09-25T14:25:45.682Z"
   },
   {
    "duration": 208,
    "start_time": "2024-09-25T14:25:45.693Z"
   },
   {
    "duration": 79,
    "start_time": "2024-09-25T14:25:45.903Z"
   },
   {
    "duration": 184,
    "start_time": "2024-09-25T14:25:45.984Z"
   },
   {
    "duration": 90,
    "start_time": "2024-09-25T14:25:46.169Z"
   },
   {
    "duration": 131,
    "start_time": "2024-09-25T14:25:46.261Z"
   },
   {
    "duration": 167,
    "start_time": "2024-09-25T14:25:46.393Z"
   },
   {
    "duration": 171,
    "start_time": "2024-09-25T14:25:46.562Z"
   },
   {
    "duration": 281,
    "start_time": "2024-09-25T14:25:46.735Z"
   },
   {
    "duration": 210,
    "start_time": "2024-09-25T14:25:47.017Z"
   },
   {
    "duration": 11,
    "start_time": "2024-09-25T14:25:47.228Z"
   },
   {
    "duration": 24,
    "start_time": "2024-09-25T14:25:47.240Z"
   },
   {
    "duration": 543,
    "start_time": "2024-09-25T14:25:47.266Z"
   },
   {
    "duration": 6,
    "start_time": "2024-09-25T14:25:47.811Z"
   },
   {
    "duration": 802,
    "start_time": "2024-09-25T14:25:47.819Z"
   },
   {
    "duration": 20,
    "start_time": "2024-09-25T14:25:48.623Z"
   },
   {
    "duration": 147,
    "start_time": "2024-09-25T14:25:48.645Z"
   },
   {
    "duration": 1170,
    "start_time": "2024-09-25T14:26:05.025Z"
   },
   {
    "duration": 29,
    "start_time": "2024-09-25T14:26:06.197Z"
   },
   {
    "duration": 46,
    "start_time": "2024-09-25T14:26:06.228Z"
   },
   {
    "duration": 72,
    "start_time": "2024-09-25T14:26:06.275Z"
   },
   {
    "duration": 90,
    "start_time": "2024-09-25T14:26:06.349Z"
   },
   {
    "duration": 21,
    "start_time": "2024-09-25T14:26:06.440Z"
   },
   {
    "duration": 1862,
    "start_time": "2024-09-25T14:26:06.463Z"
   },
   {
    "duration": 7,
    "start_time": "2024-09-25T14:26:08.327Z"
   },
   {
    "duration": 48,
    "start_time": "2024-09-25T14:26:08.336Z"
   },
   {
    "duration": 8,
    "start_time": "2024-09-25T14:26:08.385Z"
   },
   {
    "duration": 4,
    "start_time": "2024-09-25T14:26:08.395Z"
   },
   {
    "duration": 29,
    "start_time": "2024-09-25T14:26:08.400Z"
   },
   {
    "duration": 3,
    "start_time": "2024-09-25T14:26:08.431Z"
   },
   {
    "duration": 118,
    "start_time": "2024-09-25T14:26:08.437Z"
   },
   {
    "duration": 15,
    "start_time": "2024-09-25T14:26:08.557Z"
   },
   {
    "duration": 4,
    "start_time": "2024-09-25T14:26:08.573Z"
   },
   {
    "duration": 26,
    "start_time": "2024-09-25T14:26:08.579Z"
   },
   {
    "duration": 41,
    "start_time": "2024-09-25T14:26:08.606Z"
   },
   {
    "duration": 7,
    "start_time": "2024-09-25T14:26:08.649Z"
   },
   {
    "duration": 37,
    "start_time": "2024-09-25T14:26:08.658Z"
   },
   {
    "duration": 40,
    "start_time": "2024-09-25T14:26:08.697Z"
   },
   {
    "duration": 36,
    "start_time": "2024-09-25T14:26:08.738Z"
   },
   {
    "duration": 6,
    "start_time": "2024-09-25T14:26:08.776Z"
   },
   {
    "duration": 8,
    "start_time": "2024-09-25T14:26:08.784Z"
   },
   {
    "duration": 18,
    "start_time": "2024-09-25T14:26:08.794Z"
   },
   {
    "duration": 6,
    "start_time": "2024-09-25T14:26:08.814Z"
   },
   {
    "duration": 33,
    "start_time": "2024-09-25T14:26:08.822Z"
   },
   {
    "duration": 20,
    "start_time": "2024-09-25T14:26:08.856Z"
   },
   {
    "duration": 163,
    "start_time": "2024-09-25T14:26:08.877Z"
   },
   {
    "duration": 9,
    "start_time": "2024-09-25T14:26:09.041Z"
   },
   {
    "duration": 25,
    "start_time": "2024-09-25T14:26:09.051Z"
   },
   {
    "duration": 8,
    "start_time": "2024-09-25T14:26:09.077Z"
   },
   {
    "duration": 14,
    "start_time": "2024-09-25T14:26:09.086Z"
   },
   {
    "duration": 45,
    "start_time": "2024-09-25T14:26:09.101Z"
   },
   {
    "duration": 12,
    "start_time": "2024-09-25T14:26:09.147Z"
   },
   {
    "duration": 1212,
    "start_time": "2024-09-25T14:26:09.161Z"
   },
   {
    "duration": 4,
    "start_time": "2024-09-25T14:26:10.375Z"
   },
   {
    "duration": 11,
    "start_time": "2024-09-25T14:26:10.380Z"
   },
   {
    "duration": 18,
    "start_time": "2024-09-25T14:26:10.392Z"
   },
   {
    "duration": 323,
    "start_time": "2024-09-25T14:26:10.412Z"
   },
   {
    "duration": 4,
    "start_time": "2024-09-25T14:26:10.739Z"
   },
   {
    "duration": 178,
    "start_time": "2024-09-25T14:26:10.744Z"
   },
   {
    "duration": 17,
    "start_time": "2024-09-25T14:26:10.924Z"
   },
   {
    "duration": 197,
    "start_time": "2024-09-25T14:26:10.942Z"
   },
   {
    "duration": 211,
    "start_time": "2024-09-25T14:26:11.140Z"
   },
   {
    "duration": 4,
    "start_time": "2024-09-25T14:26:11.352Z"
   },
   {
    "duration": 21,
    "start_time": "2024-09-25T14:26:11.357Z"
   },
   {
    "duration": 308,
    "start_time": "2024-09-25T14:26:11.379Z"
   },
   {
    "duration": 177,
    "start_time": "2024-09-25T14:26:11.688Z"
   },
   {
    "duration": 191,
    "start_time": "2024-09-25T14:26:11.866Z"
   },
   {
    "duration": 7,
    "start_time": "2024-09-25T14:26:12.058Z"
   },
   {
    "duration": 206,
    "start_time": "2024-09-25T14:26:12.067Z"
   },
   {
    "duration": 9,
    "start_time": "2024-09-25T14:26:12.274Z"
   },
   {
    "duration": 143,
    "start_time": "2024-09-25T14:26:12.284Z"
   },
   {
    "duration": 168,
    "start_time": "2024-09-25T14:26:12.428Z"
   },
   {
    "duration": 131,
    "start_time": "2024-09-25T14:26:12.597Z"
   },
   {
    "duration": 163,
    "start_time": "2024-09-25T14:26:12.729Z"
   },
   {
    "duration": 85,
    "start_time": "2024-09-25T14:26:12.893Z"
   },
   {
    "duration": 179,
    "start_time": "2024-09-25T14:26:12.979Z"
   },
   {
    "duration": 151,
    "start_time": "2024-09-25T14:26:13.159Z"
   },
   {
    "duration": 221,
    "start_time": "2024-09-25T14:26:13.311Z"
   },
   {
    "duration": 218,
    "start_time": "2024-09-25T14:26:13.533Z"
   },
   {
    "duration": 10,
    "start_time": "2024-09-25T14:26:13.752Z"
   },
   {
    "duration": 46,
    "start_time": "2024-09-25T14:26:13.763Z"
   },
   {
    "duration": 511,
    "start_time": "2024-09-25T14:26:13.810Z"
   },
   {
    "duration": 6,
    "start_time": "2024-09-25T14:26:14.322Z"
   },
   {
    "duration": 839,
    "start_time": "2024-09-25T14:26:14.329Z"
   },
   {
    "duration": 21,
    "start_time": "2024-09-25T14:26:15.169Z"
   },
   {
    "duration": 147,
    "start_time": "2024-09-25T14:26:15.192Z"
   },
   {
    "duration": 60,
    "start_time": "2024-10-07T12:34:47.556Z"
   },
   {
    "duration": 54,
    "start_time": "2024-10-07T12:34:55.044Z"
   },
   {
    "duration": 57,
    "start_time": "2024-10-07T12:35:36.299Z"
   },
   {
    "duration": 44,
    "start_time": "2024-10-07T12:35:41.530Z"
   },
   {
    "duration": 45,
    "start_time": "2024-10-07T12:36:45.296Z"
   },
   {
    "duration": 1361,
    "start_time": "2024-10-07T12:36:52.722Z"
   },
   {
    "duration": 59,
    "start_time": "2024-10-07T12:36:54.085Z"
   },
   {
    "duration": 315,
    "start_time": "2024-10-07T12:37:02.699Z"
   },
   {
    "duration": 33,
    "start_time": "2024-10-07T12:37:05.072Z"
   },
   {
    "duration": 40,
    "start_time": "2024-10-07T12:37:46.739Z"
   },
   {
    "duration": 22,
    "start_time": "2024-10-07T12:38:03.169Z"
   },
   {
    "duration": 20,
    "start_time": "2024-10-07T12:38:50.313Z"
   },
   {
    "duration": 15,
    "start_time": "2024-10-07T12:38:51.158Z"
   },
   {
    "duration": 79,
    "start_time": "2024-10-07T12:38:51.741Z"
   },
   {
    "duration": 27,
    "start_time": "2024-10-07T12:38:52.988Z"
   },
   {
    "duration": 2029,
    "start_time": "2024-10-07T12:38:53.599Z"
   },
   {
    "duration": 16,
    "start_time": "2024-10-07T12:39:01.790Z"
   },
   {
    "duration": 12,
    "start_time": "2024-10-07T12:39:02.341Z"
   },
   {
    "duration": 9,
    "start_time": "2024-10-07T12:39:04.321Z"
   },
   {
    "duration": 5,
    "start_time": "2024-10-07T12:39:11.960Z"
   },
   {
    "duration": 12,
    "start_time": "2024-10-07T12:39:12.650Z"
   },
   {
    "duration": 3,
    "start_time": "2024-10-07T12:39:13.567Z"
   },
   {
    "duration": 126,
    "start_time": "2024-10-07T12:39:15.589Z"
   },
   {
    "duration": 16,
    "start_time": "2024-10-07T12:39:16.868Z"
   },
   {
    "duration": 5,
    "start_time": "2024-10-07T12:39:17.709Z"
   },
   {
    "duration": 5,
    "start_time": "2024-10-07T12:39:19.099Z"
   },
   {
    "duration": 21,
    "start_time": "2024-10-07T12:39:21.443Z"
   },
   {
    "duration": 8,
    "start_time": "2024-10-07T12:39:23.644Z"
   },
   {
    "duration": 3,
    "start_time": "2024-10-07T12:39:24.753Z"
   },
   {
    "duration": 6,
    "start_time": "2024-10-07T12:39:25.669Z"
   },
   {
    "duration": 25,
    "start_time": "2024-10-07T12:39:26.312Z"
   },
   {
    "duration": 7,
    "start_time": "2024-10-07T12:39:27.341Z"
   },
   {
    "duration": 5,
    "start_time": "2024-10-07T12:39:28.363Z"
   },
   {
    "duration": 5,
    "start_time": "2024-10-07T12:39:28.861Z"
   },
   {
    "duration": 6,
    "start_time": "2024-10-07T12:39:29.725Z"
   },
   {
    "duration": 4,
    "start_time": "2024-10-07T12:39:29.952Z"
   },
   {
    "duration": 22,
    "start_time": "2024-10-07T12:39:30.792Z"
   },
   {
    "duration": 160,
    "start_time": "2024-10-07T12:39:34.462Z"
   },
   {
    "duration": 9,
    "start_time": "2024-10-07T12:39:36.149Z"
   },
   {
    "duration": 5,
    "start_time": "2024-10-07T12:39:37.246Z"
   },
   {
    "duration": 7,
    "start_time": "2024-10-07T12:39:38.567Z"
   },
   {
    "duration": 13,
    "start_time": "2024-10-07T12:39:39.616Z"
   },
   {
    "duration": 30,
    "start_time": "2024-10-07T12:39:41.666Z"
   },
   {
    "duration": 15,
    "start_time": "2024-10-07T12:39:42.291Z"
   },
   {
    "duration": 1260,
    "start_time": "2024-10-07T12:39:44.599Z"
   },
   {
    "duration": 7,
    "start_time": "2024-10-07T12:39:48.161Z"
   },
   {
    "duration": 8,
    "start_time": "2024-10-07T12:39:49.179Z"
   },
   {
    "duration": 9,
    "start_time": "2024-10-07T12:39:50.465Z"
   },
   {
    "duration": 332,
    "start_time": "2024-10-07T12:39:51.488Z"
   },
   {
    "duration": 5,
    "start_time": "2024-10-07T12:39:56.141Z"
   },
   {
    "duration": 233,
    "start_time": "2024-10-07T12:39:58.090Z"
   },
   {
    "duration": 18,
    "start_time": "2024-10-07T12:39:59.477Z"
   },
   {
    "duration": 204,
    "start_time": "2024-10-07T12:40:00.986Z"
   },
   {
    "duration": 235,
    "start_time": "2024-10-07T12:40:02.207Z"
   },
   {
    "duration": 4,
    "start_time": "2024-10-07T12:40:03.360Z"
   },
   {
    "duration": 21,
    "start_time": "2024-10-07T12:40:04.709Z"
   },
   {
    "duration": 352,
    "start_time": "2024-10-07T12:40:05.361Z"
   },
   {
    "duration": 192,
    "start_time": "2024-10-07T12:40:06.675Z"
   },
   {
    "duration": 250,
    "start_time": "2024-10-07T12:40:08.060Z"
   },
   {
    "duration": 14,
    "start_time": "2024-10-07T12:40:09.486Z"
   },
   {
    "duration": 251,
    "start_time": "2024-10-07T12:40:10.252Z"
   },
   {
    "duration": 205,
    "start_time": "2024-10-07T12:41:56.996Z"
   },
   {
    "duration": 170,
    "start_time": "2024-10-07T12:44:01.644Z"
   },
   {
    "duration": 1275,
    "start_time": "2024-10-07T15:49:07.003Z"
   },
   {
    "duration": 103,
    "start_time": "2024-10-07T15:49:08.280Z"
   },
   {
    "duration": 35,
    "start_time": "2024-10-07T15:49:08.385Z"
   },
   {
    "duration": 25,
    "start_time": "2024-10-07T15:49:08.422Z"
   },
   {
    "duration": 22,
    "start_time": "2024-10-07T15:49:08.450Z"
   },
   {
    "duration": 99,
    "start_time": "2024-10-07T15:49:08.474Z"
   },
   {
    "duration": 25,
    "start_time": "2024-10-07T15:49:08.575Z"
   },
   {
    "duration": 2214,
    "start_time": "2024-10-07T15:49:08.602Z"
   },
   {
    "duration": 20,
    "start_time": "2024-10-07T15:49:10.818Z"
   },
   {
    "duration": 21,
    "start_time": "2024-10-07T15:49:10.840Z"
   },
   {
    "duration": 11,
    "start_time": "2024-10-07T15:49:10.863Z"
   },
   {
    "duration": 7,
    "start_time": "2024-10-07T15:49:10.876Z"
   },
   {
    "duration": 48,
    "start_time": "2024-10-07T15:49:10.885Z"
   },
   {
    "duration": 4,
    "start_time": "2024-10-07T15:49:10.938Z"
   },
   {
    "duration": 169,
    "start_time": "2024-10-07T15:49:10.944Z"
   },
   {
    "duration": 17,
    "start_time": "2024-10-07T15:49:11.121Z"
   },
   {
    "duration": 21,
    "start_time": "2024-10-07T15:49:11.140Z"
   },
   {
    "duration": 6,
    "start_time": "2024-10-07T15:49:11.163Z"
   },
   {
    "duration": 53,
    "start_time": "2024-10-07T15:49:11.170Z"
   },
   {
    "duration": 11,
    "start_time": "2024-10-07T15:49:11.225Z"
   },
   {
    "duration": 5,
    "start_time": "2024-10-07T15:49:11.238Z"
   },
   {
    "duration": 9,
    "start_time": "2024-10-07T15:49:11.245Z"
   },
   {
    "duration": 70,
    "start_time": "2024-10-07T15:49:11.257Z"
   },
   {
    "duration": 9,
    "start_time": "2024-10-07T15:49:11.329Z"
   },
   {
    "duration": 12,
    "start_time": "2024-10-07T15:49:11.340Z"
   },
   {
    "duration": 5,
    "start_time": "2024-10-07T15:49:11.354Z"
   },
   {
    "duration": 7,
    "start_time": "2024-10-07T15:49:11.361Z"
   },
   {
    "duration": 23,
    "start_time": "2024-10-07T15:49:11.370Z"
   },
   {
    "duration": 66,
    "start_time": "2024-10-07T15:49:11.395Z"
   },
   {
    "duration": 176,
    "start_time": "2024-10-07T15:49:11.463Z"
   },
   {
    "duration": 10,
    "start_time": "2024-10-07T15:49:11.641Z"
   },
   {
    "duration": 30,
    "start_time": "2024-10-07T15:49:11.653Z"
   },
   {
    "duration": 85,
    "start_time": "2024-10-07T15:49:11.685Z"
   },
   {
    "duration": 15,
    "start_time": "2024-10-07T15:49:11.772Z"
   },
   {
    "duration": 49,
    "start_time": "2024-10-07T15:49:11.788Z"
   },
   {
    "duration": 21,
    "start_time": "2024-10-07T15:49:11.840Z"
   },
   {
    "duration": 1474,
    "start_time": "2024-10-07T15:49:11.863Z"
   },
   {
    "duration": 5,
    "start_time": "2024-10-07T15:49:13.339Z"
   },
   {
    "duration": 9,
    "start_time": "2024-10-07T15:49:13.346Z"
   },
   {
    "duration": 42,
    "start_time": "2024-10-07T15:49:13.357Z"
   },
   {
    "duration": 368,
    "start_time": "2024-10-07T15:49:13.407Z"
   },
   {
    "duration": 5,
    "start_time": "2024-10-07T15:49:13.776Z"
   },
   {
    "duration": 256,
    "start_time": "2024-10-07T15:49:13.783Z"
   },
   {
    "duration": 16,
    "start_time": "2024-10-07T15:49:14.041Z"
   },
   {
    "duration": 240,
    "start_time": "2024-10-07T15:49:14.059Z"
   },
   {
    "duration": 247,
    "start_time": "2024-10-07T15:49:14.300Z"
   },
   {
    "duration": 5,
    "start_time": "2024-10-07T15:49:14.549Z"
   },
   {
    "duration": 23,
    "start_time": "2024-10-07T15:49:14.556Z"
   },
   {
    "duration": 436,
    "start_time": "2024-10-07T15:49:14.581Z"
   },
   {
    "duration": 266,
    "start_time": "2024-10-07T15:49:15.021Z"
   },
   {
    "duration": 234,
    "start_time": "2024-10-07T15:49:15.289Z"
   },
   {
    "duration": 12,
    "start_time": "2024-10-07T15:49:15.525Z"
   },
   {
    "duration": 259,
    "start_time": "2024-10-07T15:49:15.539Z"
   },
   {
    "duration": 25,
    "start_time": "2024-10-07T15:49:15.799Z"
   },
   {
    "duration": 172,
    "start_time": "2024-10-07T15:49:15.826Z"
   },
   {
    "duration": 209,
    "start_time": "2024-10-07T15:49:16.000Z"
   },
   {
    "duration": 163,
    "start_time": "2024-10-07T15:49:16.211Z"
   },
   {
    "duration": 200,
    "start_time": "2024-10-07T15:49:16.376Z"
   },
   {
    "duration": 217,
    "start_time": "2024-10-07T15:49:16.578Z"
   },
   {
    "duration": 334,
    "start_time": "2024-10-07T15:49:16.797Z"
   },
   {
    "duration": 211,
    "start_time": "2024-10-07T15:49:17.134Z"
   },
   {
    "duration": 11,
    "start_time": "2024-10-07T15:49:17.347Z"
   },
   {
    "duration": 74,
    "start_time": "2024-10-07T15:49:17.360Z"
   },
   {
    "duration": 644,
    "start_time": "2024-10-07T15:49:17.436Z"
   },
   {
    "duration": 9,
    "start_time": "2024-10-07T15:49:18.082Z"
   },
   {
    "duration": 797,
    "start_time": "2024-10-07T15:49:18.093Z"
   },
   {
    "duration": 33,
    "start_time": "2024-10-07T15:49:18.892Z"
   },
   {
    "duration": 161,
    "start_time": "2024-10-07T15:49:18.926Z"
   },
   {
    "duration": 84,
    "start_time": "2024-10-07T15:50:13.444Z"
   }
  ],
  "colab": {
   "provenance": []
  },
  "kernelspec": {
   "display_name": "Python 3 (ipykernel)",
   "language": "python",
   "name": "python3"
  },
  "language_info": {
   "codemirror_mode": {
    "name": "ipython",
    "version": 3
   },
   "file_extension": ".py",
   "mimetype": "text/x-python",
   "name": "python",
   "nbconvert_exporter": "python",
   "pygments_lexer": "ipython3",
   "version": "3.9.21"
  },
  "toc": {
   "base_numbering": 1,
   "nav_menu": {},
   "number_sections": true,
   "sideBar": true,
   "skip_h1_title": true,
   "title_cell": "Table of Contents",
   "title_sidebar": "Contents",
   "toc_cell": false,
   "toc_position": {},
   "toc_section_display": true,
   "toc_window_display": false
  }
 },
 "nbformat": 4,
 "nbformat_minor": 4
}
